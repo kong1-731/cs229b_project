{
  "cells": [
    {
      "cell_type": "markdown",
      "source": [
        "Run 0-4, skip forward-filling the model (#5), and continue with the rest of the steps to create the missing data matrix. Otherwise run steps 0-5 and skip 7A for the imputed data (continue with the rest of steps)."
      ],
      "metadata": {
        "id": "82t7-mC4rjXW"
      }
    },
    {
      "cell_type": "markdown",
      "metadata": {
        "id": "5-9Bq37-HJaI"
      },
      "source": [
        "# Setup environment and install packages"
      ]
    },
    {
      "cell_type": "code",
      "execution_count": null,
      "metadata": {
        "colab": {
          "base_uri": "https://localhost:8080/"
        },
        "id": "O1Z6huxEEVyL",
        "outputId": "719d627a-3147-4aef-97e6-a1b1ccaadf71"
      },
      "outputs": [
        {
          "output_type": "stream",
          "name": "stdout",
          "text": [
            "Mounted at /content/drive\n",
            "/content/drive/MyDrive/CS229btimeseries/Project\n"
          ]
        }
      ],
      "source": [
        "from google.colab import drive\n",
        "drive.mount('/content/drive')\n",
        "%cd drive/MyDrive/CS229btimeseries/Project/"
      ]
    },
    {
      "cell_type": "code",
      "execution_count": null,
      "metadata": {
        "colab": {
          "base_uri": "https://localhost:8080/"
        },
        "id": "zy15G6pKEzTT",
        "outputId": "6c2e2d51-1b9b-4157-cb74-097c65f4002a"
      },
      "outputs": [
        {
          "output_type": "stream",
          "name": "stdout",
          "text": [
            " accuracy_training_val\n",
            " alternate_copyRNN_LSTM_code_11_15_2023_v3.ipynb\n",
            " classification_neuralODE_11_27_23.ipynb\n",
            "'Copy of rnn_attempt_11_2_2023 (1).ipynb'\n",
            "'Copy of rnn_attempt_11_2_2023.ipynb'\n",
            " CS229B_project_code_11_28_2023.ipynb\n",
            " CS229B_project_neuralcde_12_2_2023.ipynb\n",
            " CS229B_reduced_ds_RNN_LSTM_12_5_2023.ipynb\n",
            " CS229B_RNN_LSTM_12_5_2023.ipynb\n",
            " CS229B_RNN_LSTM_12_6_2023.ipynb\n",
            " dataset_time_masks_missing_20231206.pt\n",
            " featurenames_CS229B_project\n",
            " featurenames_sepsis_ds\n",
            " format_CS229B_project_data_12_3_2023.ipynb\n",
            " my_processed_datasets\n",
            " my_RNN_LSTM_code_11_13_2023_v2.ipynb\n",
            " open_physionet_data.ipynb\n",
            " plot_precision_recall.ipynb\n",
            " requirements_cs229b.txt\n",
            " sepsis_comp_physionet_2019\n",
            " signatory\n",
            " trainacc_CDEnew22_lr12.pt\n",
            " trainacc_CDEnew22_lr13.pt\n",
            " trainacc_CDEnew42_lr12.pt\n",
            " trainacc_CDEnew42.pt\n",
            " trainacc_CDEnew84_lr12.pt\n",
            " trainacc_CDE.pt\n",
            " trainacc_LSTMbest.pt\n",
            " trainacc_LSTMnew1.pt\n",
            " trainacc_LSTMnew.pt\n",
            " trainacc_neuralODEbest.pt\n",
            " trainacc_RNNnew.pt\n",
            " trainacc_RNN.pt\n",
            " trainloss_CDEnew22_lr12.pt\n",
            " trainloss_CDEnew22_lr13.pt\n",
            " trainloss_CDEnew42_lr12.pt\n",
            " trainloss_CDEnew42.pt\n",
            " trainloss_CDEnew84_lr12.pt\n",
            " trainloss_CDE.pt\n",
            " trainloss_LSTMbest.pt\n",
            " trainloss_LSTMnew1.pt\n",
            " trainloss_LSTMnew.pt\n",
            " trainloss_neuralODEbest.pt\n",
            " trainloss_RNNnew.pt\n",
            " trainloss_RNN.pt\n",
            " train_model.ipynb\n",
            " train_val_test_sepsis_datasets\n",
            " trying_different_classification_metrics_11_8.ipynb\n",
            " trying_to_install_nevergrad_successfully.ipynb\n",
            " valacc_CDEnew22_lr12.pt\n",
            " valacc_CDEnew22_lr13.pt\n",
            " valacc_CDEnew42_lr12.pt\n",
            " valacc_CDEnew42.pt\n",
            " valacc_CDEnew84_lr12.pt\n",
            " valacc_CDE.pt\n",
            " valacc_LSTMbest.pt\n",
            " valacc_LSTMnew1.pt\n",
            " valacc_LSTMnew.pt\n",
            " valacc_neuralODEbest.pt\n",
            " valacc_RNNnew.pt\n",
            " valacc_RNN.pt\n",
            " valloss_CDEnew22_lr12.pt\n",
            " valloss_CDEnew22_lr13.pt\n",
            " valloss_CDEnew42_lr12.pt\n",
            " valloss_CDEnew42.pt\n",
            " valloss_CDEnew84_lr12.pt\n",
            " valloss_CDE.pt\n",
            " valloss_LSTMbest.pt\n",
            " valloss_LSTMnew1.pt\n",
            " valloss_LSTMnew.pt\n",
            " valloss_neuralODEbest.pt\n",
            " valloss_RNNnew.pt\n",
            " valloss_RNN.pt\n"
          ]
        }
      ],
      "source": [
        "!ls"
      ]
    },
    {
      "cell_type": "markdown",
      "metadata": {
        "id": "qHhjPiQ24BXL"
      },
      "source": [
        "# Install packages to load data\n",
        "\n",
        "Load the requirements to use the sepsis 2019 PhysioNet winner dataloader/ preprocessing functions."
      ]
    },
    {
      "cell_type": "code",
      "execution_count": null,
      "metadata": {
        "colab": {
          "base_uri": "https://localhost:8080/"
        },
        "id": "G2eUChO0Hnpf",
        "outputId": "05e4dd4d-e218-4c3d-a424-e01067cfa651"
      },
      "outputs": [
        {
          "output_type": "stream",
          "name": "stdout",
          "text": [
            "Found existing installation: numpy 1.23.5\n",
            "Uninstalling numpy-1.23.5:\n",
            "  Would remove:\n",
            "    /usr/local/bin/f2py\n",
            "    /usr/local/bin/f2py3\n",
            "    /usr/local/bin/f2py3.10\n",
            "    /usr/local/lib/python3.10/dist-packages/numpy-1.23.5.dist-info/*\n",
            "    /usr/local/lib/python3.10/dist-packages/numpy.libs/libgfortran-040039e1.so.5.0.0\n",
            "    /usr/local/lib/python3.10/dist-packages/numpy.libs/libopenblas64_p-r0-742d56dc.3.20.so\n",
            "    /usr/local/lib/python3.10/dist-packages/numpy.libs/libquadmath-96973f99.so.0.0.0\n",
            "    /usr/local/lib/python3.10/dist-packages/numpy/*\n",
            "Proceed (Y/n)? y\n",
            "  Successfully uninstalled numpy-1.23.5\n",
            "Collecting numpy==1.26.1 (from -r requirements_cs229b.txt (line 1))\n",
            "  Downloading numpy-1.26.1-cp310-cp310-manylinux_2_17_x86_64.manylinux2014_x86_64.whl (18.2 MB)\n",
            "\u001b[2K     \u001b[90m━━━━━━━━━━━━━━━━━━━━━━━━━━━━━━━━━━━━━━━━\u001b[0m \u001b[32m18.2/18.2 MB\u001b[0m \u001b[31m47.5 MB/s\u001b[0m eta \u001b[36m0:00:00\u001b[0m\n",
            "\u001b[?25hRequirement already satisfied: torch==2.1.0+cu118 in /usr/local/lib/python3.10/dist-packages (from -r requirements_cs229b.txt (line 2)) (2.1.0+cu118)\n",
            "Collecting nevergrad==1.0.0 (from -r requirements_cs229b.txt (line 3))\n",
            "  Downloading nevergrad-1.0.0-py3-none-any.whl (477 kB)\n",
            "\u001b[2K     \u001b[90m━━━━━━━━━━━━━━━━━━━━━━━━━━━━━━━━━━━━━━━━\u001b[0m \u001b[32m477.1/477.1 kB\u001b[0m \u001b[31m39.8 MB/s\u001b[0m eta \u001b[36m0:00:00\u001b[0m\n",
            "\u001b[?25hCollecting dill==0.3.7 (from -r requirements_cs229b.txt (line 4))\n",
            "  Downloading dill-0.3.7-py3-none-any.whl (115 kB)\n",
            "\u001b[2K     \u001b[90m━━━━━━━━━━━━━━━━━━━━━━━━━━━━━━━━━━━━━━━━\u001b[0m \u001b[32m115.3/115.3 kB\u001b[0m \u001b[31m14.8 MB/s\u001b[0m eta \u001b[36m0:00:00\u001b[0m\n",
            "\u001b[?25hRequirement already satisfied: filelock in /usr/local/lib/python3.10/dist-packages (from torch==2.1.0+cu118->-r requirements_cs229b.txt (line 2)) (3.13.1)\n",
            "Requirement already satisfied: typing-extensions in /usr/local/lib/python3.10/dist-packages (from torch==2.1.0+cu118->-r requirements_cs229b.txt (line 2)) (4.5.0)\n",
            "Requirement already satisfied: sympy in /usr/local/lib/python3.10/dist-packages (from torch==2.1.0+cu118->-r requirements_cs229b.txt (line 2)) (1.12)\n",
            "Requirement already satisfied: networkx in /usr/local/lib/python3.10/dist-packages (from torch==2.1.0+cu118->-r requirements_cs229b.txt (line 2)) (3.2.1)\n",
            "Requirement already satisfied: jinja2 in /usr/local/lib/python3.10/dist-packages (from torch==2.1.0+cu118->-r requirements_cs229b.txt (line 2)) (3.1.2)\n",
            "Requirement already satisfied: fsspec in /usr/local/lib/python3.10/dist-packages (from torch==2.1.0+cu118->-r requirements_cs229b.txt (line 2)) (2023.6.0)\n",
            "Requirement already satisfied: triton==2.1.0 in /usr/local/lib/python3.10/dist-packages (from torch==2.1.0+cu118->-r requirements_cs229b.txt (line 2)) (2.1.0)\n",
            "Collecting cma>=2.6.0 (from nevergrad==1.0.0->-r requirements_cs229b.txt (line 3))\n",
            "  Downloading cma-3.3.0-py3-none-any.whl (260 kB)\n",
            "\u001b[2K     \u001b[90m━━━━━━━━━━━━━━━━━━━━━━━━━━━━━━━━━━━━━━━━\u001b[0m \u001b[32m260.7/260.7 kB\u001b[0m \u001b[31m26.7 MB/s\u001b[0m eta \u001b[36m0:00:00\u001b[0m\n",
            "\u001b[?25hCollecting bayesian-optimization>=1.2.0 (from nevergrad==1.0.0->-r requirements_cs229b.txt (line 3))\n",
            "  Downloading bayesian_optimization-1.4.3-py3-none-any.whl (18 kB)\n",
            "Requirement already satisfied: pandas in /usr/local/lib/python3.10/dist-packages (from nevergrad==1.0.0->-r requirements_cs229b.txt (line 3)) (1.5.3)\n",
            "Requirement already satisfied: scipy>=1.0.0 in /usr/local/lib/python3.10/dist-packages (from bayesian-optimization>=1.2.0->nevergrad==1.0.0->-r requirements_cs229b.txt (line 3)) (1.11.4)\n",
            "Requirement already satisfied: scikit-learn>=0.18.0 in /usr/local/lib/python3.10/dist-packages (from bayesian-optimization>=1.2.0->nevergrad==1.0.0->-r requirements_cs229b.txt (line 3)) (1.2.2)\n",
            "Collecting colorama>=0.4.6 (from bayesian-optimization>=1.2.0->nevergrad==1.0.0->-r requirements_cs229b.txt (line 3))\n",
            "  Downloading colorama-0.4.6-py2.py3-none-any.whl (25 kB)\n",
            "Requirement already satisfied: MarkupSafe>=2.0 in /usr/local/lib/python3.10/dist-packages (from jinja2->torch==2.1.0+cu118->-r requirements_cs229b.txt (line 2)) (2.1.3)\n",
            "Requirement already satisfied: python-dateutil>=2.8.1 in /usr/local/lib/python3.10/dist-packages (from pandas->nevergrad==1.0.0->-r requirements_cs229b.txt (line 3)) (2.8.2)\n",
            "Requirement already satisfied: pytz>=2020.1 in /usr/local/lib/python3.10/dist-packages (from pandas->nevergrad==1.0.0->-r requirements_cs229b.txt (line 3)) (2023.3.post1)\n",
            "Requirement already satisfied: mpmath>=0.19 in /usr/local/lib/python3.10/dist-packages (from sympy->torch==2.1.0+cu118->-r requirements_cs229b.txt (line 2)) (1.3.0)\n",
            "Requirement already satisfied: six>=1.5 in /usr/local/lib/python3.10/dist-packages (from python-dateutil>=2.8.1->pandas->nevergrad==1.0.0->-r requirements_cs229b.txt (line 3)) (1.16.0)\n",
            "Requirement already satisfied: joblib>=1.1.1 in /usr/local/lib/python3.10/dist-packages (from scikit-learn>=0.18.0->bayesian-optimization>=1.2.0->nevergrad==1.0.0->-r requirements_cs229b.txt (line 3)) (1.3.2)\n",
            "Requirement already satisfied: threadpoolctl>=2.0.0 in /usr/local/lib/python3.10/dist-packages (from scikit-learn>=0.18.0->bayesian-optimization>=1.2.0->nevergrad==1.0.0->-r requirements_cs229b.txt (line 3)) (3.2.0)\n",
            "Installing collected packages: numpy, dill, colorama, cma, bayesian-optimization, nevergrad\n",
            "\u001b[31mERROR: pip's dependency resolver does not currently take into account all the packages that are installed. This behaviour is the source of the following dependency conflicts.\n",
            "lida 0.0.10 requires fastapi, which is not installed.\n",
            "lida 0.0.10 requires kaleido, which is not installed.\n",
            "lida 0.0.10 requires python-multipart, which is not installed.\n",
            "lida 0.0.10 requires uvicorn, which is not installed.\n",
            "cupy-cuda11x 11.0.0 requires numpy<1.26,>=1.20, but you have numpy 1.26.1 which is incompatible.\u001b[0m\u001b[31m\n",
            "\u001b[0mSuccessfully installed bayesian-optimization-1.4.3 cma-3.3.0 colorama-0.4.6 dill-0.3.7 nevergrad-1.0.0 numpy-1.26.1\n"
          ]
        }
      ],
      "source": [
        "!pip uninstall numpy\n",
        "!pip install -U -r requirements_cs229b.txt"
      ]
    },
    {
      "cell_type": "markdown",
      "metadata": {
        "id": "ZwmRqjhmHqZr"
      },
      "source": [
        "# Restart Google Drive to use updated version of numpy (in order to use Sepsis PhysioNet 2019 functions to open data)."
      ]
    },
    {
      "cell_type": "code",
      "execution_count": null,
      "metadata": {
        "colab": {
          "base_uri": "https://localhost:8080/"
        },
        "id": "UKSz-GKOH_el",
        "outputId": "127b3569-d5c0-4aaf-d18a-446a95657456"
      },
      "outputs": [
        {
          "output_type": "stream",
          "name": "stdout",
          "text": [
            "1.26.1\n"
          ]
        }
      ],
      "source": [
        "import numpy\n",
        "print(numpy.__version__)"
      ]
    },
    {
      "cell_type": "code",
      "execution_count": null,
      "metadata": {
        "colab": {
          "base_uri": "https://localhost:8080/"
        },
        "id": "8WosGse5zUrr",
        "outputId": "e16ea683-1f33-475d-d82a-8c1d5a368f6f"
      },
      "outputs": [
        {
          "output_type": "stream",
          "name": "stdout",
          "text": [
            "drive  sample_data\n"
          ]
        }
      ],
      "source": [
        "! ls"
      ]
    },
    {
      "cell_type": "code",
      "execution_count": null,
      "metadata": {
        "colab": {
          "base_uri": "https://localhost:8080/"
        },
        "id": "jIodQdW-IG1U",
        "outputId": "b8a10745-dbcd-4628-ed56-5990469d3418"
      },
      "outputs": [
        {
          "output_type": "stream",
          "name": "stdout",
          "text": [
            "/content/drive/MyDrive/CS229btimeseries/Project/sepsis_comp_physionet_2019\n"
          ]
        }
      ],
      "source": [
        "%cd drive/MyDrive/CS229btimeseries/Project/sepsis_comp_physionet_2019\n",
        "#%cd sepsis_comp_physionet_2019"
      ]
    },
    {
      "cell_type": "markdown",
      "metadata": {
        "id": "h6ljAt7VIdB-"
      },
      "source": [
        "# Import functions to open data"
      ]
    },
    {
      "cell_type": "code",
      "execution_count": null,
      "metadata": {
        "id": "EANKS8VXIVjt"
      },
      "outputs": [],
      "source": [
        "import sys; sys.path.insert(0, '../../')\n",
        "from definitions import *\n",
        "import numpy as np\n",
        "import torch\n",
        "from torch.utils.data import DataLoader\n",
        "from torch import nn, optim\n",
        "from tqdm import tqdm\n",
        "import matplotlib.pyplot as plt\n",
        "import seaborn as sns\n",
        "from src.data.dataset import TimeSeriesDataset, ListDataset\n",
        "from src.data.functions import torch_ffill\n",
        "from src.features.derived_features import shock_index, partial_sofa\n",
        "from src.model.model_selection import stratified_kfold_cv\n",
        "from src.model.nets import RNN\n",
        "from src.model.optimizer import optimize_utility_threshold, compute_utility_from_indexes"
      ]
    },
    {
      "cell_type": "code",
      "execution_count": null,
      "metadata": {
        "id": "Md6RP3FNxrz_"
      },
      "outputs": [],
      "source": [
        "from src.visualization import general"
      ]
    },
    {
      "cell_type": "code",
      "execution_count": null,
      "metadata": {
        "id": "oQ8iFBZjdfst"
      },
      "outputs": [],
      "source": [
        "from IPython.lib.pretty import PrettyPrinter\n",
        "## Added my own function\n",
        "\n",
        "def torch_bfill(data):\n",
        "    \"\"\" Backward fill for a torch tensor.\n",
        "\n",
        "    Input: torch tensor input of shape [N, L, C] and will backward along the 2nd (L)\n",
        "    dimension.\n",
        "    Output: backward-filled torch tensor output of shape [N, L, C] for NaN values\n",
        "\n",
        "    References: With reference to torch_ffill defined by XXXX.\n",
        "    \"\"\"\n",
        "    def bfill2d(arr):\n",
        "        \"\"\" 2d Backward fill.\n",
        "        Input: 2d numpy array\n",
        "        Output: Backfilled 2d numpy array for Nan values\"\"\"\n",
        "        # Convert array to pandas DataFrame array\n",
        "        arr_pd = pd.DataFrame(arr)\n",
        "        # Replace nans with None's in order to use pandas backfill function\n",
        "        arr_pd = arr_pd.replace({np.nan:None})\n",
        "        # Backfill tensor with pandas\n",
        "        backfill_arr_pd = arr_pd.bfill(axis=1)\n",
        "        # Convert dataframe back into array\n",
        "        backfill_tensor = np.array(backfill_arr_pd.values)\n",
        "        out = backfill_tensor\n",
        "        return out\n",
        "\n",
        "    data_bfilled = torch.Tensor([bfill2d(x.numpy().T) for x in data]).transpose(1, 2)\n",
        "    return data_bfilled"
      ]
    },
    {
      "cell_type": "markdown",
      "metadata": {
        "id": "iqdYbwWsJr_C"
      },
      "source": [
        "# Opening data using dataloader functions from sepsis PhysioNet"
      ]
    },
    {
      "cell_type": "code",
      "execution_count": null,
      "metadata": {
        "id": "Qq-ecsXtJotg"
      },
      "outputs": [],
      "source": [
        "# GPU\n",
        "device = torch.device('cuda') if torch.cuda.is_available() else torch.device('cpu')"
      ]
    },
    {
      "cell_type": "markdown",
      "metadata": {
        "id": "npjQgXI4Jyfa"
      },
      "source": [
        "# 1. Open dataset (features) and sepsis labels"
      ]
    },
    {
      "cell_type": "code",
      "execution_count": null,
      "metadata": {
        "colab": {
          "base_uri": "https://localhost:8080/"
        },
        "id": "rLtFl8MEmhF0",
        "outputId": "154e1c90-c23d-4662-b1f4-806c326b5924"
      },
      "outputs": [
        {
          "output_type": "stream",
          "name": "stdout",
          "text": [
            "[Errno 2] No such file or directory: 'sepsis_comp_physionet_2019/'\n",
            "/content/drive/MyDrive/CS229btimeseries/Project/sepsis_comp_physionet_2019\n"
          ]
        }
      ],
      "source": [
        "%cd sepsis_comp_physionet_2019/"
      ]
    },
    {
      "cell_type": "code",
      "execution_count": null,
      "metadata": {
        "id": "zSVNzoheJz_W"
      },
      "outputs": [],
      "source": [
        "# Load the full dataset\n",
        "#dataset = TimeSeriesDataset().load('raw/data.tsd')\n",
        "labels = torch.Tensor(load_pickle('processed/labels/binary.pickle')) #binary.pickle"
      ]
    },
    {
      "cell_type": "code",
      "execution_count": null,
      "metadata": {
        "id": "76p2jYIJ-NAQ"
      },
      "outputs": [],
      "source": [
        "num_patients, num_timepoints, total_features = dataset.data.shape"
      ]
    },
    {
      "cell_type": "code",
      "execution_count": null,
      "metadata": {
        "id": "5Bo_IvzOAvts"
      },
      "outputs": [],
      "source": [
        "# Save labels to a file\n",
        "#torch.save(labels, 'labels.pt')"
      ]
    },
    {
      "cell_type": "markdown",
      "metadata": {
        "id": "rRYxgDoU9uZx"
      },
      "source": [
        "# 2. Extract some information from raw feature data and create visualizations"
      ]
    },
    {
      "cell_type": "code",
      "execution_count": null,
      "metadata": {
        "colab": {
          "base_uri": "https://localhost:8080/"
        },
        "id": "O9AHtb3Y3MiP",
        "outputId": "32984df4-6c2b-4203-dce7-eecc33d2e42d"
      },
      "outputs": [
        {
          "name": "stdout",
          "output_type": "stream",
          "text": [
            "Number of septic labels (not =#septic patients): (tensor([0., 1.]), tensor([1524294,   27916]))\n",
            "Proportion of septic v nonseptic labels: tensor([0.9820, 0.0180])\n"
          ]
        }
      ],
      "source": [
        "counts_labels = labels.unique(return_counts=True)\n",
        "proportion_septic = counts_labels[1]/labels.shape[0]\n",
        "print('Number of septic labels (not =#septic patients):', counts_labels)\n",
        "print('Proportion of septic v nonseptic labels:', proportion_septic)"
      ]
    },
    {
      "cell_type": "code",
      "execution_count": null,
      "metadata": {
        "id": "E2tLCWQEIiPi"
      },
      "outputs": [],
      "source": [
        "input_feature_labels = dataset.columns\n",
        "#print(input_feature_labels)"
      ]
    },
    {
      "cell_type": "code",
      "execution_count": null,
      "metadata": {
        "colab": {
          "base_uri": "https://localhost:8080/"
        },
        "id": "eaDimUBEVx-L",
        "outputId": "5560051b-9aec-412b-b2b4-16001133cab0"
      },
      "outputs": [
        {
          "name": "stdout",
          "output_type": "stream",
          "text": [
            "torch.Size([40336, 336, 41])\n"
          ]
        }
      ],
      "source": [
        "print(dataset.data.shape)"
      ]
    },
    {
      "cell_type": "code",
      "execution_count": null,
      "metadata": {
        "colab": {
          "base_uri": "https://localhost:8080/"
        },
        "id": "recdh70D5MvI",
        "outputId": "2ad24e5e-044e-48c5-d6b6-acdba2dd8104"
      },
      "outputs": [
        {
          "name": "stdout",
          "output_type": "stream",
          "text": [
            "['HR', 'O2Sat', 'SBP', 'MAP', 'DBP', 'Resp', 'Age', 'Gender', 'HospAdmTime', 'ICULOS', 'hospital']\n",
            "Initial measurements available from all patients:  ['Age', 'Gender', 'ICULOS', 'hospital']\n"
          ]
        }
      ],
      "source": [
        "dict_nan_values = {}\n",
        "list_popular_measurements = []\n",
        "measurements_for_all_patients = []\n",
        "for idx, item in enumerate(input_feature_labels):\n",
        "  pd_see_nan = pd.DataFrame(dataset[item].squeeze(2))\n",
        "  nan_counts_over_time_per_feature = (~pd_see_nan.isna()).sum()\n",
        "  dict_nan_values[item] = nan_counts_over_time_per_feature\n",
        "  list_nans = list(nan_counts_over_time_per_feature)\n",
        "  if all(val > 6000 for val in list_nans[:48]):\n",
        "    list_popular_measurements.append(item)\n",
        "  if any(val >40335 for val in list_nans[:1]):\n",
        "    measurements_for_all_patients.append(item)\n",
        "\n",
        "print(list_popular_measurements)\n",
        "print('Initial measurements available from all patients: ', measurements_for_all_patients)\n",
        "list_popular_measurements.append('Lactate')\n",
        "list_popular_measurements.append('pH')"
      ]
    },
    {
      "cell_type": "code",
      "execution_count": null,
      "metadata": {
        "colab": {
          "base_uri": "https://localhost:8080/",
          "height": 457
        },
        "id": "ZtmuTyDLCM4C",
        "outputId": "87202d05-df0e-4686-d278-5f14731046a9"
      },
      "outputs": [
        {
          "data": {
            "text/plain": [
              "Text(0.5, 1.0, 'Number of patients with available measurements \\n for each feature over time')"
            ]
          },
          "execution_count": 15,
          "metadata": {},
          "output_type": "execute_result"
        },
        {
          "data": {
            "image/png": "[encoded data removed]",
            "text/plain": [
              "<Figure size 600x400 with 1 Axes>"
            ]
          },
          "metadata": {},
          "output_type": "display_data"
        }
      ],
      "source": [
        "# Plot all measurements\n",
        "plt.figure(figsize=(6,4))\n",
        "D = dict_nan_values\n",
        "for feature in D.keys():\n",
        "  plt.plot(D[feature])\n",
        "  num_patients_line = dataset.data.shape[0]*np.ones(dataset.data.shape[1])\n",
        "plt.plot(num_patients_line, '-.',label='Total number of patients')\n",
        "plt.legend(loc='best',fontsize=12) #bbox_to_anchor=(1.1, 1.05)\n",
        "plt.xlabel('Time (hrs)',fontsize=12)\n",
        "plt.ylabel('Number of patients \\n with available measurements',fontsize=12)\n",
        "plt.xticks(fontsize=12)\n",
        "plt.yticks(fontsize=12)\n",
        "plt.title('Number of patients with available measurements \\n for each feature over time',fontsize=12)"
      ]
    },
    {
      "cell_type": "code",
      "execution_count": null,
      "metadata": {
        "colab": {
          "base_uri": "https://localhost:8080/",
          "height": 457
        },
        "id": "K1xf1rQaCKvW",
        "outputId": "33fd25d8-6435-46de-88d3-a82a068cf501"
      },
      "outputs": [
        {
          "data": {
            "text/plain": [
              "Text(0.5, 1.0, 'Number of patients with available measurements \\n for each feature over time')"
            ]
          },
          "execution_count": 16,
          "metadata": {},
          "output_type": "execute_result"
        },
        {
          "data": {
            "image/png": "[encoded data removed]",
            "text/plain": [
              "<Figure size 600x400 with 1 Axes>"
            ]
          },
          "metadata": {},
          "output_type": "display_data"
        }
      ],
      "source": [
        "# Plot popular measurements + augmented data\n",
        "plt.figure(figsize=(6,4))\n",
        "num_plots = len(list_popular_measurements)\n",
        "colormap = plt.cm.gist_ncar\n",
        "plt.gca().set_prop_cycle(plt.cycler('color', plt.cm.jet(np.linspace(0, 1, num_plots))))\n",
        "for feature in list_popular_measurements:\n",
        "  plt.plot(D[feature], label=feature)\n",
        "plt.plot(num_patients_line, '-.',label='Total number of patients')\n",
        "plt.legend(loc='upper left',bbox_to_anchor=(1, 1),fontsize=11)\n",
        "plt.xlim([0,50])\n",
        "plt.xticks(fontsize=12)\n",
        "plt.yticks(fontsize=12)\n",
        "plt.xlabel('Time (hrs)',fontsize=12)\n",
        "plt.ylabel('Number of patients \\n with available measurements',fontsize=12)\n",
        "plt.title('Number of patients with available measurements \\n for each feature over time',fontsize=12)"
      ]
    },
    {
      "cell_type": "code",
      "execution_count": null,
      "metadata": {
        "id": "7JDXs3xR2S52"
      },
      "outputs": [],
      "source": [
        "## Plot data for individual patient 0\n",
        "# plt.plot(dataset.data[0,:,0],label='Heart rate')\n",
        "# plt.plot(dataset.data[0,:,1],label='Systolic blood pressure')\n",
        "# plt.plot(dataset.data[0,:,2],label='Mean Arterial blood pressure')\n",
        "# plt.plot(dataset.data[0,:,3],label='Lactate')\n",
        "# plt.plot(dataset.data[0,:,4],label='Temperature')\n",
        "# plt.plot(dataset.data[0,:,5],label='Oxygen saturation')\n",
        "# plt.plot(dataset.data[0,:,5],label='pH')\n",
        "# plt.plot(dataset.data[0,:,5],label='Age')\n",
        "# plt.plot(dataset.data[0,:,5],label='Age')\n",
        "# plt.ylabel('Feature raw value')\n",
        "# plt.legend(loc=\"lower right\")\n",
        "# plt.xlabel('Hours in ICU')"
      ]
    },
    {
      "cell_type": "code",
      "execution_count": null,
      "metadata": {
        "id": "G-nNDUMwJ2q1"
      },
      "outputs": [],
      "source": [
        "# Only consider the popular + augmented measurements\n",
        "\n",
        "#dataset = dataset.subset(list_popular_measurements)\n",
        "#print(dataset.data.shape)"
      ]
    },
    {
      "cell_type": "code",
      "execution_count": null,
      "metadata": {
        "id": "mwdinP50jFnw"
      },
      "outputs": [],
      "source": [
        "# Hospital stay lengths\n",
        "length_stay = torch.sum(~torch.isnan(dataset['ICULOS']), dim=1)\n",
        "length_stay_ending_indices = torch.cumsum(length_stay,dim=0)\n",
        "length_stay_list = list(np.array(length_stay.squeeze(1)))\n",
        "length_stay_ending_indices_list = list(np.array(length_stay_ending_indices.squeeze(1)))"
      ]
    },
    {
      "cell_type": "code",
      "execution_count": null,
      "metadata": {
        "id": "C9-XWERFz2Y7"
      },
      "outputs": [],
      "source": [
        "# patient_labels_list = []\n",
        "# prev_step = 0\n",
        "# for patientID in num_patients:\n",
        "#   current_step = length_stay_ending_indices_list[patientID]\n",
        "#   patient_labels_list.append(torch.arange(prev_step,current_step))\n",
        "#   prev_step = current_step\n",
        "list_idx_labels = []\n",
        "# for length in length_stay_ending_indices_list:\n",
        "#   prev_step = 0\n",
        "#   list_idx_labels.append(torch.arange(prev_step,length))\n",
        "#   prev_step = length\n",
        "\n",
        "# print(list_idx_labels[0])"
      ]
    },
    {
      "cell_type": "markdown",
      "metadata": {
        "id": "mWzdc3FS-DhR"
      },
      "source": [
        "# 3. Add \"AvailMeas\" feature to count which measurements are available at a specific time"
      ]
    },
    {
      "cell_type": "code",
      "execution_count": null,
      "metadata": {
        "id": "Hmx7qEQcOfvh"
      },
      "outputs": [],
      "source": [
        "pd_see_nan_ovr_time = pd.DataFrame(dataset.data[:,0,:])\n",
        "nan_counts_at_specific_time_over_feature = (~pd_see_nan_ovr_time.isna()).sum(axis=1)\n",
        "#print(nan_counts_at_specific_time_over_feature)"
      ]
    },
    {
      "cell_type": "code",
      "execution_count": null,
      "metadata": {
        "colab": {
          "base_uri": "https://localhost:8080/"
        },
        "id": "IQbRs9A0Na0D",
        "outputId": "f851fef3-36b0-4d54-ddd5-5356f3123e3b"
      },
      "outputs": [
        {
          "output_type": "stream",
          "name": "stdout",
          "text": [
            "torch.Size([40336, 336, 1])\n",
            "['HR', 'O2Sat', 'Temp', 'SBP', 'MAP', 'DBP', 'Resp', 'EtCO2', 'BaseExcess', 'HCO3', 'FiO2', 'pH', 'PaCO2', 'SaO2', 'AST', 'BUN', 'Alkalinephos', 'Calcium', 'Chloride', 'Creatinine', 'Bilirubin_direct', 'Glucose', 'Lactate', 'Magnesium', 'Phosphate', 'Potassium', 'Bilirubin_total', 'TroponinI', 'Hct', 'Hgb', 'PTT', 'WBC', 'Fibrinogen', 'Platelets', 'Age', 'Gender', 'Unit1', 'Unit2', 'HospAdmTime', 'ICULOS', 'hospital', 'AvailMeas']\n",
            "torch.Size([40336, 336, 42])\n",
            "Check if any values in \"AvailMeas\" are missing:  tensor(False)\n"
          ]
        }
      ],
      "source": [
        "# Add count of available measurements\n",
        "array_avail_feature_at_time_array = np.zeros_like(dataset.data[:,:,0])\n",
        "for t_idx, time in enumerate(range(0,dataset.data.shape[1])):\n",
        "  pd_see_nan_ovr_time = pd.DataFrame(dataset.data[:,t_idx,:])\n",
        "  avail_feature_at_specific_time = (~pd_see_nan_ovr_time.isna()).sum(axis=1) #patient_num x 1\n",
        "  array_avail_feature_at_time_array[:,t_idx] = avail_feature_at_specific_time\n",
        "\n",
        "avail_feat_tensor = torch.tensor(array_avail_feature_at_time_array,dtype=torch.float32).unsqueeze(2)\n",
        "print(avail_feat_tensor.shape)\n",
        "\n",
        "dataset.add_features(avail_feat_tensor, columns=['AvailMeas'])\n",
        "print(dataset.columns)\n",
        "print(dataset.data.shape)\n",
        "print('Check if any values in \"AvailMeas\" are missing: ',torch.any(torch.isnan(dataset['AvailMeas'])))"
      ]
    },
    {
      "cell_type": "code",
      "execution_count": null,
      "metadata": {
        "id": "oEEbnljkvliO"
      },
      "outputs": [],
      "source": [
        "## Save data with available measurement\n",
        "#torch.save(dataset,'data_with_availmeas.pt')"
      ]
    },
    {
      "cell_type": "code",
      "execution_count": null,
      "metadata": {
        "id": "586j0twUwns_"
      },
      "outputs": [],
      "source": [
        "# Open data from available measurement file\n",
        "#dataset = torch.load('data_with_availmeas.pt')"
      ]
    },
    {
      "cell_type": "markdown",
      "metadata": {
        "id": "ewhW21-T-hUG"
      },
      "source": [
        "# 4. Add \"Time\" as a feature to the dataset"
      ]
    },
    {
      "cell_type": "code",
      "execution_count": null,
      "metadata": {
        "id": "4T9Y8R5b-mlE"
      },
      "outputs": [],
      "source": [
        "patients_in_data=dataset.data.shape[0]\n",
        "hours=336\n",
        "time_neuralCDE = torch.linspace(0, hours-1, steps=hours)\n",
        "time_neuralCDE_unsqueezed = time_neuralCDE.unsqueeze(0).unsqueeze(-1).expand(patients_in_data,hours,1)\n",
        "dataset['Time'] = time_neuralCDE_unsqueezed"
      ]
    },
    {
      "cell_type": "markdown",
      "metadata": {
        "id": "s1LCGq01-8VP"
      },
      "source": [
        "# 5. Impute data (forward fill + fill in missing columns with zeros)"
      ]
    },
    {
      "cell_type": "code",
      "execution_count": null,
      "metadata": {
        "colab": {
          "base_uri": "https://localhost:8080/"
        },
        "id": "TWH0innnG-lk",
        "outputId": "15420a1c-79a1-4790-cefd-798544e693e3"
      },
      "outputs": [
        {
          "name": "stderr",
          "output_type": "stream",
          "text": [
            "/content/drive/MyDrive/CS229btimeseries/Project/sepsis_comp_physionet_2019/src/data/functions.py:21: UserWarning: Creating a tensor from a list of numpy.ndarrays is extremely slow. Please consider converting the list to a single numpy.ndarray with numpy.array() before converting to a tensor. (Triggered internally at ../torch/csrc/utils/tensor_new.cpp:261.)\n",
            "  data_ffilled = torch.Tensor([ffill2d(x.numpy().T) for x in data]).transpose(1, 2)\n"
          ]
        }
      ],
      "source": [
        "dataset.data = torch_ffill(dataset.data)"
      ]
    },
    {
      "cell_type": "code",
      "execution_count": null,
      "metadata": {
        "id": "mfcoST2g30EE"
      },
      "outputs": [],
      "source": [
        "## Save forward-filled data with time\n",
        "#torch.save(dataset,'dataset_with_time_FF.pt')"
      ]
    },
    {
      "cell_type": "code",
      "execution_count": null,
      "metadata": {
        "id": "VW2Gznma3tls"
      },
      "outputs": [],
      "source": [
        "# Fill entire missing features with 0\n",
        "dataset.data[torch.isnan(dataset.data)] = 0"
      ]
    },
    {
      "cell_type": "code",
      "execution_count": null,
      "metadata": {
        "id": "lrctue7fzeD9"
      },
      "outputs": [],
      "source": [
        "## Save forward-filled data with time\n",
        "#torch.save(dataset,'dataset_with_time_FF_zeros.pt')"
      ]
    },
    {
      "cell_type": "code",
      "execution_count": null,
      "metadata": {
        "colab": {
          "base_uri": "https://localhost:8080/"
        },
        "id": "hOz_glqaZOwy",
        "outputId": "ec283f75-1d09-48b7-9d97-2c6e087306dc"
      },
      "outputs": [
        {
          "data": {
            "text/plain": [
              "43"
            ]
          },
          "execution_count": 24,
          "metadata": {},
          "output_type": "execute_result"
        }
      ],
      "source": [
        "len(dataset.columns)"
      ]
    },
    {
      "cell_type": "code",
      "execution_count": null,
      "metadata": {
        "id": "GGQu17lOYqmW"
      },
      "outputs": [],
      "source": [
        "## Save forward-filled data without time\n",
        "#torch.save(dataset,'dataset_FF_zeros.pt')"
      ]
    },
    {
      "cell_type": "code",
      "execution_count": null,
      "metadata": {
        "id": "Id8P0si2d1VS"
      },
      "outputs": [],
      "source": []
    },
    {
      "cell_type": "markdown",
      "metadata": {
        "id": "TttaoIeXeUY4"
      },
      "source": [
        "# 7A: With missing dataset add alll missing features"
      ]
    },
    {
      "cell_type": "code",
      "execution_count": null,
      "metadata": {
        "colab": {
          "base_uri": "https://localhost:8080/"
        },
        "id": "Tv4MrefveYXi",
        "outputId": "e1d39501-f677-4cf9-e385-179c1aa20ec7"
      },
      "outputs": [
        {
          "output_type": "execute_result",
          "data": {
            "text/plain": [
              "['HR',\n",
              " 'O2Sat',\n",
              " 'Temp',\n",
              " 'SBP',\n",
              " 'MAP',\n",
              " 'DBP',\n",
              " 'Resp',\n",
              " 'EtCO2',\n",
              " 'BaseExcess',\n",
              " 'HCO3',\n",
              " 'FiO2',\n",
              " 'pH',\n",
              " 'PaCO2',\n",
              " 'SaO2',\n",
              " 'AST',\n",
              " 'BUN',\n",
              " 'Alkalinephos',\n",
              " 'Calcium',\n",
              " 'Chloride',\n",
              " 'Creatinine',\n",
              " 'Bilirubin_direct',\n",
              " 'Glucose',\n",
              " 'Lactate',\n",
              " 'Magnesium',\n",
              " 'Phosphate',\n",
              " 'Potassium',\n",
              " 'Bilirubin_total',\n",
              " 'TroponinI',\n",
              " 'Hct',\n",
              " 'Hgb',\n",
              " 'PTT',\n",
              " 'WBC',\n",
              " 'Fibrinogen',\n",
              " 'Platelets',\n",
              " 'Age',\n",
              " 'Gender',\n",
              " 'Unit1',\n",
              " 'Unit2',\n",
              " 'HospAdmTime',\n",
              " 'ICULOS',\n",
              " 'hospital',\n",
              " 'AvailMeas',\n",
              " 'Time']"
            ]
          },
          "metadata": {},
          "execution_count": 20
        }
      ],
      "source": [
        "dataset.columns"
      ]
    },
    {
      "cell_type": "code",
      "execution_count": null,
      "metadata": {
        "colab": {
          "base_uri": "https://localhost:8080/"
        },
        "id": "xfvOpmdRhCV0",
        "outputId": "50e3e548-e614-410c-858c-65485ec2113d"
      },
      "outputs": [
        {
          "output_type": "stream",
          "name": "stdout",
          "text": [
            "43\n"
          ]
        }
      ],
      "source": [
        "print(len(dataset.columns))"
      ]
    },
    {
      "cell_type": "code",
      "execution_count": null,
      "metadata": {
        "id": "PP-qYHslefOg"
      },
      "outputs": [],
      "source": [
        "# dataset['maskHR'] = (~torch.isnan(dataset['HR'])).cumsum(dim=1)\n",
        "# dataset['maskO2Sat'] = (~torch.isnan(dataset['O2Sat'])).cumsum(dim=1)\n",
        "# dataset['maskTemp'] = (~torch.isnan(dataset['Temp'])).cumsum(dim=1)\n",
        "# dataset['maskSBP'] = (~torch.isnan(dataset['SBP'])).cumsum(dim=1)\n",
        "# dataset['maskMAP'] = (~torch.isnan(dataset['MAP'])).cumsum(dim=1)\n",
        "# dataset['maskDBP'] = (~torch.isnan(dataset['DBP'])).cumsum(dim=1)\n"
      ]
    },
    {
      "cell_type": "code",
      "execution_count": null,
      "metadata": {
        "colab": {
          "base_uri": "https://localhost:8080/"
        },
        "id": "SjXtDXI6hLtt",
        "outputId": "14023465-2222-4fdd-a509-622c96aa1a4e"
      },
      "outputs": [
        {
          "output_type": "stream",
          "name": "stdout",
          "text": [
            "49\n"
          ]
        }
      ],
      "source": [
        "print(len(dataset.columns))"
      ]
    },
    {
      "cell_type": "code",
      "execution_count": null,
      "metadata": {
        "id": "WUhjUrNHg-kE"
      },
      "outputs": [],
      "source": [
        "# dataset['maskResp'] = (~torch.isnan(dataset['Resp'])).cumsum(dim=1)\n",
        "# dataset['maskEtCO2'] = (~torch.isnan(dataset['EtCO2'])).cumsum(dim=1)\n",
        "# dataset['maskBaseExcess'] = (~torch.isnan(dataset['BaseExcess'])).cumsum(dim=1)\n",
        "# dataset['maskHCO3'] = (~torch.isnan(dataset['HCO3'])).cumsum(dim=1)\n",
        "# dataset['maskFiO2'] = (~torch.isnan(dataset['FiO2'])).cumsum(dim=1)\n",
        "# dataset['maskpH'] = (~torch.isnan(dataset['pH'])).cumsum(dim=1)\n"
      ]
    },
    {
      "cell_type": "code",
      "execution_count": null,
      "metadata": {
        "colab": {
          "base_uri": "https://localhost:8080/"
        },
        "id": "fhlo-Bj_hbPi",
        "outputId": "b92d0a32-2d71-4428-d158-37aebeac6c0a"
      },
      "outputs": [
        {
          "output_type": "stream",
          "name": "stdout",
          "text": [
            "55\n"
          ]
        }
      ],
      "source": [
        "print(len(dataset.columns))"
      ]
    },
    {
      "cell_type": "code",
      "execution_count": null,
      "metadata": {
        "id": "WH3nUh6lhOwc"
      },
      "outputs": [],
      "source": [
        "# dataset['maskPaCO2'] = (~torch.isnan(dataset['PaCO2'])).cumsum(dim=1)\n",
        "# dataset['maskSaO2'] = (~torch.isnan(dataset['SaO2'])).cumsum(dim=1)\n",
        "# dataset['maskAST'] = (~torch.isnan(dataset['AST'])).cumsum(dim=1)\n",
        "# dataset['maskBUN'] = (~torch.isnan(dataset['BUN'])).cumsum(dim=1)\n",
        "# dataset['maskAlkalinephos'] = (~torch.isnan(dataset['Alkalinephos'])).cumsum(dim=1)\n",
        "# dataset['maskCalcium'] = (~torch.isnan(dataset['Calcium'])).cumsum(dim=1)\n"
      ]
    },
    {
      "cell_type": "code",
      "execution_count": null,
      "metadata": {
        "colab": {
          "base_uri": "https://localhost:8080/"
        },
        "id": "kZHRdN03hngr",
        "outputId": "5886ce77-33aa-40fa-806e-8af2e2822fb4"
      },
      "outputs": [
        {
          "output_type": "stream",
          "name": "stdout",
          "text": [
            "61\n"
          ]
        }
      ],
      "source": [
        "print(len(dataset.columns))"
      ]
    },
    {
      "cell_type": "code",
      "execution_count": null,
      "metadata": {
        "id": "GTzmaMqqhQ-T"
      },
      "outputs": [],
      "source": [
        "# dataset['maskChloride'] = (~torch.isnan(dataset['Chloride'])).cumsum(dim=1)\n",
        "# dataset['maskCreatinine'] = (~torch.isnan(dataset['Creatinine'])).cumsum(dim=1)\n",
        "# dataset['maskBilirubin_direct'] = (~torch.isnan(dataset['Bilirubin_direct'])).cumsum(dim=1)\n",
        "# dataset['maskTroponinI'] = (~torch.isnan(dataset['TroponinI'])).cumsum(dim=1)\n",
        "# dataset['maskHct'] = (~torch.isnan(dataset['Hct'])).cumsum(dim=1)\n",
        "# dataset['maskPTT'] = (~torch.isnan(dataset['PTT'])).cumsum(dim=1)\n"
      ]
    },
    {
      "cell_type": "code",
      "execution_count": null,
      "metadata": {
        "colab": {
          "base_uri": "https://localhost:8080/"
        },
        "id": "ISLzYqMVhnRC",
        "outputId": "b0495c0a-f884-43cb-8c67-354d023fc688"
      },
      "outputs": [
        {
          "output_type": "stream",
          "name": "stdout",
          "text": [
            "67\n"
          ]
        }
      ],
      "source": [
        "print(len(dataset.columns))"
      ]
    },
    {
      "cell_type": "code",
      "execution_count": null,
      "metadata": {
        "id": "a3qibezkhTJb"
      },
      "outputs": [],
      "source": [
        "# dataset['maskWBC'] = (~torch.isnan(dataset['WBC'])).cumsum(dim=1)\n",
        "# dataset['maskFibrinogen'] = (~torch.isnan(dataset['Fibrinogen'])).cumsum(dim=1)\n",
        "# dataset['maskPlatelets'] = (~torch.isnan(dataset['Platelets'])).cumsum(dim=1)\n",
        "# dataset['maskAge'] = (~torch.isnan(dataset['Age'])).cumsum(dim=1)\n"
      ]
    },
    {
      "cell_type": "code",
      "execution_count": null,
      "metadata": {
        "colab": {
          "base_uri": "https://localhost:8080/"
        },
        "id": "c5phlLxehm-7",
        "outputId": "81ed2f4d-ef9f-4520-8743-f2151458862a"
      },
      "outputs": [
        {
          "output_type": "stream",
          "name": "stdout",
          "text": [
            "71\n"
          ]
        }
      ],
      "source": [
        "print(len(dataset.columns))"
      ]
    },
    {
      "cell_type": "code",
      "source": [
        "# dataset['maskGender'] = (~torch.isnan(dataset['Gender'])).cumsum(dim=1)\n",
        "# dataset['maskUnit1'] = (~torch.isnan(dataset['Unit1'])).cumsum(dim=1)"
      ],
      "metadata": {
        "id": "c6KHMcm5MMO4"
      },
      "execution_count": null,
      "outputs": []
    },
    {
      "cell_type": "code",
      "source": [
        "print(len(dataset.columns))"
      ],
      "metadata": {
        "colab": {
          "base_uri": "https://localhost:8080/"
        },
        "id": "tQjZZXjHMu2v",
        "outputId": "90a49857-9b7e-43cf-adad-ecea0009d4de"
      },
      "execution_count": null,
      "outputs": [
        {
          "output_type": "stream",
          "name": "stdout",
          "text": [
            "75\n"
          ]
        }
      ]
    },
    {
      "cell_type": "code",
      "source": [
        "# dataset['maskUnit2'] = (~torch.isnan(dataset['Unit2'])).cumsum(dim=1)\n",
        "# dataset['maskHospAdmTime'] = (~torch.isnan(dataset['HospAdmTime'])).cumsum(dim=1)"
      ],
      "metadata": {
        "id": "PU_66TS-MQ6M"
      },
      "execution_count": null,
      "outputs": []
    },
    {
      "cell_type": "code",
      "execution_count": null,
      "metadata": {
        "id": "OFIO7t9HhmSV"
      },
      "outputs": [],
      "source": [
        "# dataset['maskICULOS'] = (~torch.isnan(dataset['ICULOS'])).cumsum(dim=1)\n",
        "# dataset['maskhospital'] = (~torch.isnan(dataset['hospital'])).cumsum(dim=1)"
      ]
    },
    {
      "cell_type": "code",
      "execution_count": null,
      "metadata": {
        "colab": {
          "base_uri": "https://localhost:8080/"
        },
        "id": "rdeFS8YGhzTV",
        "outputId": "eb599a14-c829-4880-e62f-95c40ea767c4"
      },
      "outputs": [
        {
          "output_type": "stream",
          "name": "stdout",
          "text": [
            "77\n"
          ]
        }
      ],
      "source": [
        "print(len(dataset.columns))"
      ]
    },
    {
      "cell_type": "code",
      "source": [
        "# dataset['maskGlucose'] = (~torch.isnan(dataset['Glucose'])).cumsum(dim=1)\n",
        "# dataset['maskLactate'] = (~torch.isnan(dataset['Lactate'])).cumsum(dim=1)\n",
        "# dataset['maskMagnesium'] = (~torch.isnan(dataset['Magnesium'])).cumsum(dim=1)"
      ],
      "metadata": {
        "id": "0jZlqWcyM7ZE"
      },
      "execution_count": null,
      "outputs": []
    },
    {
      "cell_type": "code",
      "execution_count": null,
      "metadata": {
        "id": "K3NEozg3jiLb"
      },
      "outputs": [],
      "source": [
        "# dataset['maskPotassium'] = (~torch.isnan(dataset['Potassium'])).cumsum(dim=1)\n",
        "# dataset['maskBilirubin_total'] = (~torch.isnan(dataset['Bilirubin_total'])).cumsum(dim=1)\n",
        "# dataset['maskHgb'] = (~torch.isnan(dataset['Hgb'])).cumsum(dim=1)"
      ]
    },
    {
      "cell_type": "code",
      "source": [
        "print(len(dataset.columns))"
      ],
      "metadata": {
        "colab": {
          "base_uri": "https://localhost:8080/"
        },
        "id": "qbXLd3GLKZ-D",
        "outputId": "318a227c-c388-4f52-87b8-4b047977f996"
      },
      "execution_count": null,
      "outputs": [
        {
          "output_type": "stream",
          "name": "stdout",
          "text": [
            "83\n"
          ]
        }
      ]
    },
    {
      "cell_type": "code",
      "execution_count": null,
      "metadata": {
        "id": "6gvMxcw3khCv"
      },
      "outputs": [],
      "source": [
        "#dataset['maskPhosphate'] = (~torch.isnan(dataset['Phosphate'])).cumsum(dim=1)"
      ]
    },
    {
      "cell_type": "code",
      "execution_count": null,
      "metadata": {
        "colab": {
          "base_uri": "https://localhost:8080/"
        },
        "id": "p_5FTVjzkBZT",
        "outputId": "fae56198-4f79-4b17-dad5-9ab5e45a58a6"
      },
      "outputs": [
        {
          "output_type": "stream",
          "name": "stdout",
          "text": [
            "84\n"
          ]
        }
      ],
      "source": [
        "print(len(dataset.columns))"
      ]
    },
    {
      "cell_type": "code",
      "execution_count": null,
      "metadata": {
        "colab": {
          "base_uri": "https://localhost:8080/"
        },
        "id": "3hpgTWMMh0k-",
        "outputId": "2ce34fa4-0552-4bea-d474-c0985fe096eb"
      },
      "outputs": [
        {
          "output_type": "stream",
          "name": "stdout",
          "text": [
            "/content/drive/MyDrive/CS229btimeseries/Project\n"
          ]
        }
      ],
      "source": [
        "#Put yourself in project folder\n",
        "%cd ../"
      ]
    },
    {
      "cell_type": "code",
      "execution_count": null,
      "metadata": {
        "id": "7Ikqxd6viAMv"
      },
      "outputs": [],
      "source": [
        "#torch.save(dataset, 'dataset_time_masks_missing_20231209.pt')"
      ]
    },
    {
      "cell_type": "markdown",
      "metadata": {
        "id": "QI1FYc9eHT-D"
      },
      "source": [
        "# 7b. Save labels for dataset"
      ]
    },
    {
      "cell_type": "code",
      "execution_count": null,
      "metadata": {
        "id": "DbGgaDzUKN_e"
      },
      "outputs": [],
      "source": [
        "import pickle"
      ]
    },
    {
      "cell_type": "code",
      "execution_count": null,
      "metadata": {
        "colab": {
          "base_uri": "https://localhost:8080/",
          "height": 35
        },
        "id": "aXI8bbtWHYKT",
        "outputId": "5958694c-0554-4262-a1df-8dd10cfd0664"
      },
      "outputs": [
        {
          "output_type": "execute_result",
          "data": {
            "text/plain": [
              "'/content/drive/MyDrive/CS229btimeseries/Project'"
            ],
            "application/vnd.google.colaboratory.intrinsic+json": {
              "type": "string"
            }
          },
          "metadata": {},
          "execution_count": 45
        }
      ],
      "source": [
        "%pwd #Put yourself in Project folder"
      ]
    },
    {
      "cell_type": "code",
      "execution_count": null,
      "metadata": {
        "id": "OnyovYMBLmpe"
      },
      "outputs": [],
      "source": [
        "feature_name_folder='featurenames_CS229B_project/'\n",
        "feature_name_file=feature_name_folder+'featlabel_dataset_time_masks_missing_20231209.pt'"
      ]
    },
    {
      "cell_type": "code",
      "execution_count": null,
      "metadata": {
        "id": "faXDWb41HWUR"
      },
      "outputs": [],
      "source": [
        "#folder='featurenames_sepsis_ds/'\n",
        "#processed_dataset_name = folder+'dataset_subset_FF.pt'\n",
        "#dataset = torch.load('dataset_time_masks_missing_20231206.pt')"
      ]
    },
    {
      "cell_type": "code",
      "execution_count": null,
      "metadata": {
        "id": "Xj95Fp4SmCpV"
      },
      "outputs": [],
      "source": [
        "num_patients, num_timepoints, total_features = dataset.data.shape"
      ]
    },
    {
      "cell_type": "code",
      "execution_count": null,
      "metadata": {
        "id": "kG5I1uOYJ9i9"
      },
      "outputs": [],
      "source": [
        "list_feature_names = dataset.columns"
      ]
    },
    {
      "cell_type": "code",
      "execution_count": null,
      "metadata": {
        "colab": {
          "base_uri": "https://localhost:8080/"
        },
        "id": "FBlEwPvBEwca",
        "outputId": "f999d51c-13bc-48bc-dd73-6b838368e596"
      },
      "outputs": [
        {
          "name": "stdout",
          "output_type": "stream",
          "text": [
            "['HR', 'O2Sat', 'Temp', 'SBP', 'MAP', 'DBP', 'Resp', 'EtCO2', 'BaseExcess', 'HCO3', 'FiO2', 'pH', 'PaCO2', 'SaO2', 'AST', 'BUN', 'Alkalinephos', 'Calcium', 'Chloride', 'Creatinine', 'Bilirubin_direct', 'Glucose', 'Lactate', 'Magnesium', 'Phosphate', 'Potassium', 'Bilirubin_total', 'TroponinI', 'Hct', 'Hgb', 'PTT', 'WBC', 'Fibrinogen', 'Platelets', 'Age', 'Gender', 'Unit1', 'Unit2', 'HospAdmTime', 'ICULOS', 'hospital', 'AvailMeas', 'Time', 'maskHR', 'maskO2Sat', 'maskTemp', 'maskSBP', 'maskMAP', 'maskDBP', 'maskResp', 'maskEtCO2', 'maskBaseExcess', 'maskHCO3', 'maskFiO2', 'maskpH', 'maskPaCO2', 'maskSaO2', 'maskAST', 'maskBUN', 'maskAlkalinephos', 'maskCalcium', 'maskChloride', 'maskCreatinine', 'maskBilirubin_direct', 'maskTroponinI', 'maskHct', 'maskPTT', 'maskWBC', 'maskFibrinogen', 'maskPlatelets', 'maskAge', 'maskGender', 'maskUnit1', 'maskUnit2', 'maskHospAdmTime', 'maskICULOS', 'maskhospital', 'maskGlucose', 'maskLactate', 'maskMagnesium', 'maskPotassium', 'maskBilirubin_total', 'maskHgb', 'maskPhosphate']\n"
          ]
        }
      ],
      "source": [
        "print(list_feature_names)"
      ]
    },
    {
      "cell_type": "code",
      "execution_count": null,
      "metadata": {
        "colab": {
          "base_uri": "https://localhost:8080/"
        },
        "id": "uwxBjlviKAGh",
        "outputId": "5954887f-4dfb-4e5f-fb8e-5e581b4c5072"
      },
      "outputs": [
        {
          "output_type": "stream",
          "name": "stdout",
          "text": [
            "84\n"
          ]
        }
      ],
      "source": [
        "print(len(list_feature_names))"
      ]
    },
    {
      "cell_type": "code",
      "execution_count": null,
      "metadata": {
        "id": "5e5mWqs-Lcnt"
      },
      "outputs": [],
      "source": [
        "# with open(feature_name_file, \"wb\") as fp:   #Pickling\n",
        "#   pickle.dump(list_feature_names, fp)"
      ]
    },
    {
      "cell_type": "markdown",
      "metadata": {
        "id": "u4ZP8exdMH-C"
      },
      "source": [
        "Try to open file to check"
      ]
    },
    {
      "cell_type": "code",
      "execution_count": null,
      "metadata": {
        "colab": {
          "base_uri": "https://localhost:8080/"
        },
        "id": "4r6wuHf2MFrx",
        "outputId": "64d30aa6-c8d9-41ce-f317-47adb7de08da"
      },
      "outputs": [
        {
          "output_type": "stream",
          "name": "stdout",
          "text": [
            "['HR', 'O2Sat', 'Temp', 'SBP', 'MAP', 'DBP', 'Resp', 'EtCO2', 'BaseExcess', 'HCO3', 'FiO2', 'pH', 'PaCO2', 'SaO2', 'AST', 'BUN', 'Alkalinephos', 'Calcium', 'Chloride', 'Creatinine', 'Bilirubin_direct', 'Glucose', 'Lactate', 'Magnesium', 'Phosphate', 'Potassium', 'Bilirubin_total', 'TroponinI', 'Hct', 'Hgb', 'PTT', 'WBC', 'Fibrinogen', 'Platelets', 'Age', 'Gender', 'Unit1', 'Unit2', 'HospAdmTime', 'ICULOS', 'hospital', 'AvailMeas', 'Time', 'maskHR', 'maskO2Sat', 'maskTemp', 'maskSBP', 'maskMAP', 'maskDBP', 'maskResp', 'maskEtCO2', 'maskBaseExcess', 'maskHCO3', 'maskFiO2', 'maskpH', 'maskPaCO2', 'maskSaO2', 'maskAST', 'maskBUN', 'maskAlkalinephos', 'maskCalcium', 'maskChloride', 'maskCreatinine', 'maskBilirubin_direct', 'maskTroponinI', 'maskHct', 'maskPTT', 'maskWBC', 'maskFibrinogen', 'maskPlatelets', 'maskAge', 'maskGender', 'maskUnit1', 'maskUnit2', 'maskHospAdmTime', 'maskICULOS', 'maskhospital', 'maskGlucose', 'maskLactate', 'maskMagnesium', 'maskPotassium', 'maskBilirubin_total', 'maskHgb', 'maskPhosphate']\n"
          ]
        }
      ],
      "source": [
        "with open(feature_name_file, \"rb\") as fp:   # Unpickling\n",
        "  b = pickle.load(fp)\n",
        "\n",
        "print(b)"
      ]
    },
    {
      "cell_type": "code",
      "execution_count": null,
      "metadata": {
        "colab": {
          "base_uri": "https://localhost:8080/"
        },
        "id": "b6vKQl8NlLEb",
        "outputId": "5eee080a-2e42-49e3-e9d6-ea6848b29898"
      },
      "outputs": [
        {
          "output_type": "stream",
          "name": "stdout",
          "text": [
            "84\n"
          ]
        }
      ],
      "source": [
        "print(len(b))"
      ]
    },
    {
      "cell_type": "code",
      "execution_count": null,
      "metadata": {
        "id": "WGn2MFGECs93",
        "colab": {
          "base_uri": "https://localhost:8080/"
        },
        "outputId": "228ca5db-8396-45d2-c964-c195c606e868"
      },
      "outputs": [
        {
          "output_type": "execute_result",
          "data": {
            "text/plain": [
              "tensor(True)"
            ]
          },
          "metadata": {},
          "execution_count": 53
        }
      ],
      "source": [
        "# Check FF or not\n",
        "torch.any(dataset.data.isnan())"
      ]
    },
    {
      "cell_type": "markdown",
      "metadata": {
        "id": "QZPiS9RQKOCl"
      },
      "source": [
        "# 8. Cross validation\n",
        "Want the same number of 'eventual sepsis' cases in each fold, and no patient being in more than one fold. The code below is simply ensuring this. (stratified kfold cv function from sepsis Physionet 2019 winner)"
      ]
    },
    {
      "cell_type": "code",
      "execution_count": null,
      "metadata": {
        "id": "NDixvDmeSidQ"
      },
      "outputs": [],
      "source": [
        "# folder='featurenames_sepsis_ds/'\n",
        "# filename='dataset_subset_five_features_time_avail_hospital_mask.pt'\n",
        "# dataset = torch.load(folder+filename)"
      ]
    },
    {
      "cell_type": "code",
      "source": [
        "%cd ../\n",
        "! pwd"
      ],
      "metadata": {
        "colab": {
          "base_uri": "https://localhost:8080/"
        },
        "id": "2oLtcXQCOoWw",
        "outputId": "4ba00eb2-b7f8-4150-c8e6-2c13849a71fd"
      },
      "execution_count": null,
      "outputs": [
        {
          "output_type": "stream",
          "name": "stdout",
          "text": [
            "/content/drive/MyDrive/CS229btimeseries/Project\n",
            "/content/drive/MyDrive/CS229btimeseries/Project\n"
          ]
        }
      ]
    },
    {
      "cell_type": "code",
      "execution_count": null,
      "metadata": {
        "id": "t7FaxVYOmGtM"
      },
      "outputs": [],
      "source": [
        "dataset = torch.load('dataset_time_masks_missing_20231209.pt')"
      ]
    },
    {
      "cell_type": "code",
      "execution_count": null,
      "metadata": {
        "id": "dIKPiz0FmHEN"
      },
      "outputs": [],
      "source": [
        "num_patients, num_timepoints, total_features = dataset.data.shape"
      ]
    },
    {
      "cell_type": "code",
      "execution_count": null,
      "metadata": {
        "colab": {
          "base_uri": "https://localhost:8080/"
        },
        "id": "x1QMSetp9wXf",
        "outputId": "129cbb27-5e3f-4e78-beb9-06d70769d2f3"
      },
      "outputs": [
        {
          "output_type": "stream",
          "name": "stdout",
          "text": [
            "torch.Size([40336, 336, 84])\n"
          ]
        }
      ],
      "source": [
        "print(dataset.data.shape)"
      ]
    },
    {
      "cell_type": "code",
      "execution_count": null,
      "metadata": {
        "id": "LdG1_7t0KQB4"
      },
      "outputs": [],
      "source": [
        "data_list_variable_time = dataset.to_list()"
      ]
    },
    {
      "cell_type": "code",
      "execution_count": null,
      "metadata": {
        "id": "93f5wYfsjCmr"
      },
      "outputs": [],
      "source": [
        "# Using given code\n",
        "# Get the id-indexed CV fold. We need both patient indexes and time index.\n",
        "# 2/3 train, 1/6 test/ 1/6val\n",
        "cv, id_cv = stratified_kfold_cv(dataset, labels, n_splits=4, return_as_list=True, seed=1) #seed=1\n",
        "train_idxs, val_test_idxs = cv[0] #time index\n",
        "train_id_idxs, val_test_id_idxs = id_cv[0] #patient index"
      ]
    },
    {
      "cell_type": "code",
      "execution_count": null,
      "metadata": {
        "id": "PNrockz0BNDg"
      },
      "outputs": [],
      "source": [
        "# my modification to get validation set as well (half to train dataset)\n",
        "num_patients_train = len(train_idxs)\n",
        "num_patients_val_and_test = len(val_test_idxs)\n",
        "end_idx_val = int(num_patients_val_and_test/2)\n",
        "\n",
        "val_idxs = val_test_idxs[:end_idx_val]\n",
        "val_id_idxs = val_test_id_idxs[:end_idx_val]\n",
        "test_idxs = val_test_idxs[end_idx_val:]\n",
        "test_id_idxs = val_test_id_idxs[end_idx_val:]\n",
        "\n",
        "# Make train and test data\n",
        "train_data = np.array([np.array(dataset.data[i].detach()) for i in train_id_idxs.tolist()])#patient index\n",
        "variable_length_train_labels = [np.array(labels[i].detach()) for i in train_idxs] #time index\n",
        "\n",
        "val_data = np.array([np.array(dataset.data[i].detach()) for i in val_id_idxs.tolist()])\n",
        "variable_length_val_labels = [np.array(labels[i].detach()) for i in val_idxs]\n",
        "\n",
        "test_data = np.array([np.array(dataset.data[i].detach()) for i in test_id_idxs.tolist()])\n",
        "variable_length_test_labels = [np.array(labels[i].detach()) for i in test_idxs]"
      ]
    },
    {
      "cell_type": "code",
      "execution_count": null,
      "metadata": {
        "colab": {
          "base_uri": "https://localhost:8080/"
        },
        "id": "0TfDwwelCnoR",
        "outputId": "e6b8a20a-591b-4c4d-aaad-9d8f1786eb0e"
      },
      "outputs": [
        {
          "output_type": "stream",
          "name": "stdout",
          "text": [
            "Train data shape:  (30252, 336, 84)\n",
            "Val data shape:  (5042, 336, 84)\n",
            "Test data shape:  (5042, 336, 84)\n"
          ]
        }
      ],
      "source": [
        "print(\"Train data shape: \", train_data.shape)\n",
        "print(\"Val data shape: \", val_data.shape)\n",
        "print(\"Test data shape: \", test_data.shape)\n"
      ]
    },
    {
      "cell_type": "code",
      "execution_count": null,
      "metadata": {
        "id": "kyD_yOKNX7xi"
      },
      "outputs": [],
      "source": [
        "num_timepoints=336"
      ]
    },
    {
      "cell_type": "code",
      "execution_count": null,
      "metadata": {
        "id": "hnrcPC73BULr"
      },
      "outputs": [],
      "source": [
        "def pad_sepsis_label_with_last_value(array_of_patient_labels, desired_length_array):\n",
        "  C = np.zeros(desired_length_array)\n",
        "  last_val = array_of_patient_labels[-1:]\n",
        "  padded_array = np.pad(array_of_patient_labels, (0,len(C)-len(array_of_patient_labels)),constant_values=last_val)\n",
        "  return padded_array\n",
        "\n",
        "same_length_train_labels_padded = np.array([pad_sepsis_label_with_last_value(patient_label, num_timepoints) for patient_label in variable_length_train_labels])\n",
        "same_length_val_labels_padded = np.array([pad_sepsis_label_with_last_value(patient_label, num_timepoints) for patient_label in variable_length_val_labels])\n",
        "same_length_test_labels_padded = np.array([pad_sepsis_label_with_last_value(patient_label, num_timepoints) for patient_label in variable_length_test_labels])"
      ]
    },
    {
      "cell_type": "code",
      "execution_count": null,
      "metadata": {
        "colab": {
          "base_uri": "https://localhost:8080/"
        },
        "id": "4PfQDcYvDQvD",
        "outputId": "c10b0cda-6f6a-4900-8db2-a62f788ea1ff"
      },
      "outputs": [
        {
          "output_type": "stream",
          "name": "stdout",
          "text": [
            "(30252, 336)\n"
          ]
        }
      ],
      "source": [
        "print(same_length_train_labels_padded.shape)"
      ]
    },
    {
      "cell_type": "code",
      "execution_count": null,
      "metadata": {
        "colab": {
          "base_uri": "https://localhost:8080/"
        },
        "id": "Vdr-DbN8_mhD",
        "outputId": "06757fb4-1670-4874-86eb-27a07cf8b54c"
      },
      "outputs": [
        {
          "output_type": "stream",
          "name": "stdout",
          "text": [
            "Number of patients that are septic in training:  2199\n",
            "total number of patients in training:  30252\n",
            "\n",
            "\n",
            "Number of patients that are septic in test:  431\n",
            "total number of patients in val:  5042\n",
            "\n",
            "\n",
            "Number of patients that are septic in test:  302\n",
            "total number of patients in test:  5042\n"
          ]
        }
      ],
      "source": [
        "num_patients_that_are_septic = np.count_nonzero(np.sum(same_length_train_labels_padded,axis=1))\n",
        "print(\"Number of patients that are septic in training: \", num_patients_that_are_septic)\n",
        "print(\"total number of patients in training: \", train_data.shape[0])\n",
        "print(\"\\n\")\n",
        "vnum_patients_that_are_septic = np.count_nonzero(np.sum(same_length_val_labels_padded,axis=1))\n",
        "print(\"Number of patients that are septic in test: \", vnum_patients_that_are_septic)\n",
        "print(\"total number of patients in val: \", val_data.shape[0])\n",
        "print(\"\\n\")\n",
        "tnum_patients_that_are_septic = np.count_nonzero(np.sum(same_length_test_labels_padded,axis=1))\n",
        "print(\"Number of patients that are septic in test: \", tnum_patients_that_are_septic)\n",
        "print(\"total number of patients in test: \", test_data.shape[0])"
      ]
    },
    {
      "cell_type": "markdown",
      "metadata": {
        "id": "Vr3CZQFWDHXA"
      },
      "source": [
        "# 9. Fix the imbalanced data problem (my extension)"
      ]
    },
    {
      "cell_type": "code",
      "execution_count": null,
      "metadata": {
        "id": "aYeusnHFSCnS"
      },
      "outputs": [],
      "source": [
        "#https://stackoverflow.com/questions/4601373/better-way-to-shuffle-two-numpy-arrays-in-unison\n",
        "def unison_shuffled_copies(a, b):\n",
        "    assert len(a) == len(b)\n",
        "    p = numpy.random.permutation(len(a))\n",
        "    return a[p], b[p]\n"
      ]
    },
    {
      "cell_type": "code",
      "execution_count": null,
      "metadata": {
        "id": "iCWuY8S7Dk-f"
      },
      "outputs": [],
      "source": [
        "def balance_septic_data(patient_data, septic_label, factor_nonsepsis):\n",
        "  all_patient_indices = np.arange(patient_data.shape[0])\n",
        "\n",
        "  indicated_sepsis_labels = np.sum(septic_label,axis=1)\n",
        "  id_septic_patient = np.nonzero(indicated_sepsis_labels)[0]\n",
        "  id_non_septic_patient = np.array([idx for idx,val in enumerate(septic_label) if idx not in id_septic_patient])\n",
        "\n",
        "  # Randomly sample indices of some of the non-septic patients\n",
        "  random_id_non_septic = np.random.choice(id_non_septic_patient, size=(int(factor_nonsepsis*len(id_septic_patient))), replace=False)\n",
        "  print('Number of randomly sampled non-septic patients', len(random_id_non_septic))\n",
        "  # Get septic and nonseptic data\n",
        "  septic_patient_data = np.array([np.array(patient_data[i]) for i in id_septic_patient])\n",
        "  only_septic_patient_label = np.array([np.array(septic_label[i]) for i in id_septic_patient])\n",
        "  non_septic_patient_data = np.array([np.array(patient_data[i]) for i in random_id_non_septic])\n",
        "  non_septic_patient_label = np.array([np.array(septic_label[i]) for i in random_id_non_septic])\n",
        "\n",
        "  # Merge into patient_data, septic_label\n",
        "  balanced_patient_data = np.vstack((septic_patient_data,non_septic_patient_data))\n",
        "  balanced_septic_label = np.vstack((only_septic_patient_label,non_septic_patient_label))\n",
        "  print('Input data shape', balanced_patient_data.shape)\n",
        "  print('Output labels shape', balanced_septic_label.shape)\n",
        "\n",
        "  balanced_patient_data,  balanced_septic_label = unison_shuffled_copies(balanced_patient_data, balanced_septic_label)\n",
        "  return balanced_patient_data, balanced_septic_label"
      ]
    },
    {
      "cell_type": "code",
      "execution_count": null,
      "metadata": {
        "colab": {
          "base_uri": "https://localhost:8080/"
        },
        "id": "Z2Rf_z-pD5hl",
        "outputId": "335e2664-c7ec-4158-8d48-c9516dfb7758"
      },
      "outputs": [
        {
          "output_type": "stream",
          "name": "stdout",
          "text": [
            "Number of randomly sampled non-septic patients 3298\n",
            "Input data shape (5497, 336, 84)\n",
            "Output labels shape (5497, 336)\n",
            "Number of randomly sampled non-septic patients 646\n",
            "Input data shape (1077, 336, 84)\n",
            "Output labels shape (1077, 336)\n",
            "Number of randomly sampled non-septic patients 453\n",
            "Input data shape (755, 336, 84)\n",
            "Output labels shape (755, 336)\n"
          ]
        }
      ],
      "source": [
        "train_data, same_length_train_labels_padded = balance_septic_data(train_data, same_length_train_labels_padded,1.5)\n",
        "val_data, same_length_val_labels_padded = balance_septic_data(val_data, same_length_val_labels_padded,1.5)\n",
        "test_data, same_length_test_labels_padded = balance_septic_data(test_data, same_length_test_labels_padded,1.5)"
      ]
    },
    {
      "cell_type": "code",
      "execution_count": null,
      "metadata": {
        "colab": {
          "base_uri": "https://localhost:8080/"
        },
        "id": "C0IvmxE15_9o",
        "outputId": "7fa5783d-52f8-44d7-b96e-3d5272adfd0b"
      },
      "outputs": [
        {
          "output_type": "stream",
          "name": "stdout",
          "text": [
            "Number of patients that are septic in training:  2199\n",
            "total number of patients in training:  5497\n",
            "\n",
            "\n",
            "Number of patients that are septic in test:  431\n",
            "total number of patients in val:  1077\n",
            "\n",
            "\n",
            "Number of patients that are septic in test:  302\n",
            "total number of patients in test:  755\n"
          ]
        }
      ],
      "source": [
        "num_patients_that_are_septic = np.count_nonzero(np.sum(same_length_train_labels_padded,axis=1))\n",
        "print(\"Number of patients that are septic in training: \", num_patients_that_are_septic)\n",
        "print(\"total number of patients in training: \", train_data.shape[0])\n",
        "print(\"\\n\")\n",
        "vnum_patients_that_are_septic = np.count_nonzero(np.sum(same_length_val_labels_padded,axis=1))\n",
        "print(\"Number of patients that are septic in test: \", vnum_patients_that_are_septic)\n",
        "print(\"total number of patients in val: \", val_data.shape[0])\n",
        "print(\"\\n\")\n",
        "tnum_patients_that_are_septic = np.count_nonzero(np.sum(same_length_test_labels_padded,axis=1))\n",
        "print(\"Number of patients that are septic in test: \", tnum_patients_that_are_septic)\n",
        "print(\"total number of patients in test: \", test_data.shape[0])\n"
      ]
    },
    {
      "cell_type": "code",
      "execution_count": null,
      "metadata": {
        "colab": {
          "base_uri": "https://localhost:8080/"
        },
        "id": "6hO57dSjx1fY",
        "outputId": "8eef6f47-0639-40e2-d8c8-a90adae427f3"
      },
      "outputs": [
        {
          "output_type": "stream",
          "name": "stdout",
          "text": [
            "(5497, 336)\n",
            "(1077, 336)\n",
            "(755, 336)\n"
          ]
        }
      ],
      "source": [
        "print(same_length_train_labels_padded.shape)\n",
        "print(same_length_val_labels_padded.shape)\n",
        "print(same_length_test_labels_padded.shape)"
      ]
    },
    {
      "cell_type": "markdown",
      "metadata": {
        "id": "mPkHwvxQIw3R"
      },
      "source": [
        "# 10. Save train/val/test data + labels"
      ]
    },
    {
      "cell_type": "code",
      "execution_count": null,
      "metadata": {
        "colab": {
          "base_uri": "https://localhost:8080/"
        },
        "id": "ShKPPy-wRuHx",
        "outputId": "a8ef0a1f-9f3a-4a5f-93b3-42b71bd0f1ef"
      },
      "outputs": [
        {
          "name": "stdout",
          "output_type": "stream",
          "text": [
            "/content/drive/MyDrive/CS229btimeseries/Project\n"
          ]
        }
      ],
      "source": [
        "%cd ../"
      ]
    },
    {
      "cell_type": "code",
      "execution_count": null,
      "metadata": {
        "id": "g0xE7n-RYOiC"
      },
      "outputs": [],
      "source": [
        "train_folder='train_val_test_sepsis_datasets/'"
      ]
    },
    {
      "cell_type": "code",
      "execution_count": null,
      "metadata": {
        "id": "87eAJ-4_aDu4"
      },
      "outputs": [],
      "source": [
        "#torch.save(train_data,train_folder+'train_data_missing_t_masks_unscaled_20231209.pt')\n",
        "#torch.save(val_data,train_folder+'val_data_missing_t_masks_unscaled_20231209.pt')\n",
        "#torch.save(test_data,train_folder+'test_data_missing_t_masks_unscaled_20231209.pt')"
      ]
    },
    {
      "cell_type": "code",
      "execution_count": null,
      "metadata": {
        "id": "HGSV3QxmB2BD"
      },
      "outputs": [],
      "source": [
        "#torch.save(same_length_train_labels_padded, train_folder+'train_targets_missing_t_masks_unscaled_20231209.pt')\n",
        "#torch.save(same_length_val_labels_padded, train_folder+'val_targets_missing_t_masks_unscaled_20231209.pt')\n",
        "#torch.save(same_length_test_labels_padded, train_folder+'test_targets_missing_t_masks_unscaled_20231209.pt')"
      ]
    },
    {
      "cell_type": "markdown",
      "metadata": {
        "id": "NQauIg7RI3lI"
      },
      "source": [
        "# BEYOND 11. Scale feature matrix and set batch size"
      ]
    },
    {
      "cell_type": "code",
      "execution_count": null,
      "metadata": {
        "id": "a1v1GcdryW-R"
      },
      "outputs": [],
      "source": [
        "from sklearn.preprocessing import MinMaxScaler, StandardScaler, MaxAbsScaler, RobustScaler\n",
        "# Scale the feature data from 0 to 1\n",
        "def get_scaler(scaler):\n",
        "    \"\"\"Apply scalar transformation to features\"\"\"\n",
        "    scalers = {\n",
        "        \"minmax\": MinMaxScaler,\n",
        "        \"standard\": StandardScaler,\n",
        "        \"maxabs\": MaxAbsScaler,\n",
        "        \"robust\": RobustScaler,\n",
        "    }\n",
        "    return scalers.get(scaler.lower())()"
      ]
    },
    {
      "cell_type": "markdown",
      "metadata": {
        "id": "iFbq7zE5yktr"
      },
      "source": [
        "# SET BATCH SIZE"
      ]
    },
    {
      "cell_type": "code",
      "execution_count": null,
      "metadata": {
        "colab": {
          "base_uri": "https://localhost:8080/"
        },
        "id": "7l0iRa5WykHL",
        "outputId": "c5e04570-feb3-46c1-a98b-6cfe2632aa18"
      },
      "outputs": [
        {
          "name": "stdout",
          "output_type": "stream",
          "text": [
            "43\n"
          ]
        }
      ],
      "source": [
        "batch_size=512\n",
        "num_features = train_data.shape[2]\n",
        "print(num_features)"
      ]
    },
    {
      "cell_type": "code",
      "execution_count": null,
      "metadata": {
        "colab": {
          "base_uri": "https://localhost:8080/",
          "height": 255
        },
        "id": "ls-fL0s2ypBO",
        "outputId": "6d0292fb-61af-4488-be50-384c7e6b1ab6"
      },
      "outputs": [
        {
          "ename": "NameError",
          "evalue": "ignored",
          "output_type": "error",
          "traceback": [
            "\u001b[0;31m---------------------------------------------------------------------------\u001b[0m",
            "\u001b[0;31mNameError\u001b[0m                                 Traceback (most recent call last)",
            "\u001b[0;32m<ipython-input-1-7919bbe7cc9f>\u001b[0m in \u001b[0;36m<cell line: 2>\u001b[0;34m()\u001b[0m\n\u001b[1;32m      1\u001b[0m \u001b[0;31m# Scale features\u001b[0m\u001b[0;34m\u001b[0m\u001b[0;34m\u001b[0m\u001b[0m\n\u001b[0;32m----> 2\u001b[0;31m \u001b[0mscaler\u001b[0m \u001b[0;34m=\u001b[0m \u001b[0mget_scaler\u001b[0m\u001b[0;34m(\u001b[0m\u001b[0;34m'minmax'\u001b[0m\u001b[0;34m)\u001b[0m\u001b[0;34m\u001b[0m\u001b[0;34m\u001b[0m\u001b[0m\n\u001b[0m\u001b[1;32m      3\u001b[0m \u001b[0mnum_instances\u001b[0m\u001b[0;34m,\u001b[0m \u001b[0mnum_time_steps\u001b[0m\u001b[0;34m,\u001b[0m \u001b[0mnum_features\u001b[0m \u001b[0;34m=\u001b[0m \u001b[0mtrain_data\u001b[0m\u001b[0;34m.\u001b[0m\u001b[0mshape\u001b[0m\u001b[0;34m\u001b[0m\u001b[0;34m\u001b[0m\u001b[0m\n\u001b[1;32m      4\u001b[0m \u001b[0mtrain_data_unrolled\u001b[0m \u001b[0;34m=\u001b[0m \u001b[0mnp\u001b[0m\u001b[0;34m.\u001b[0m\u001b[0mreshape\u001b[0m\u001b[0;34m(\u001b[0m\u001b[0mtrain_data\u001b[0m\u001b[0;34m,\u001b[0m \u001b[0mnewshape\u001b[0m\u001b[0;34m=\u001b[0m\u001b[0;34m(\u001b[0m\u001b[0;34m-\u001b[0m\u001b[0;36m1\u001b[0m\u001b[0;34m,\u001b[0m \u001b[0mnum_features\u001b[0m\u001b[0;34m)\u001b[0m\u001b[0;34m)\u001b[0m\u001b[0;34m\u001b[0m\u001b[0;34m\u001b[0m\u001b[0m\n\u001b[1;32m      5\u001b[0m \u001b[0mtrain_data_scaled_unrolled\u001b[0m \u001b[0;34m=\u001b[0m \u001b[0mscaler\u001b[0m\u001b[0;34m.\u001b[0m\u001b[0mfit_transform\u001b[0m\u001b[0;34m(\u001b[0m\u001b[0mtrain_data_unrolled\u001b[0m\u001b[0;34m)\u001b[0m\u001b[0;34m\u001b[0m\u001b[0;34m\u001b[0m\u001b[0m\n",
            "\u001b[0;31mNameError\u001b[0m: name 'get_scaler' is not defined"
          ]
        }
      ],
      "source": [
        "# Scale features\n",
        "scaler = get_scaler('minmax')\n",
        "num_instances, num_time_steps, num_features = train_data.shape\n",
        "train_data_unrolled = np.reshape(train_data, newshape=(-1, num_features))\n",
        "train_data_scaled_unrolled = scaler.fit_transform(train_data_unrolled)\n",
        "print(train_data_scaled_unrolled.shape)\n",
        "train_data_scaled = np.reshape(train_data_scaled_unrolled, newshape=(num_instances, num_time_steps, num_features))\n",
        "\n",
        "num_instances, num_time_steps, num_features = val_data.shape\n",
        "val_data_unrolled = np.reshape(val_data, newshape=(-1, num_features))\n",
        "val_data_scaled_unrolled = scaler.transform(val_data_unrolled)\n",
        "val_data_scaled = np.reshape(val_data_scaled_unrolled, newshape=(num_instances, num_time_steps, num_features))\n",
        "\n",
        "num_instances, num_time_steps, num_features = test_data.shape\n",
        "test_data_unrolled = np.reshape(test_data, newshape=(-1, num_features))\n",
        "test_data_scaled_unrolled = scaler.transform(test_data_unrolled)\n",
        "test_data_scaled = np.reshape(test_data_scaled_unrolled, newshape=(num_instances, num_time_steps, num_features))\n",
        "\n",
        "print(train_data_scaled.shape)\n",
        "print(val_data_scaled.shape)\n",
        "print(test_data_scaled.shape)"
      ]
    },
    {
      "cell_type": "code",
      "execution_count": null,
      "metadata": {
        "colab": {
          "base_uri": "https://localhost:8080/"
        },
        "id": "wRr-hCYHXTp5",
        "outputId": "3daf7bae-193f-4447-ee76-d8af3a528b53"
      },
      "outputs": [
        {
          "name": "stdout",
          "output_type": "stream",
          "text": [
            "[0.3452915  0.91999996 0.         0.44481605 0.25167784 0.18815331\n",
            " 0.16       0.         0.4375     0.         0.90826523 0.\n",
            " 0.         0.         0.         0.         0.         0.\n",
            " 0.         0.         0.         0.         0.         0.\n",
            " 0.         0.         0.         0.         0.         0.\n",
            " 0.         0.         0.         0.         0.77904767 1.\n",
            " 0.         0.         0.99503183 0.00597015 0.         0.28947368]\n"
          ]
        }
      ],
      "source": [
        "print(train_data_scaled[0][1])"
      ]
    },
    {
      "cell_type": "markdown",
      "metadata": {
        "id": "zgceItJ0LVt0"
      },
      "source": [
        "# 12. Convert train, val, and test scaled feature matrices and labels to torch tensors"
      ]
    },
    {
      "cell_type": "code",
      "execution_count": null,
      "metadata": {
        "id": "CKZ7ske9x8WW"
      },
      "outputs": [],
      "source": [
        "# Convert train, val, and test outputs and inputs to torch tensors\n",
        "train_data_scaled = torch.tensor(train_data_scaled, dtype=torch.float32)\n",
        "val_data_scaled = torch.tensor(val_data_scaled, dtype=torch.float32)\n",
        "test_data_scaled = torch.tensor(test_data_scaled, dtype=torch.float32)\n",
        "\n",
        "train_labels = torch.tensor(same_length_train_labels_padded, dtype=torch.int64)\n",
        "val_labels = torch.tensor(same_length_val_labels_padded, dtype=torch.int64)\n",
        "test_labels = torch.tensor(same_length_test_labels_padded, dtype=torch.int64)"
      ]
    },
    {
      "cell_type": "code",
      "execution_count": null,
      "metadata": {
        "colab": {
          "base_uri": "https://localhost:8080/"
        },
        "id": "TCdEJSzBQuHx",
        "outputId": "4d873275-4a53-4155-dc2b-eb14fc14ad3c"
      },
      "outputs": [
        {
          "name": "stdout",
          "output_type": "stream",
          "text": [
            "torch.Size([5497, 336])\n"
          ]
        }
      ],
      "source": [
        "print(train_labels.shape)"
      ]
    }
  ],
  "metadata": {
    "colab": {
      "collapsed_sections": [
        "5-9Bq37-HJaI",
        "qHhjPiQ24BXL",
        "ZwmRqjhmHqZr",
        "h6ljAt7VIdB-",
        "npjQgXI4Jyfa",
        "rRYxgDoU9uZx",
        "mWzdc3FS-DhR",
        "ewhW21-T-hUG",
        "s1LCGq01-8VP",
        "QI1FYc9eHT-D",
        "QZPiS9RQKOCl",
        "Vr3CZQFWDHXA",
        "NQauIg7RI3lI"
      ],
      "provenance": []
    },
    "kernelspec": {
      "display_name": "Python 3",
      "name": "python3"
    },
    "language_info": {
      "name": "python"
    }
  },
  "nbformat": 4,
  "nbformat_minor": 0
}