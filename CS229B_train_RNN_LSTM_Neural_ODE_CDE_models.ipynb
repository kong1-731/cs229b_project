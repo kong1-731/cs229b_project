{
  "cells": [
    {
      "cell_type": "markdown",
      "source": [
        "# CS229B Project Code\n",
        "Kyrstyn Ong\n",
        "\n",
        "Run each of the code blocks in order and follow the directions as to what kind of model/dataset (imputed or missing) is desired."
      ],
      "metadata": {
        "id": "_DwJByt7uRnK"
      }
    },
    {
      "cell_type": "markdown",
      "metadata": {
        "id": "5-9Bq37-HJaI"
      },
      "source": [
        "# 0. Prepare environment; Install packages\n",
        "\n"
      ]
    },
    {
      "cell_type": "code",
      "source": [
        "!pip install torchdiffeq"
      ],
      "metadata": {
        "colab": {
          "base_uri": "https://localhost:8080/"
        },
        "id": "cr8417YV-zis",
        "outputId": "a1e380d9-e05b-476e-b693-4a95ea5bd877"
      },
      "execution_count": 106,
      "outputs": [
        {
          "output_type": "stream",
          "name": "stdout",
          "text": [
            "shell-init: error retrieving current directory: getcwd: cannot access parent directories: Transport endpoint is not connected\n",
            "shell-init: error retrieving current directory: getcwd: cannot access parent directories: Transport endpoint is not connected\n",
            "Traceback (most recent call last):\n",
            "  File \"/usr/local/bin/pip3\", line 5, in <module>\n",
            "    from pip._internal.cli.main import main\n",
            "  File \"/usr/local/lib/python3.10/dist-packages/pip/_internal/cli/main.py\", line 10, in <module>\n",
            "    from pip._internal.cli.autocompletion import autocomplete\n",
            "  File \"/usr/local/lib/python3.10/dist-packages/pip/_internal/cli/autocompletion.py\", line 10, in <module>\n",
            "    from pip._internal.cli.main_parser import create_main_parser\n",
            "  File \"/usr/local/lib/python3.10/dist-packages/pip/_internal/cli/main_parser.py\", line 9, in <module>\n",
            "    from pip._internal.build_env import get_runnable_pip\n",
            "  File \"/usr/local/lib/python3.10/dist-packages/pip/_internal/build_env.py\", line 19, in <module>\n",
            "    from pip._internal.cli.spinners import open_spinner\n",
            "  File \"/usr/local/lib/python3.10/dist-packages/pip/_internal/cli/spinners.py\", line 9, in <module>\n",
            "    from pip._internal.utils.logging import get_indentation\n",
            "  File \"/usr/local/lib/python3.10/dist-packages/pip/_internal/utils/logging.py\", line 13, in <module>\n",
            "    from pip._vendor.rich.console import (\n",
            "  File \"/usr/local/lib/python3.10/dist-packages/pip/_vendor/rich/__init__.py\", line 17, in <module>\n",
            "    _IMPORT_CWD = os.path.abspath(os.getcwd())\n",
            "OSError: [Errno 107] Transport endpoint is not connected\n"
          ]
        }
      ]
    },
    {
      "cell_type": "code",
      "execution_count": 107,
      "metadata": {
        "colab": {
          "base_uri": "https://localhost:8080/"
        },
        "id": "Y7Yx3Sm4QbMr",
        "outputId": "ff3cc0d7-581a-4183-cb4a-ce8e821b3e1d"
      },
      "outputs": [
        {
          "output_type": "stream",
          "name": "stdout",
          "text": [
            "shell-init: error retrieving current directory: getcwd: cannot access parent directories: Transport endpoint is not connected\n",
            "shell-init: error retrieving current directory: getcwd: cannot access parent directories: Transport endpoint is not connected\n",
            "Traceback (most recent call last):\n",
            "  File \"/usr/local/bin/pip3\", line 5, in <module>\n",
            "    from pip._internal.cli.main import main\n",
            "  File \"/usr/local/lib/python3.10/dist-packages/pip/_internal/cli/main.py\", line 10, in <module>\n",
            "    from pip._internal.cli.autocompletion import autocomplete\n",
            "  File \"/usr/local/lib/python3.10/dist-packages/pip/_internal/cli/autocompletion.py\", line 10, in <module>\n",
            "    from pip._internal.cli.main_parser import create_main_parser\n",
            "  File \"/usr/local/lib/python3.10/dist-packages/pip/_internal/cli/main_parser.py\", line 9, in <module>\n",
            "    from pip._internal.build_env import get_runnable_pip\n",
            "  File \"/usr/local/lib/python3.10/dist-packages/pip/_internal/build_env.py\", line 19, in <module>\n",
            "    from pip._internal.cli.spinners import open_spinner\n",
            "  File \"/usr/local/lib/python3.10/dist-packages/pip/_internal/cli/spinners.py\", line 9, in <module>\n",
            "    from pip._internal.utils.logging import get_indentation\n",
            "  File \"/usr/local/lib/python3.10/dist-packages/pip/_internal/utils/logging.py\", line 13, in <module>\n",
            "    from pip._vendor.rich.console import (\n",
            "  File \"/usr/local/lib/python3.10/dist-packages/pip/_vendor/rich/__init__.py\", line 17, in <module>\n",
            "    _IMPORT_CWD = os.path.abspath(os.getcwd())\n",
            "OSError: [Errno 107] Transport endpoint is not connected\n",
            "shell-init: error retrieving current directory: getcwd: cannot access parent directories: Transport endpoint is not connected\n",
            "shell-init: error retrieving current directory: getcwd: cannot access parent directories: Transport endpoint is not connected\n",
            "Traceback (most recent call last):\n",
            "  File \"/usr/local/bin/pip3\", line 5, in <module>\n",
            "    from pip._internal.cli.main import main\n",
            "  File \"/usr/local/lib/python3.10/dist-packages/pip/_internal/cli/main.py\", line 10, in <module>\n",
            "    from pip._internal.cli.autocompletion import autocomplete\n",
            "  File \"/usr/local/lib/python3.10/dist-packages/pip/_internal/cli/autocompletion.py\", line 10, in <module>\n",
            "    from pip._internal.cli.main_parser import create_main_parser\n",
            "  File \"/usr/local/lib/python3.10/dist-packages/pip/_internal/cli/main_parser.py\", line 9, in <module>\n",
            "    from pip._internal.build_env import get_runnable_pip\n",
            "  File \"/usr/local/lib/python3.10/dist-packages/pip/_internal/build_env.py\", line 19, in <module>\n",
            "    from pip._internal.cli.spinners import open_spinner\n",
            "  File \"/usr/local/lib/python3.10/dist-packages/pip/_internal/cli/spinners.py\", line 9, in <module>\n",
            "    from pip._internal.utils.logging import get_indentation\n",
            "  File \"/usr/local/lib/python3.10/dist-packages/pip/_internal/utils/logging.py\", line 13, in <module>\n",
            "    from pip._vendor.rich.console import (\n",
            "  File \"/usr/local/lib/python3.10/dist-packages/pip/_vendor/rich/__init__.py\", line 17, in <module>\n",
            "    _IMPORT_CWD = os.path.abspath(os.getcwd())\n",
            "OSError: [Errno 107] Transport endpoint is not connected\n"
          ]
        }
      ],
      "source": [
        "!pip install shap\n",
        "!pip install lime"
      ]
    },
    {
      "cell_type": "code",
      "source": [
        "! pip install torchcde"
      ],
      "metadata": {
        "colab": {
          "base_uri": "https://localhost:8080/"
        },
        "id": "BGRZZgxlmDQ9",
        "outputId": "c4e3dea3-dc64-4fb2-ee7e-93934c27800d"
      },
      "execution_count": 108,
      "outputs": [
        {
          "output_type": "stream",
          "name": "stdout",
          "text": [
            "shell-init: error retrieving current directory: getcwd: cannot access parent directories: Transport endpoint is not connected\n",
            "shell-init: error retrieving current directory: getcwd: cannot access parent directories: Transport endpoint is not connected\n",
            "Traceback (most recent call last):\n",
            "  File \"/usr/local/bin/pip3\", line 5, in <module>\n",
            "    from pip._internal.cli.main import main\n",
            "  File \"/usr/local/lib/python3.10/dist-packages/pip/_internal/cli/main.py\", line 10, in <module>\n",
            "    from pip._internal.cli.autocompletion import autocomplete\n",
            "  File \"/usr/local/lib/python3.10/dist-packages/pip/_internal/cli/autocompletion.py\", line 10, in <module>\n",
            "    from pip._internal.cli.main_parser import create_main_parser\n",
            "  File \"/usr/local/lib/python3.10/dist-packages/pip/_internal/cli/main_parser.py\", line 9, in <module>\n",
            "    from pip._internal.build_env import get_runnable_pip\n",
            "  File \"/usr/local/lib/python3.10/dist-packages/pip/_internal/build_env.py\", line 19, in <module>\n",
            "    from pip._internal.cli.spinners import open_spinner\n",
            "  File \"/usr/local/lib/python3.10/dist-packages/pip/_internal/cli/spinners.py\", line 9, in <module>\n",
            "    from pip._internal.utils.logging import get_indentation\n",
            "  File \"/usr/local/lib/python3.10/dist-packages/pip/_internal/utils/logging.py\", line 13, in <module>\n",
            "    from pip._vendor.rich.console import (\n",
            "  File \"/usr/local/lib/python3.10/dist-packages/pip/_vendor/rich/__init__.py\", line 17, in <module>\n",
            "    _IMPORT_CWD = os.path.abspath(os.getcwd())\n",
            "OSError: [Errno 107] Transport endpoint is not connected\n"
          ]
        }
      ]
    },
    {
      "cell_type": "markdown",
      "metadata": {
        "id": "h6ljAt7VIdB-"
      },
      "source": [
        "## Import functions to open data"
      ]
    },
    {
      "cell_type": "code",
      "execution_count": 109,
      "metadata": {
        "id": "EANKS8VXIVjt"
      },
      "outputs": [],
      "source": [
        "\n",
        "import numpy as np\n",
        "import torch\n",
        "from torch.utils.data import DataLoader\n",
        "from torch import optim\n",
        "from tqdm import tqdm\n",
        "import matplotlib.pyplot as plt\n",
        "import seaborn as sns\n",
        "import torch.nn as nn\n",
        "from torch.nn.modules.container import T\n",
        "from torchdiffeq import odeint\n",
        "import time\n"
      ]
    },
    {
      "cell_type": "code",
      "source": [
        "import torchcde"
      ],
      "metadata": {
        "id": "_7G4-Eg0HQWY"
      },
      "execution_count": 110,
      "outputs": []
    },
    {
      "cell_type": "code",
      "execution_count": 111,
      "metadata": {
        "id": "oQ8iFBZjdfst"
      },
      "outputs": [],
      "source": [
        "from IPython.lib.pretty import PrettyPrinter\n",
        "## Added my own function\n",
        "\n",
        "def torch_bfill(data):\n",
        "    \"\"\" Backward fill for a torch tensor.\n",
        "\n",
        "    Input: torch tensor input of shape [N, L, C] and will backward along the 2nd (L)\n",
        "    dimension.\n",
        "    Output: backward-filled torch tensor output of shape [N, L, C] for NaN values\n",
        "\n",
        "    References: With reference to torch_ffill defined by XXXX.\n",
        "    \"\"\"\n",
        "    def bfill2d(arr):\n",
        "        \"\"\" 2d Backward fill.\n",
        "        Input: 2d numpy array\n",
        "        Output: Backfilled 2d numpy array for Nan values\"\"\"\n",
        "        # Convert array to pandas DataFrame array\n",
        "        arr_pd = pd.DataFrame(arr)\n",
        "        # Replace nans with None's in order to use pandas backfill function\n",
        "        arr_pd = arr_pd.replace({np.nan:None})\n",
        "        # Backfill tensor with pandas\n",
        "        backfill_arr_pd = arr_pd.bfill(axis=1)\n",
        "        # Convert dataframe back into array\n",
        "        backfill_tensor = np.array(backfill_arr_pd.values)\n",
        "        out = backfill_tensor\n",
        "        return out\n",
        "\n",
        "    data_bfilled = torch.Tensor([bfill2d(x.numpy().T) for x in data]).transpose(1, 2)\n",
        "    return data_bfilled"
      ]
    },
    {
      "cell_type": "markdown",
      "metadata": {
        "id": "iqdYbwWsJr_C"
      },
      "source": [
        "## Connect to device"
      ]
    },
    {
      "cell_type": "code",
      "execution_count": 112,
      "metadata": {
        "id": "Qq-ecsXtJotg"
      },
      "outputs": [],
      "source": [
        "# GPU\n",
        "device = torch.device('cuda') if torch.cuda.is_available() else torch.device('cpu')"
      ]
    },
    {
      "cell_type": "code",
      "source": [
        "print(device)"
      ],
      "metadata": {
        "colab": {
          "base_uri": "https://localhost:8080/"
        },
        "id": "JMQyxwDBhsB7",
        "outputId": "afa19c3c-8341-450a-8f18-055a56bc206d"
      },
      "execution_count": 113,
      "outputs": [
        {
          "output_type": "stream",
          "name": "stdout",
          "text": [
            "cpu\n"
          ]
        }
      ]
    },
    {
      "cell_type": "markdown",
      "source": [
        "# 1. Open training, validation, and test data"
      ],
      "metadata": {
        "id": "yfabF-sgvogr"
      }
    },
    {
      "cell_type": "markdown",
      "source": [
        "## Functions to open dataset"
      ],
      "metadata": {
        "id": "hhl8k_MEvz4u"
      }
    },
    {
      "cell_type": "code",
      "source": [
        "from sklearn.preprocessing import MinMaxScaler, StandardScaler, MaxAbsScaler, RobustScaler\n",
        "# Scale the feature data from 0 to 1\n",
        "def get_scaler(scaler):\n",
        "    \"\"\"Apply scalar transformation to features\"\"\"\n",
        "    scalers = {\n",
        "        \"minmax\": MinMaxScaler,\n",
        "        \"standard\": StandardScaler,\n",
        "        \"maxabs\": MaxAbsScaler,\n",
        "        \"robust\": RobustScaler,\n",
        "    }\n",
        "    return scalers.get(scaler.lower())()"
      ],
      "metadata": {
        "id": "4GXlOaqnv1Q5"
      },
      "execution_count": 114,
      "outputs": []
    },
    {
      "cell_type": "code",
      "source": [
        "# From PhysioNet 2019 Winner \"Can I get your signature?\"\n",
        "import numpy as np\n",
        "import torch\n",
        "from torch.utils.data import Dataset\n",
        "class ListDataset(Dataset):\n",
        "    \"\"\"Simple dataset for ragged length list-style data.\n",
        "\n",
        "    If your data consists of tensors of variable lengths inside a list, indexing this dataset will get the corresponding\n",
        "    list indexed tensor. Useful for deep learning sequential modelling, RNNs, GRUs, etc.\n",
        "    \"\"\"\n",
        "    def __init__(self, data_list, labels):\n",
        "        self.data_list = data_list\n",
        "        self.labels = labels\n",
        "\n",
        "    def __getitem__(self, idx):\n",
        "        return self.data_list[idx], self.labels[idx]\n",
        "\n",
        "    def __len__(self):\n",
        "        return len(self.data_list)"
      ],
      "metadata": {
        "id": "ukC9rLoQzxN8"
      },
      "execution_count": 115,
      "outputs": []
    },
    {
      "cell_type": "markdown",
      "source": [
        "## Open train, val, and test datasets:\n",
        "Uncomment the cells below \"Missing dataset\" in order to train the NeuralCDE model on the missing dataset. Otherwise, uncomment the cells below full dataset in order to train the RNN, LSTM, Neural ODE, or NeuralCDE model (trained on the filled in imputed dataset).\n",
        "\n",
        "These files were prepared and saved using the format_code.ipynb notebook.\n",
        "\n",
        "Then, run the rest of the cells (scale the data, convert scaled feature matrices to torch tensors)."
      ],
      "metadata": {
        "id": "qt9eZsH6wVwl"
      }
    },
    {
      "cell_type": "markdown",
      "source": [
        "### Missing dataset"
      ],
      "metadata": {
        "id": "lmI5w66G44gg"
      }
    },
    {
      "cell_type": "code",
      "source": [
        "!pwd"
      ],
      "metadata": {
        "colab": {
          "base_uri": "https://localhost:8080/"
        },
        "id": "SBtU0pki5XVj",
        "outputId": "8b7c527f-81a1-495c-e336-8830c88336b7"
      },
      "execution_count": 116,
      "outputs": [
        {
          "output_type": "stream",
          "name": "stdout",
          "text": [
            "shell-init: error retrieving current directory: getcwd: cannot access parent directories: Transport endpoint is not connected\n",
            "pwd: error retrieving current directory: getcwd: cannot access parent directories: Transport endpoint is not connected\n"
          ]
        }
      ]
    },
    {
      "cell_type": "code",
      "source": [
        "train_data = torch.load('train_val_test_sepsis_datasets/train_data_missing_t_masks_unscaled_20231209.pt')\n",
        "val_data = torch.load('train_val_test_sepsis_datasets/val_data_missing_t_masks_unscaled_20231209.pt')\n",
        "test_data = torch.load('train_val_test_sepsis_datasets/test_data_missing_t_masks_unscaled_20231209.pt')"
      ],
      "metadata": {
        "id": "7ZZJM4zN46Dx",
        "colab": {
          "base_uri": "https://localhost:8080/"
        },
        "outputId": "41a9713b-0d37-482e-c4d4-71eb244ea6ec"
      },
      "execution_count": null,
      "outputs": [
        {
          "output_type": "stream",
          "name": "stderr",
          "text": [
            "ERROR:root:Internal Python error in the inspect module.\n",
            "Below is the traceback from this internal error.\n",
            "\n",
            "ERROR:root:Internal Python error in the inspect module.\n",
            "Below is the traceback from this internal error.\n",
            "\n",
            "ERROR:root:Internal Python error in the inspect module.\n",
            "Below is the traceback from this internal error.\n",
            "\n"
          ]
        },
        {
          "output_type": "stream",
          "name": "stdout",
          "text": [
            "Traceback (most recent call last):\n",
            "  File \"/usr/local/lib/python3.10/dist-packages/IPython/core/interactiveshell.py\", line 3553, in run_code\n",
            "    exec(code_obj, self.user_global_ns, self.user_ns)\n",
            "  File \"<ipython-input-117-146e5f52903f>\", line 1, in <cell line: 1>\n",
            "    train_data = torch.load('train_val_test_sepsis_datasets/train_data_missing_t_masks_unscaled_20231209.pt')\n",
            "  File \"/usr/local/lib/python3.10/dist-packages/torch/serialization.py\", line 986, in load\n",
            "    with _open_file_like(f, 'rb') as opened_file:\n",
            "  File \"/usr/local/lib/python3.10/dist-packages/torch/serialization.py\", line 435, in _open_file_like\n",
            "    return _open_file(name_or_buffer, mode)\n",
            "  File \"/usr/local/lib/python3.10/dist-packages/torch/serialization.py\", line 416, in __init__\n",
            "    super().__init__(open(name, mode))\n",
            "OSError: [Errno 107] Transport endpoint is not connected: 'train_val_test_sepsis_datasets/train_data_missing_t_masks_unscaled_20231209.pt'\n",
            "\n",
            "During handling of the above exception, another exception occurred:\n",
            "\n",
            "Traceback (most recent call last):\n",
            "  File \"/usr/local/lib/python3.10/dist-packages/IPython/core/interactiveshell.py\", line 2099, in showtraceback\n",
            "    stb = value._render_traceback_()\n",
            "AttributeError: 'OSError' object has no attribute '_render_traceback_'\n",
            "\n",
            "During handling of the above exception, another exception occurred:\n",
            "\n",
            "Traceback (most recent call last):\n",
            "  File \"/usr/local/lib/python3.10/dist-packages/IPython/core/ultratb.py\", line 1101, in get_records\n",
            "    return _fixed_getinnerframes(etb, number_of_lines_of_context, tb_offset)\n",
            "  File \"/usr/local/lib/python3.10/dist-packages/IPython/core/ultratb.py\", line 248, in wrapped\n",
            "    return f(*args, **kwargs)\n",
            "  File \"/usr/local/lib/python3.10/dist-packages/IPython/core/ultratb.py\", line 281, in _fixed_getinnerframes\n",
            "    records = fix_frame_records_filenames(inspect.getinnerframes(etb, context))\n",
            "  File \"/usr/lib/python3.10/inspect.py\", line 1662, in getinnerframes\n",
            "    frameinfo = (tb.tb_frame,) + getframeinfo(tb, context)\n",
            "  File \"/usr/lib/python3.10/inspect.py\", line 1620, in getframeinfo\n",
            "    filename = getsourcefile(frame) or getfile(frame)\n",
            "  File \"/usr/lib/python3.10/inspect.py\", line 829, in getsourcefile\n",
            "    module = getmodule(object, filename)\n",
            "  File \"/usr/lib/python3.10/inspect.py\", line 861, in getmodule\n",
            "    file = getabsfile(object, _filename)\n",
            "  File \"/usr/lib/python3.10/inspect.py\", line 845, in getabsfile\n",
            "    return os.path.normcase(os.path.abspath(_filename))\n",
            "  File \"/usr/lib/python3.10/posixpath.py\", line 384, in abspath\n",
            "    cwd = os.getcwd()\n",
            "OSError: [Errno 107] Transport endpoint is not connected\n",
            "Traceback (most recent call last):\n",
            "  File \"/usr/local/lib/python3.10/dist-packages/IPython/core/interactiveshell.py\", line 3553, in run_code\n",
            "    exec(code_obj, self.user_global_ns, self.user_ns)\n",
            "  File \"<ipython-input-117-146e5f52903f>\", line 1, in <cell line: 1>\n",
            "    train_data = torch.load('train_val_test_sepsis_datasets/train_data_missing_t_masks_unscaled_20231209.pt')\n",
            "  File \"/usr/local/lib/python3.10/dist-packages/torch/serialization.py\", line 986, in load\n",
            "    with _open_file_like(f, 'rb') as opened_file:\n",
            "  File \"/usr/local/lib/python3.10/dist-packages/torch/serialization.py\", line 435, in _open_file_like\n",
            "    return _open_file(name_or_buffer, mode)\n",
            "  File \"/usr/local/lib/python3.10/dist-packages/torch/serialization.py\", line 416, in __init__\n",
            "    super().__init__(open(name, mode))\n",
            "OSError: [Errno 107] Transport endpoint is not connected: 'train_val_test_sepsis_datasets/train_data_missing_t_masks_unscaled_20231209.pt'\n",
            "\n",
            "During handling of the above exception, another exception occurred:\n",
            "\n",
            "Traceback (most recent call last):\n",
            "  File \"/usr/local/lib/python3.10/dist-packages/IPython/core/interactiveshell.py\", line 2099, in showtraceback\n",
            "    stb = value._render_traceback_()\n",
            "AttributeError: 'OSError' object has no attribute '_render_traceback_'\n",
            "\n",
            "During handling of the above exception, another exception occurred:\n",
            "\n",
            "Traceback (most recent call last):\n",
            "  File \"/usr/local/lib/python3.10/dist-packages/IPython/core/interactiveshell.py\", line 3473, in run_ast_nodes\n",
            "    if (await self.run_code(code, result,  async_=asy)):\n",
            "  File \"/usr/local/lib/python3.10/dist-packages/IPython/core/interactiveshell.py\", line 3575, in run_code\n",
            "    self.showtraceback(running_compiled_code=True)\n",
            "  File \"/usr/local/lib/python3.10/dist-packages/IPython/core/interactiveshell.py\", line 2101, in showtraceback\n",
            "    stb = self.InteractiveTB.structured_traceback(etype,\n",
            "  File \"/usr/local/lib/python3.10/dist-packages/IPython/core/ultratb.py\", line 1367, in structured_traceback\n",
            "    return FormattedTB.structured_traceback(\n",
            "  File \"/usr/local/lib/python3.10/dist-packages/IPython/core/ultratb.py\", line 1267, in structured_traceback\n",
            "    return VerboseTB.structured_traceback(\n",
            "  File \"/usr/local/lib/python3.10/dist-packages/IPython/core/ultratb.py\", line 1124, in structured_traceback\n",
            "    formatted_exception = self.format_exception_as_a_whole(etype, evalue, etb, number_of_lines_of_context,\n",
            "  File \"/usr/local/lib/python3.10/dist-packages/IPython/core/ultratb.py\", line 1082, in format_exception_as_a_whole\n",
            "    last_unique, recursion_repeat = find_recursion(orig_etype, evalue, records)\n",
            "  File \"/usr/local/lib/python3.10/dist-packages/IPython/core/ultratb.py\", line 382, in find_recursion\n",
            "    return len(records), 0\n",
            "TypeError: object of type 'NoneType' has no len()\n",
            "\n",
            "During handling of the above exception, another exception occurred:\n",
            "\n",
            "Traceback (most recent call last):\n",
            "  File \"/usr/local/lib/python3.10/dist-packages/IPython/core/interactiveshell.py\", line 2099, in showtraceback\n",
            "    stb = value._render_traceback_()\n",
            "AttributeError: 'TypeError' object has no attribute '_render_traceback_'\n",
            "\n",
            "During handling of the above exception, another exception occurred:\n",
            "\n",
            "Traceback (most recent call last):\n",
            "  File \"/usr/local/lib/python3.10/dist-packages/IPython/core/ultratb.py\", line 1101, in get_records\n",
            "    return _fixed_getinnerframes(etb, number_of_lines_of_context, tb_offset)\n",
            "  File \"/usr/local/lib/python3.10/dist-packages/IPython/core/ultratb.py\", line 248, in wrapped\n",
            "    return f(*args, **kwargs)\n",
            "  File \"/usr/local/lib/python3.10/dist-packages/IPython/core/ultratb.py\", line 281, in _fixed_getinnerframes\n",
            "    records = fix_frame_records_filenames(inspect.getinnerframes(etb, context))\n",
            "  File \"/usr/lib/python3.10/inspect.py\", line 1662, in getinnerframes\n",
            "    frameinfo = (tb.tb_frame,) + getframeinfo(tb, context)\n",
            "  File \"/usr/lib/python3.10/inspect.py\", line 1620, in getframeinfo\n",
            "    filename = getsourcefile(frame) or getfile(frame)\n",
            "  File \"/usr/lib/python3.10/inspect.py\", line 829, in getsourcefile\n",
            "    module = getmodule(object, filename)\n",
            "  File \"/usr/lib/python3.10/inspect.py\", line 861, in getmodule\n",
            "    file = getabsfile(object, _filename)\n",
            "  File \"/usr/lib/python3.10/inspect.py\", line 845, in getabsfile\n",
            "    return os.path.normcase(os.path.abspath(_filename))\n",
            "  File \"/usr/lib/python3.10/posixpath.py\", line 384, in abspath\n",
            "    cwd = os.getcwd()\n",
            "OSError: [Errno 107] Transport endpoint is not connected\n",
            "Traceback (most recent call last):\n",
            "  File \"/usr/local/lib/python3.10/dist-packages/IPython/core/interactiveshell.py\", line 3553, in run_code\n",
            "    exec(code_obj, self.user_global_ns, self.user_ns)\n",
            "  File \"<ipython-input-117-146e5f52903f>\", line 1, in <cell line: 1>\n",
            "    train_data = torch.load('train_val_test_sepsis_datasets/train_data_missing_t_masks_unscaled_20231209.pt')\n",
            "  File \"/usr/local/lib/python3.10/dist-packages/torch/serialization.py\", line 986, in load\n",
            "    with _open_file_like(f, 'rb') as opened_file:\n",
            "  File \"/usr/local/lib/python3.10/dist-packages/torch/serialization.py\", line 435, in _open_file_like\n",
            "    return _open_file(name_or_buffer, mode)\n",
            "  File \"/usr/local/lib/python3.10/dist-packages/torch/serialization.py\", line 416, in __init__\n",
            "    super().__init__(open(name, mode))\n",
            "OSError: [Errno 107] Transport endpoint is not connected: 'train_val_test_sepsis_datasets/train_data_missing_t_masks_unscaled_20231209.pt'\n",
            "\n",
            "During handling of the above exception, another exception occurred:\n",
            "\n",
            "Traceback (most recent call last):\n",
            "  File \"/usr/local/lib/python3.10/dist-packages/IPython/core/interactiveshell.py\", line 2099, in showtraceback\n",
            "    stb = value._render_traceback_()\n",
            "AttributeError: 'OSError' object has no attribute '_render_traceback_'\n",
            "\n",
            "During handling of the above exception, another exception occurred:\n",
            "\n",
            "Traceback (most recent call last):\n",
            "  File \"/usr/local/lib/python3.10/dist-packages/IPython/core/interactiveshell.py\", line 3473, in run_ast_nodes\n",
            "    if (await self.run_code(code, result,  async_=asy)):\n",
            "  File \"/usr/local/lib/python3.10/dist-packages/IPython/core/interactiveshell.py\", line 3575, in run_code\n",
            "    self.showtraceback(running_compiled_code=True)\n",
            "  File \"/usr/local/lib/python3.10/dist-packages/IPython/core/interactiveshell.py\", line 2101, in showtraceback\n",
            "    stb = self.InteractiveTB.structured_traceback(etype,\n",
            "  File \"/usr/local/lib/python3.10/dist-packages/IPython/core/ultratb.py\", line 1367, in structured_traceback\n",
            "    return FormattedTB.structured_traceback(\n",
            "  File \"/usr/local/lib/python3.10/dist-packages/IPython/core/ultratb.py\", line 1267, in structured_traceback\n",
            "    return VerboseTB.structured_traceback(\n",
            "  File \"/usr/local/lib/python3.10/dist-packages/IPython/core/ultratb.py\", line 1124, in structured_traceback\n",
            "    formatted_exception = self.format_exception_as_a_whole(etype, evalue, etb, number_of_lines_of_context,\n",
            "  File \"/usr/local/lib/python3.10/dist-packages/IPython/core/ultratb.py\", line 1082, in format_exception_as_a_whole\n",
            "    last_unique, recursion_repeat = find_recursion(orig_etype, evalue, records)\n",
            "  File \"/usr/local/lib/python3.10/dist-packages/IPython/core/ultratb.py\", line 382, in find_recursion\n",
            "    return len(records), 0\n",
            "TypeError: object of type 'NoneType' has no len()\n",
            "\n",
            "During handling of the above exception, another exception occurred:\n",
            "\n",
            "Traceback (most recent call last):\n",
            "  File \"/usr/local/lib/python3.10/dist-packages/IPython/core/interactiveshell.py\", line 2099, in showtraceback\n",
            "    stb = value._render_traceback_()\n",
            "AttributeError: 'TypeError' object has no attribute '_render_traceback_'\n",
            "\n",
            "During handling of the above exception, another exception occurred:\n",
            "\n",
            "Traceback (most recent call last):\n",
            "  File \"/usr/local/lib/python3.10/dist-packages/IPython/core/interactiveshell.py\", line 3030, in _run_cell\n",
            "    return runner(coro)\n",
            "  File \"/usr/local/lib/python3.10/dist-packages/IPython/core/async_helpers.py\", line 78, in _pseudo_sync_runner\n",
            "    coro.send(None)\n",
            "  File \"/usr/local/lib/python3.10/dist-packages/IPython/core/interactiveshell.py\", line 3257, in run_cell_async\n",
            "    has_raised = await self.run_ast_nodes(code_ast.body, cell_name,\n",
            "  File \"/usr/local/lib/python3.10/dist-packages/IPython/core/interactiveshell.py\", line 3492, in run_ast_nodes\n",
            "    self.showtraceback()\n",
            "  File \"/usr/local/lib/python3.10/dist-packages/IPython/core/interactiveshell.py\", line 2101, in showtraceback\n",
            "    stb = self.InteractiveTB.structured_traceback(etype,\n",
            "  File \"/usr/local/lib/python3.10/dist-packages/IPython/core/ultratb.py\", line 1367, in structured_traceback\n",
            "    return FormattedTB.structured_traceback(\n",
            "  File \"/usr/local/lib/python3.10/dist-packages/IPython/core/ultratb.py\", line 1267, in structured_traceback\n",
            "    return VerboseTB.structured_traceback(\n",
            "  File \"/usr/local/lib/python3.10/dist-packages/IPython/core/ultratb.py\", line 1142, in structured_traceback\n",
            "    formatted_exceptions += self.format_exception_as_a_whole(etype, evalue, etb, lines_of_context,\n",
            "  File \"/usr/local/lib/python3.10/dist-packages/IPython/core/ultratb.py\", line 1082, in format_exception_as_a_whole\n",
            "    last_unique, recursion_repeat = find_recursion(orig_etype, evalue, records)\n",
            "  File \"/usr/local/lib/python3.10/dist-packages/IPython/core/ultratb.py\", line 382, in find_recursion\n",
            "    return len(records), 0\n",
            "TypeError: object of type 'NoneType' has no len()\n",
            "\n",
            "During handling of the above exception, another exception occurred:\n",
            "\n",
            "Traceback (most recent call last):\n",
            "  File \"/usr/local/lib/python3.10/dist-packages/IPython/core/interactiveshell.py\", line 2099, in showtraceback\n",
            "    stb = value._render_traceback_()\n",
            "AttributeError: 'TypeError' object has no attribute '_render_traceback_'\n",
            "\n",
            "During handling of the above exception, another exception occurred:\n",
            "\n",
            "Traceback (most recent call last):\n",
            "  File \"/usr/local/lib/python3.10/dist-packages/IPython/core/ultratb.py\", line 1101, in get_records\n",
            "    return _fixed_getinnerframes(etb, number_of_lines_of_context, tb_offset)\n",
            "  File \"/usr/local/lib/python3.10/dist-packages/IPython/core/ultratb.py\", line 248, in wrapped\n",
            "    return f(*args, **kwargs)\n",
            "  File \"/usr/local/lib/python3.10/dist-packages/IPython/core/ultratb.py\", line 281, in _fixed_getinnerframes\n",
            "    records = fix_frame_records_filenames(inspect.getinnerframes(etb, context))\n",
            "  File \"/usr/lib/python3.10/inspect.py\", line 1662, in getinnerframes\n",
            "    frameinfo = (tb.tb_frame,) + getframeinfo(tb, context)\n",
            "  File \"/usr/lib/python3.10/inspect.py\", line 1620, in getframeinfo\n",
            "    filename = getsourcefile(frame) or getfile(frame)\n",
            "  File \"/usr/lib/python3.10/inspect.py\", line 829, in getsourcefile\n",
            "    module = getmodule(object, filename)\n",
            "  File \"/usr/lib/python3.10/inspect.py\", line 861, in getmodule\n",
            "    file = getabsfile(object, _filename)\n",
            "  File \"/usr/lib/python3.10/inspect.py\", line 845, in getabsfile\n",
            "    return os.path.normcase(os.path.abspath(_filename))\n",
            "  File \"/usr/lib/python3.10/posixpath.py\", line 384, in abspath\n",
            "    cwd = os.getcwd()\n",
            "OSError: [Errno 107] Transport endpoint is not connected\n"
          ]
        }
      ]
    },
    {
      "cell_type": "code",
      "source": [
        "train_labels = torch.load('train_val_test_sepsis_datasets/train_targets_missing_t_masks_unscaled_20231209.pt')\n",
        "val_labels = torch.load('train_val_test_sepsis_datasets/val_targets_missing_t_masks_unscaled_20231209.pt')\n",
        "test_labels = torch.load('train_val_test_sepsis_datasets/test_targets_missing_t_masks_unscaled_20231209.pt')"
      ],
      "metadata": {
        "id": "yYbXmzIXgg2I",
        "colab": {
          "base_uri": "https://localhost:8080/"
        },
        "outputId": "c5b6a651-5e38-4701-e6cd-fa9b722244ce"
      },
      "execution_count": null,
      "outputs": [
        {
          "output_type": "stream",
          "name": "stderr",
          "text": [
            "ERROR:root:Internal Python error in the inspect module.\n",
            "Below is the traceback from this internal error.\n",
            "\n",
            "ERROR:root:Internal Python error in the inspect module.\n",
            "Below is the traceback from this internal error.\n",
            "\n",
            "ERROR:root:Internal Python error in the inspect module.\n",
            "Below is the traceback from this internal error.\n",
            "\n"
          ]
        },
        {
          "output_type": "stream",
          "name": "stdout",
          "text": [
            "Traceback (most recent call last):\n",
            "  File \"/usr/local/lib/python3.10/dist-packages/IPython/core/interactiveshell.py\", line 3553, in run_code\n",
            "    exec(code_obj, self.user_global_ns, self.user_ns)\n",
            "  File \"<ipython-input-117-fd2c413559d8>\", line 1, in <cell line: 1>\n",
            "    train_labels = torch.load('train_val_test_sepsis_datasets/train_targets_missing_t_masks_unscaled_20231209.pt')\n",
            "  File \"/usr/local/lib/python3.10/dist-packages/torch/serialization.py\", line 986, in load\n",
            "    with _open_file_like(f, 'rb') as opened_file:\n",
            "  File \"/usr/local/lib/python3.10/dist-packages/torch/serialization.py\", line 435, in _open_file_like\n",
            "    return _open_file(name_or_buffer, mode)\n",
            "  File \"/usr/local/lib/python3.10/dist-packages/torch/serialization.py\", line 416, in __init__\n",
            "    super().__init__(open(name, mode))\n",
            "OSError: [Errno 107] Transport endpoint is not connected: 'train_val_test_sepsis_datasets/train_targets_missing_t_masks_unscaled_20231209.pt'\n",
            "\n",
            "During handling of the above exception, another exception occurred:\n",
            "\n",
            "Traceback (most recent call last):\n",
            "  File \"/usr/local/lib/python3.10/dist-packages/IPython/core/interactiveshell.py\", line 2099, in showtraceback\n",
            "    stb = value._render_traceback_()\n",
            "AttributeError: 'OSError' object has no attribute '_render_traceback_'\n",
            "\n",
            "During handling of the above exception, another exception occurred:\n",
            "\n",
            "Traceback (most recent call last):\n",
            "  File \"/usr/local/lib/python3.10/dist-packages/IPython/core/ultratb.py\", line 1101, in get_records\n",
            "    return _fixed_getinnerframes(etb, number_of_lines_of_context, tb_offset)\n",
            "  File \"/usr/local/lib/python3.10/dist-packages/IPython/core/ultratb.py\", line 248, in wrapped\n",
            "    return f(*args, **kwargs)\n",
            "  File \"/usr/local/lib/python3.10/dist-packages/IPython/core/ultratb.py\", line 281, in _fixed_getinnerframes\n",
            "    records = fix_frame_records_filenames(inspect.getinnerframes(etb, context))\n",
            "  File \"/usr/lib/python3.10/inspect.py\", line 1662, in getinnerframes\n",
            "    frameinfo = (tb.tb_frame,) + getframeinfo(tb, context)\n",
            "  File \"/usr/lib/python3.10/inspect.py\", line 1620, in getframeinfo\n",
            "    filename = getsourcefile(frame) or getfile(frame)\n",
            "  File \"/usr/lib/python3.10/inspect.py\", line 829, in getsourcefile\n",
            "    module = getmodule(object, filename)\n",
            "  File \"/usr/lib/python3.10/inspect.py\", line 861, in getmodule\n",
            "    file = getabsfile(object, _filename)\n",
            "  File \"/usr/lib/python3.10/inspect.py\", line 845, in getabsfile\n",
            "    return os.path.normcase(os.path.abspath(_filename))\n",
            "  File \"/usr/lib/python3.10/posixpath.py\", line 384, in abspath\n",
            "    cwd = os.getcwd()\n",
            "OSError: [Errno 107] Transport endpoint is not connected\n",
            "Traceback (most recent call last):\n",
            "  File \"/usr/local/lib/python3.10/dist-packages/IPython/core/interactiveshell.py\", line 3553, in run_code\n",
            "    exec(code_obj, self.user_global_ns, self.user_ns)\n",
            "  File \"<ipython-input-117-fd2c413559d8>\", line 1, in <cell line: 1>\n",
            "    train_labels = torch.load('train_val_test_sepsis_datasets/train_targets_missing_t_masks_unscaled_20231209.pt')\n",
            "  File \"/usr/local/lib/python3.10/dist-packages/torch/serialization.py\", line 986, in load\n",
            "    with _open_file_like(f, 'rb') as opened_file:\n",
            "  File \"/usr/local/lib/python3.10/dist-packages/torch/serialization.py\", line 435, in _open_file_like\n",
            "    return _open_file(name_or_buffer, mode)\n",
            "  File \"/usr/local/lib/python3.10/dist-packages/torch/serialization.py\", line 416, in __init__\n",
            "    super().__init__(open(name, mode))\n",
            "OSError: [Errno 107] Transport endpoint is not connected: 'train_val_test_sepsis_datasets/train_targets_missing_t_masks_unscaled_20231209.pt'\n",
            "\n",
            "During handling of the above exception, another exception occurred:\n",
            "\n",
            "Traceback (most recent call last):\n",
            "  File \"/usr/local/lib/python3.10/dist-packages/IPython/core/interactiveshell.py\", line 2099, in showtraceback\n",
            "    stb = value._render_traceback_()\n",
            "AttributeError: 'OSError' object has no attribute '_render_traceback_'\n",
            "\n",
            "During handling of the above exception, another exception occurred:\n",
            "\n",
            "Traceback (most recent call last):\n",
            "  File \"/usr/local/lib/python3.10/dist-packages/IPython/core/interactiveshell.py\", line 3473, in run_ast_nodes\n",
            "    if (await self.run_code(code, result,  async_=asy)):\n",
            "  File \"/usr/local/lib/python3.10/dist-packages/IPython/core/interactiveshell.py\", line 3575, in run_code\n",
            "    self.showtraceback(running_compiled_code=True)\n",
            "  File \"/usr/local/lib/python3.10/dist-packages/IPython/core/interactiveshell.py\", line 2101, in showtraceback\n",
            "    stb = self.InteractiveTB.structured_traceback(etype,\n",
            "  File \"/usr/local/lib/python3.10/dist-packages/IPython/core/ultratb.py\", line 1367, in structured_traceback\n",
            "    return FormattedTB.structured_traceback(\n",
            "  File \"/usr/local/lib/python3.10/dist-packages/IPython/core/ultratb.py\", line 1267, in structured_traceback\n",
            "    return VerboseTB.structured_traceback(\n",
            "  File \"/usr/local/lib/python3.10/dist-packages/IPython/core/ultratb.py\", line 1124, in structured_traceback\n",
            "    formatted_exception = self.format_exception_as_a_whole(etype, evalue, etb, number_of_lines_of_context,\n",
            "  File \"/usr/local/lib/python3.10/dist-packages/IPython/core/ultratb.py\", line 1082, in format_exception_as_a_whole\n",
            "    last_unique, recursion_repeat = find_recursion(orig_etype, evalue, records)\n",
            "  File \"/usr/local/lib/python3.10/dist-packages/IPython/core/ultratb.py\", line 382, in find_recursion\n",
            "    return len(records), 0\n",
            "TypeError: object of type 'NoneType' has no len()\n",
            "\n",
            "During handling of the above exception, another exception occurred:\n",
            "\n",
            "Traceback (most recent call last):\n",
            "  File \"/usr/local/lib/python3.10/dist-packages/IPython/core/interactiveshell.py\", line 2099, in showtraceback\n",
            "    stb = value._render_traceback_()\n",
            "AttributeError: 'TypeError' object has no attribute '_render_traceback_'\n",
            "\n",
            "During handling of the above exception, another exception occurred:\n",
            "\n",
            "Traceback (most recent call last):\n",
            "  File \"/usr/local/lib/python3.10/dist-packages/IPython/core/ultratb.py\", line 1101, in get_records\n",
            "    return _fixed_getinnerframes(etb, number_of_lines_of_context, tb_offset)\n",
            "  File \"/usr/local/lib/python3.10/dist-packages/IPython/core/ultratb.py\", line 248, in wrapped\n",
            "    return f(*args, **kwargs)\n",
            "  File \"/usr/local/lib/python3.10/dist-packages/IPython/core/ultratb.py\", line 281, in _fixed_getinnerframes\n",
            "    records = fix_frame_records_filenames(inspect.getinnerframes(etb, context))\n",
            "  File \"/usr/lib/python3.10/inspect.py\", line 1662, in getinnerframes\n",
            "    frameinfo = (tb.tb_frame,) + getframeinfo(tb, context)\n",
            "  File \"/usr/lib/python3.10/inspect.py\", line 1620, in getframeinfo\n",
            "    filename = getsourcefile(frame) or getfile(frame)\n",
            "  File \"/usr/lib/python3.10/inspect.py\", line 829, in getsourcefile\n",
            "    module = getmodule(object, filename)\n",
            "  File \"/usr/lib/python3.10/inspect.py\", line 861, in getmodule\n",
            "    file = getabsfile(object, _filename)\n",
            "  File \"/usr/lib/python3.10/inspect.py\", line 845, in getabsfile\n",
            "    return os.path.normcase(os.path.abspath(_filename))\n",
            "  File \"/usr/lib/python3.10/posixpath.py\", line 384, in abspath\n",
            "    cwd = os.getcwd()\n",
            "OSError: [Errno 107] Transport endpoint is not connected\n",
            "Traceback (most recent call last):\n",
            "  File \"/usr/local/lib/python3.10/dist-packages/IPython/core/interactiveshell.py\", line 3553, in run_code\n",
            "    exec(code_obj, self.user_global_ns, self.user_ns)\n",
            "  File \"<ipython-input-117-fd2c413559d8>\", line 1, in <cell line: 1>\n",
            "    train_labels = torch.load('train_val_test_sepsis_datasets/train_targets_missing_t_masks_unscaled_20231209.pt')\n",
            "  File \"/usr/local/lib/python3.10/dist-packages/torch/serialization.py\", line 986, in load\n",
            "    with _open_file_like(f, 'rb') as opened_file:\n",
            "  File \"/usr/local/lib/python3.10/dist-packages/torch/serialization.py\", line 435, in _open_file_like\n",
            "    return _open_file(name_or_buffer, mode)\n",
            "  File \"/usr/local/lib/python3.10/dist-packages/torch/serialization.py\", line 416, in __init__\n",
            "    super().__init__(open(name, mode))\n",
            "OSError: [Errno 107] Transport endpoint is not connected: 'train_val_test_sepsis_datasets/train_targets_missing_t_masks_unscaled_20231209.pt'\n",
            "\n",
            "During handling of the above exception, another exception occurred:\n",
            "\n",
            "Traceback (most recent call last):\n",
            "  File \"/usr/local/lib/python3.10/dist-packages/IPython/core/interactiveshell.py\", line 2099, in showtraceback\n",
            "    stb = value._render_traceback_()\n",
            "AttributeError: 'OSError' object has no attribute '_render_traceback_'\n",
            "\n",
            "During handling of the above exception, another exception occurred:\n",
            "\n",
            "Traceback (most recent call last):\n",
            "  File \"/usr/local/lib/python3.10/dist-packages/IPython/core/interactiveshell.py\", line 3473, in run_ast_nodes\n",
            "    if (await self.run_code(code, result,  async_=asy)):\n",
            "  File \"/usr/local/lib/python3.10/dist-packages/IPython/core/interactiveshell.py\", line 3575, in run_code\n",
            "    self.showtraceback(running_compiled_code=True)\n",
            "  File \"/usr/local/lib/python3.10/dist-packages/IPython/core/interactiveshell.py\", line 2101, in showtraceback\n",
            "    stb = self.InteractiveTB.structured_traceback(etype,\n",
            "  File \"/usr/local/lib/python3.10/dist-packages/IPython/core/ultratb.py\", line 1367, in structured_traceback\n",
            "    return FormattedTB.structured_traceback(\n",
            "  File \"/usr/local/lib/python3.10/dist-packages/IPython/core/ultratb.py\", line 1267, in structured_traceback\n",
            "    return VerboseTB.structured_traceback(\n",
            "  File \"/usr/local/lib/python3.10/dist-packages/IPython/core/ultratb.py\", line 1124, in structured_traceback\n",
            "    formatted_exception = self.format_exception_as_a_whole(etype, evalue, etb, number_of_lines_of_context,\n",
            "  File \"/usr/local/lib/python3.10/dist-packages/IPython/core/ultratb.py\", line 1082, in format_exception_as_a_whole\n",
            "    last_unique, recursion_repeat = find_recursion(orig_etype, evalue, records)\n",
            "  File \"/usr/local/lib/python3.10/dist-packages/IPython/core/ultratb.py\", line 382, in find_recursion\n",
            "    return len(records), 0\n",
            "TypeError: object of type 'NoneType' has no len()\n",
            "\n",
            "During handling of the above exception, another exception occurred:\n",
            "\n",
            "Traceback (most recent call last):\n",
            "  File \"/usr/local/lib/python3.10/dist-packages/IPython/core/interactiveshell.py\", line 2099, in showtraceback\n",
            "    stb = value._render_traceback_()\n",
            "AttributeError: 'TypeError' object has no attribute '_render_traceback_'\n",
            "\n",
            "During handling of the above exception, another exception occurred:\n",
            "\n",
            "Traceback (most recent call last):\n",
            "  File \"/usr/local/lib/python3.10/dist-packages/IPython/core/interactiveshell.py\", line 3030, in _run_cell\n",
            "    return runner(coro)\n",
            "  File \"/usr/local/lib/python3.10/dist-packages/IPython/core/async_helpers.py\", line 78, in _pseudo_sync_runner\n",
            "    coro.send(None)\n",
            "  File \"/usr/local/lib/python3.10/dist-packages/IPython/core/interactiveshell.py\", line 3257, in run_cell_async\n",
            "    has_raised = await self.run_ast_nodes(code_ast.body, cell_name,\n",
            "  File \"/usr/local/lib/python3.10/dist-packages/IPython/core/interactiveshell.py\", line 3492, in run_ast_nodes\n",
            "    self.showtraceback()\n",
            "  File \"/usr/local/lib/python3.10/dist-packages/IPython/core/interactiveshell.py\", line 2101, in showtraceback\n",
            "    stb = self.InteractiveTB.structured_traceback(etype,\n",
            "  File \"/usr/local/lib/python3.10/dist-packages/IPython/core/ultratb.py\", line 1367, in structured_traceback\n",
            "    return FormattedTB.structured_traceback(\n",
            "  File \"/usr/local/lib/python3.10/dist-packages/IPython/core/ultratb.py\", line 1267, in structured_traceback\n",
            "    return VerboseTB.structured_traceback(\n",
            "  File \"/usr/local/lib/python3.10/dist-packages/IPython/core/ultratb.py\", line 1142, in structured_traceback\n",
            "    formatted_exceptions += self.format_exception_as_a_whole(etype, evalue, etb, lines_of_context,\n",
            "  File \"/usr/local/lib/python3.10/dist-packages/IPython/core/ultratb.py\", line 1082, in format_exception_as_a_whole\n",
            "    last_unique, recursion_repeat = find_recursion(orig_etype, evalue, records)\n",
            "  File \"/usr/local/lib/python3.10/dist-packages/IPython/core/ultratb.py\", line 382, in find_recursion\n",
            "    return len(records), 0\n",
            "TypeError: object of type 'NoneType' has no len()\n",
            "\n",
            "During handling of the above exception, another exception occurred:\n",
            "\n",
            "Traceback (most recent call last):\n",
            "  File \"/usr/local/lib/python3.10/dist-packages/IPython/core/interactiveshell.py\", line 2099, in showtraceback\n",
            "    stb = value._render_traceback_()\n",
            "AttributeError: 'TypeError' object has no attribute '_render_traceback_'\n",
            "\n",
            "During handling of the above exception, another exception occurred:\n",
            "\n",
            "Traceback (most recent call last):\n",
            "  File \"/usr/local/lib/python3.10/dist-packages/IPython/core/ultratb.py\", line 1101, in get_records\n",
            "    return _fixed_getinnerframes(etb, number_of_lines_of_context, tb_offset)\n",
            "  File \"/usr/local/lib/python3.10/dist-packages/IPython/core/ultratb.py\", line 248, in wrapped\n",
            "    return f(*args, **kwargs)\n",
            "  File \"/usr/local/lib/python3.10/dist-packages/IPython/core/ultratb.py\", line 281, in _fixed_getinnerframes\n",
            "    records = fix_frame_records_filenames(inspect.getinnerframes(etb, context))\n",
            "  File \"/usr/lib/python3.10/inspect.py\", line 1662, in getinnerframes\n",
            "    frameinfo = (tb.tb_frame,) + getframeinfo(tb, context)\n",
            "  File \"/usr/lib/python3.10/inspect.py\", line 1620, in getframeinfo\n",
            "    filename = getsourcefile(frame) or getfile(frame)\n",
            "  File \"/usr/lib/python3.10/inspect.py\", line 829, in getsourcefile\n",
            "    module = getmodule(object, filename)\n",
            "  File \"/usr/lib/python3.10/inspect.py\", line 861, in getmodule\n",
            "    file = getabsfile(object, _filename)\n",
            "  File \"/usr/lib/python3.10/inspect.py\", line 845, in getabsfile\n",
            "    return os.path.normcase(os.path.abspath(_filename))\n",
            "  File \"/usr/lib/python3.10/posixpath.py\", line 384, in abspath\n",
            "    cwd = os.getcwd()\n",
            "OSError: [Errno 107] Transport endpoint is not connected\n"
          ]
        }
      ]
    },
    {
      "cell_type": "code",
      "source": [
        "# Check shapes (for missing data F=84 with masks)\n",
        "print(train_data.shape)\n",
        "print(train_labels.shape)\n",
        "print(val_data.shape)\n",
        "print(val_labels.shape)\n",
        "print(test_data.shape)\n",
        "print(test_labels.shape)"
      ],
      "metadata": {
        "id": "A0JZzgPq5s4N",
        "colab": {
          "base_uri": "https://localhost:8080/"
        },
        "outputId": "38bd3f74-3fdb-4f2f-8ef4-6a95b08aff46"
      },
      "execution_count": 117,
      "outputs": [
        {
          "output_type": "stream",
          "name": "stdout",
          "text": [
            "(5497, 336, 84)\n",
            "torch.Size([5497, 336])\n",
            "(1077, 336, 84)\n",
            "torch.Size([1077, 336])\n",
            "(755, 336, 84)\n",
            "torch.Size([755, 336])\n"
          ]
        }
      ]
    },
    {
      "cell_type": "code",
      "source": [
        "#Open list of feature names corresponding to the input feature data\n",
        "feature_name_folder='featurenames_CS229B_project/'\n",
        "feature_name_file=feature_name_folder+'featlabel_dataset_time_masks_missing_20231209.pt'"
      ],
      "metadata": {
        "id": "x5R4QU7x5Sh7"
      },
      "execution_count": 118,
      "outputs": []
    },
    {
      "cell_type": "code",
      "source": [
        "with open(feature_name_file, \"rb\") as fp:   # Unpickling\n",
        "  input_feature_labels = pickle.load(fp)"
      ],
      "metadata": {
        "id": "jh_-fjOr5-11",
        "colab": {
          "base_uri": "https://localhost:8080/"
        },
        "outputId": "e3dea5da-ba07-44b9-ee87-7c26cc009af4"
      },
      "execution_count": null,
      "outputs": [
        {
          "output_type": "stream",
          "name": "stderr",
          "text": [
            "ERROR:root:Internal Python error in the inspect module.\n",
            "Below is the traceback from this internal error.\n",
            "\n",
            "ERROR:root:Internal Python error in the inspect module.\n",
            "Below is the traceback from this internal error.\n",
            "\n"
          ]
        },
        {
          "output_type": "stream",
          "name": "stdout",
          "text": [
            "Traceback (most recent call last):\n",
            "  File \"/usr/local/lib/python3.10/dist-packages/IPython/core/interactiveshell.py\", line 3553, in run_code\n",
            "    exec(code_obj, self.user_global_ns, self.user_ns)\n",
            "  File \"<ipython-input-119-31a2190d8214>\", line 1, in <cell line: 1>\n",
            "    with open(feature_name_file, \"rb\") as fp:   # Unpickling\n",
            "OSError: [Errno 107] Transport endpoint is not connected: 'featurenames_CS229B_project/featlabel_dataset_time_masks_missing_20231209.pt'\n",
            "\n",
            "During handling of the above exception, another exception occurred:\n",
            "\n",
            "Traceback (most recent call last):\n",
            "  File \"/usr/local/lib/python3.10/dist-packages/IPython/core/interactiveshell.py\", line 2099, in showtraceback\n",
            "    stb = value._render_traceback_()\n",
            "AttributeError: 'OSError' object has no attribute '_render_traceback_'\n",
            "\n",
            "During handling of the above exception, another exception occurred:\n",
            "\n",
            "Traceback (most recent call last):\n",
            "  File \"/usr/local/lib/python3.10/dist-packages/IPython/core/ultratb.py\", line 1101, in get_records\n",
            "    return _fixed_getinnerframes(etb, number_of_lines_of_context, tb_offset)\n",
            "  File \"/usr/local/lib/python3.10/dist-packages/IPython/core/ultratb.py\", line 248, in wrapped\n",
            "    return f(*args, **kwargs)\n",
            "  File \"/usr/local/lib/python3.10/dist-packages/IPython/core/ultratb.py\", line 281, in _fixed_getinnerframes\n",
            "    records = fix_frame_records_filenames(inspect.getinnerframes(etb, context))\n",
            "  File \"/usr/lib/python3.10/inspect.py\", line 1662, in getinnerframes\n",
            "    frameinfo = (tb.tb_frame,) + getframeinfo(tb, context)\n",
            "  File \"/usr/lib/python3.10/inspect.py\", line 1620, in getframeinfo\n",
            "    filename = getsourcefile(frame) or getfile(frame)\n",
            "  File \"/usr/lib/python3.10/inspect.py\", line 829, in getsourcefile\n",
            "    module = getmodule(object, filename)\n",
            "  File \"/usr/lib/python3.10/inspect.py\", line 861, in getmodule\n",
            "    file = getabsfile(object, _filename)\n",
            "  File \"/usr/lib/python3.10/inspect.py\", line 845, in getabsfile\n",
            "    return os.path.normcase(os.path.abspath(_filename))\n",
            "  File \"/usr/lib/python3.10/posixpath.py\", line 384, in abspath\n",
            "    cwd = os.getcwd()\n",
            "OSError: [Errno 107] Transport endpoint is not connected\n",
            "Traceback (most recent call last):\n",
            "  File \"/usr/local/lib/python3.10/dist-packages/IPython/core/interactiveshell.py\", line 3553, in run_code\n",
            "    exec(code_obj, self.user_global_ns, self.user_ns)\n",
            "  File \"<ipython-input-119-31a2190d8214>\", line 1, in <cell line: 1>\n",
            "    with open(feature_name_file, \"rb\") as fp:   # Unpickling\n",
            "OSError: [Errno 107] Transport endpoint is not connected: 'featurenames_CS229B_project/featlabel_dataset_time_masks_missing_20231209.pt'\n",
            "\n",
            "During handling of the above exception, another exception occurred:\n",
            "\n",
            "Traceback (most recent call last):\n",
            "  File \"/usr/local/lib/python3.10/dist-packages/IPython/core/interactiveshell.py\", line 2099, in showtraceback\n",
            "    stb = value._render_traceback_()\n",
            "AttributeError: 'OSError' object has no attribute '_render_traceback_'\n",
            "\n",
            "During handling of the above exception, another exception occurred:\n",
            "\n",
            "Traceback (most recent call last):\n",
            "  File \"/usr/local/lib/python3.10/dist-packages/IPython/core/interactiveshell.py\", line 3473, in run_ast_nodes\n",
            "    if (await self.run_code(code, result,  async_=asy)):\n",
            "  File \"/usr/local/lib/python3.10/dist-packages/IPython/core/interactiveshell.py\", line 3575, in run_code\n",
            "    self.showtraceback(running_compiled_code=True)\n",
            "  File \"/usr/local/lib/python3.10/dist-packages/IPython/core/interactiveshell.py\", line 2101, in showtraceback\n",
            "    stb = self.InteractiveTB.structured_traceback(etype,\n",
            "  File \"/usr/local/lib/python3.10/dist-packages/IPython/core/ultratb.py\", line 1367, in structured_traceback\n",
            "    return FormattedTB.structured_traceback(\n",
            "  File \"/usr/local/lib/python3.10/dist-packages/IPython/core/ultratb.py\", line 1267, in structured_traceback\n",
            "    return VerboseTB.structured_traceback(\n",
            "  File \"/usr/local/lib/python3.10/dist-packages/IPython/core/ultratb.py\", line 1124, in structured_traceback\n",
            "    formatted_exception = self.format_exception_as_a_whole(etype, evalue, etb, number_of_lines_of_context,\n",
            "  File \"/usr/local/lib/python3.10/dist-packages/IPython/core/ultratb.py\", line 1082, in format_exception_as_a_whole\n",
            "    last_unique, recursion_repeat = find_recursion(orig_etype, evalue, records)\n",
            "  File \"/usr/local/lib/python3.10/dist-packages/IPython/core/ultratb.py\", line 382, in find_recursion\n",
            "    return len(records), 0\n",
            "TypeError: object of type 'NoneType' has no len()\n",
            "\n",
            "During handling of the above exception, another exception occurred:\n",
            "\n",
            "Traceback (most recent call last):\n",
            "  File \"/usr/local/lib/python3.10/dist-packages/IPython/core/interactiveshell.py\", line 2099, in showtraceback\n",
            "    stb = value._render_traceback_()\n",
            "AttributeError: 'TypeError' object has no attribute '_render_traceback_'\n",
            "\n",
            "During handling of the above exception, another exception occurred:\n",
            "\n",
            "Traceback (most recent call last):\n",
            "  File \"/usr/local/lib/python3.10/dist-packages/IPython/core/ultratb.py\", line 1101, in get_records\n",
            "    return _fixed_getinnerframes(etb, number_of_lines_of_context, tb_offset)\n",
            "  File \"/usr/local/lib/python3.10/dist-packages/IPython/core/ultratb.py\", line 248, in wrapped\n",
            "    return f(*args, **kwargs)\n",
            "  File \"/usr/local/lib/python3.10/dist-packages/IPython/core/ultratb.py\", line 281, in _fixed_getinnerframes\n",
            "    records = fix_frame_records_filenames(inspect.getinnerframes(etb, context))\n",
            "  File \"/usr/lib/python3.10/inspect.py\", line 1662, in getinnerframes\n",
            "    frameinfo = (tb.tb_frame,) + getframeinfo(tb, context)\n",
            "  File \"/usr/lib/python3.10/inspect.py\", line 1620, in getframeinfo\n",
            "    filename = getsourcefile(frame) or getfile(frame)\n",
            "  File \"/usr/lib/python3.10/inspect.py\", line 829, in getsourcefile\n",
            "    module = getmodule(object, filename)\n",
            "  File \"/usr/lib/python3.10/inspect.py\", line 861, in getmodule\n",
            "    file = getabsfile(object, _filename)\n",
            "  File \"/usr/lib/python3.10/inspect.py\", line 845, in getabsfile\n",
            "    return os.path.normcase(os.path.abspath(_filename))\n",
            "  File \"/usr/lib/python3.10/posixpath.py\", line 384, in abspath\n",
            "    cwd = os.getcwd()\n",
            "OSError: [Errno 107] Transport endpoint is not connected\n"
          ]
        },
        {
          "output_type": "stream",
          "name": "stderr",
          "text": [
            "ERROR:root:Internal Python error in the inspect module.\n",
            "Below is the traceback from this internal error.\n",
            "\n"
          ]
        },
        {
          "output_type": "stream",
          "name": "stdout",
          "text": [
            "Traceback (most recent call last):\n",
            "  File \"/usr/local/lib/python3.10/dist-packages/IPython/core/interactiveshell.py\", line 3553, in run_code\n",
            "    exec(code_obj, self.user_global_ns, self.user_ns)\n",
            "  File \"<ipython-input-119-31a2190d8214>\", line 1, in <cell line: 1>\n",
            "    with open(feature_name_file, \"rb\") as fp:   # Unpickling\n",
            "OSError: [Errno 107] Transport endpoint is not connected: 'featurenames_CS229B_project/featlabel_dataset_time_masks_missing_20231209.pt'\n",
            "\n",
            "During handling of the above exception, another exception occurred:\n",
            "\n",
            "Traceback (most recent call last):\n",
            "  File \"/usr/local/lib/python3.10/dist-packages/IPython/core/interactiveshell.py\", line 2099, in showtraceback\n",
            "    stb = value._render_traceback_()\n",
            "AttributeError: 'OSError' object has no attribute '_render_traceback_'\n",
            "\n",
            "During handling of the above exception, another exception occurred:\n",
            "\n",
            "Traceback (most recent call last):\n",
            "  File \"/usr/local/lib/python3.10/dist-packages/IPython/core/interactiveshell.py\", line 3473, in run_ast_nodes\n",
            "    if (await self.run_code(code, result,  async_=asy)):\n",
            "  File \"/usr/local/lib/python3.10/dist-packages/IPython/core/interactiveshell.py\", line 3575, in run_code\n",
            "    self.showtraceback(running_compiled_code=True)\n",
            "  File \"/usr/local/lib/python3.10/dist-packages/IPython/core/interactiveshell.py\", line 2101, in showtraceback\n",
            "    stb = self.InteractiveTB.structured_traceback(etype,\n",
            "  File \"/usr/local/lib/python3.10/dist-packages/IPython/core/ultratb.py\", line 1367, in structured_traceback\n",
            "    return FormattedTB.structured_traceback(\n",
            "  File \"/usr/local/lib/python3.10/dist-packages/IPython/core/ultratb.py\", line 1267, in structured_traceback\n",
            "    return VerboseTB.structured_traceback(\n",
            "  File \"/usr/local/lib/python3.10/dist-packages/IPython/core/ultratb.py\", line 1124, in structured_traceback\n",
            "    formatted_exception = self.format_exception_as_a_whole(etype, evalue, etb, number_of_lines_of_context,\n",
            "  File \"/usr/local/lib/python3.10/dist-packages/IPython/core/ultratb.py\", line 1082, in format_exception_as_a_whole\n",
            "    last_unique, recursion_repeat = find_recursion(orig_etype, evalue, records)\n",
            "  File \"/usr/local/lib/python3.10/dist-packages/IPython/core/ultratb.py\", line 382, in find_recursion\n",
            "    return len(records), 0\n",
            "TypeError: object of type 'NoneType' has no len()\n",
            "\n",
            "During handling of the above exception, another exception occurred:\n",
            "\n",
            "Traceback (most recent call last):\n",
            "  File \"/usr/local/lib/python3.10/dist-packages/IPython/core/interactiveshell.py\", line 2099, in showtraceback\n",
            "    stb = value._render_traceback_()\n",
            "AttributeError: 'TypeError' object has no attribute '_render_traceback_'\n",
            "\n",
            "During handling of the above exception, another exception occurred:\n",
            "\n",
            "Traceback (most recent call last):\n",
            "  File \"/usr/local/lib/python3.10/dist-packages/IPython/core/interactiveshell.py\", line 3030, in _run_cell\n",
            "    return runner(coro)\n",
            "  File \"/usr/local/lib/python3.10/dist-packages/IPython/core/async_helpers.py\", line 78, in _pseudo_sync_runner\n",
            "    coro.send(None)\n",
            "  File \"/usr/local/lib/python3.10/dist-packages/IPython/core/interactiveshell.py\", line 3257, in run_cell_async\n",
            "    has_raised = await self.run_ast_nodes(code_ast.body, cell_name,\n",
            "  File \"/usr/local/lib/python3.10/dist-packages/IPython/core/interactiveshell.py\", line 3492, in run_ast_nodes\n",
            "    self.showtraceback()\n",
            "  File \"/usr/local/lib/python3.10/dist-packages/IPython/core/interactiveshell.py\", line 2101, in showtraceback\n",
            "    stb = self.InteractiveTB.structured_traceback(etype,\n",
            "  File \"/usr/local/lib/python3.10/dist-packages/IPython/core/ultratb.py\", line 1367, in structured_traceback\n",
            "    return FormattedTB.structured_traceback(\n",
            "  File \"/usr/local/lib/python3.10/dist-packages/IPython/core/ultratb.py\", line 1267, in structured_traceback\n",
            "    return VerboseTB.structured_traceback(\n",
            "  File \"/usr/local/lib/python3.10/dist-packages/IPython/core/ultratb.py\", line 1142, in structured_traceback\n",
            "    formatted_exceptions += self.format_exception_as_a_whole(etype, evalue, etb, lines_of_context,\n",
            "  File \"/usr/local/lib/python3.10/dist-packages/IPython/core/ultratb.py\", line 1082, in format_exception_as_a_whole\n",
            "    last_unique, recursion_repeat = find_recursion(orig_etype, evalue, records)\n",
            "  File \"/usr/local/lib/python3.10/dist-packages/IPython/core/ultratb.py\", line 382, in find_recursion\n",
            "    return len(records), 0\n",
            "TypeError: object of type 'NoneType' has no len()\n",
            "\n",
            "During handling of the above exception, another exception occurred:\n",
            "\n",
            "Traceback (most recent call last):\n",
            "  File \"/usr/local/lib/python3.10/dist-packages/IPython/core/interactiveshell.py\", line 2099, in showtraceback\n",
            "    stb = value._render_traceback_()\n",
            "AttributeError: 'TypeError' object has no attribute '_render_traceback_'\n",
            "\n",
            "During handling of the above exception, another exception occurred:\n",
            "\n",
            "Traceback (most recent call last):\n",
            "  File \"/usr/local/lib/python3.10/dist-packages/IPython/core/ultratb.py\", line 1101, in get_records\n",
            "    return _fixed_getinnerframes(etb, number_of_lines_of_context, tb_offset)\n",
            "  File \"/usr/local/lib/python3.10/dist-packages/IPython/core/ultratb.py\", line 248, in wrapped\n",
            "    return f(*args, **kwargs)\n",
            "  File \"/usr/local/lib/python3.10/dist-packages/IPython/core/ultratb.py\", line 281, in _fixed_getinnerframes\n",
            "    records = fix_frame_records_filenames(inspect.getinnerframes(etb, context))\n",
            "  File \"/usr/lib/python3.10/inspect.py\", line 1662, in getinnerframes\n",
            "    frameinfo = (tb.tb_frame,) + getframeinfo(tb, context)\n",
            "  File \"/usr/lib/python3.10/inspect.py\", line 1620, in getframeinfo\n",
            "    filename = getsourcefile(frame) or getfile(frame)\n",
            "  File \"/usr/lib/python3.10/inspect.py\", line 829, in getsourcefile\n",
            "    module = getmodule(object, filename)\n",
            "  File \"/usr/lib/python3.10/inspect.py\", line 861, in getmodule\n",
            "    file = getabsfile(object, _filename)\n",
            "  File \"/usr/lib/python3.10/inspect.py\", line 845, in getabsfile\n",
            "    return os.path.normcase(os.path.abspath(_filename))\n",
            "  File \"/usr/lib/python3.10/posixpath.py\", line 384, in abspath\n",
            "    cwd = os.getcwd()\n",
            "OSError: [Errno 107] Transport endpoint is not connected\n"
          ]
        }
      ]
    },
    {
      "cell_type": "code",
      "source": [
        "print(len(input_feature_labels))"
      ],
      "metadata": {
        "colab": {
          "base_uri": "https://localhost:8080/"
        },
        "id": "AC-nr6DgRIpl",
        "outputId": "3aae1c02-83e5-4e79-e222-1812ced0836a"
      },
      "execution_count": 119,
      "outputs": [
        {
          "output_type": "stream",
          "name": "stdout",
          "text": [
            "84\n"
          ]
        }
      ]
    },
    {
      "cell_type": "code",
      "source": [
        "#For neuralCDE open missing coeffs\n",
        "train_coeffs_scaled = torch.load('train_hermitecoeffs_scaled_missing.pt')\n",
        "val_coeffs_scaled = torch.load('val_hermitecoeffs_scaled_missing.pt')\n",
        "test_coeffs_scaled = torch.load('test_hermitecoeffs_scaled_missing.pt')"
      ],
      "metadata": {
        "id": "9lzeOo9tOxH-",
        "colab": {
          "base_uri": "https://localhost:8080/"
        },
        "outputId": "05c30702-9700-400c-f3cd-448691e6c7e9"
      },
      "execution_count": null,
      "outputs": [
        {
          "output_type": "stream",
          "name": "stderr",
          "text": [
            "ERROR:root:Internal Python error in the inspect module.\n",
            "Below is the traceback from this internal error.\n",
            "\n"
          ]
        },
        {
          "output_type": "stream",
          "name": "stdout",
          "text": [
            "Traceback (most recent call last):\n",
            "  File \"/usr/local/lib/python3.10/dist-packages/IPython/core/interactiveshell.py\", line 3553, in run_code\n",
            "    exec(code_obj, self.user_global_ns, self.user_ns)\n",
            "  File \"<ipython-input-120-fe0cd1f338eb>\", line 2, in <cell line: 2>\n",
            "    train_coeffs_scaled = torch.load('train_hermitecoeffs_scaled_missing.pt')\n",
            "  File \"/usr/local/lib/python3.10/dist-packages/torch/serialization.py\", line 986, in load\n",
            "    with _open_file_like(f, 'rb') as opened_file:\n",
            "  File \"/usr/local/lib/python3.10/dist-packages/torch/serialization.py\", line 435, in _open_file_like\n",
            "    return _open_file(name_or_buffer, mode)\n",
            "  File \"/usr/local/lib/python3.10/dist-packages/torch/serialization.py\", line 416, in __init__\n",
            "    super().__init__(open(name, mode))\n",
            "OSError: [Errno 107] Transport endpoint is not connected: 'train_hermitecoeffs_scaled_missing.pt'\n",
            "\n",
            "During handling of the above exception, another exception occurred:\n",
            "\n",
            "Traceback (most recent call last):\n",
            "  File \"/usr/local/lib/python3.10/dist-packages/IPython/core/interactiveshell.py\", line 2099, in showtraceback\n",
            "    stb = value._render_traceback_()\n",
            "AttributeError: 'OSError' object has no attribute '_render_traceback_'\n",
            "\n",
            "During handling of the above exception, another exception occurred:\n",
            "\n",
            "Traceback (most recent call last):\n",
            "  File \"/usr/local/lib/python3.10/dist-packages/IPython/core/ultratb.py\", line 1101, in get_records\n",
            "    return _fixed_getinnerframes(etb, number_of_lines_of_context, tb_offset)\n",
            "  File \"/usr/local/lib/python3.10/dist-packages/IPython/core/ultratb.py\", line 248, in wrapped\n",
            "    return f(*args, **kwargs)\n",
            "  File \"/usr/local/lib/python3.10/dist-packages/IPython/core/ultratb.py\", line 281, in _fixed_getinnerframes\n",
            "    records = fix_frame_records_filenames(inspect.getinnerframes(etb, context))\n",
            "  File \"/usr/lib/python3.10/inspect.py\", line 1662, in getinnerframes\n",
            "    frameinfo = (tb.tb_frame,) + getframeinfo(tb, context)\n",
            "  File \"/usr/lib/python3.10/inspect.py\", line 1620, in getframeinfo\n",
            "    filename = getsourcefile(frame) or getfile(frame)\n",
            "  File \"/usr/lib/python3.10/inspect.py\", line 829, in getsourcefile\n",
            "    module = getmodule(object, filename)\n",
            "  File \"/usr/lib/python3.10/inspect.py\", line 861, in getmodule\n",
            "    file = getabsfile(object, _filename)\n",
            "  File \"/usr/lib/python3.10/inspect.py\", line 845, in getabsfile\n",
            "    return os.path.normcase(os.path.abspath(_filename))\n",
            "  File \"/usr/lib/python3.10/posixpath.py\", line 384, in abspath\n",
            "    cwd = os.getcwd()\n",
            "OSError: [Errno 107] Transport endpoint is not connected\n"
          ]
        },
        {
          "output_type": "stream",
          "name": "stderr",
          "text": [
            "ERROR:root:Internal Python error in the inspect module.\n",
            "Below is the traceback from this internal error.\n",
            "\n",
            "ERROR:root:Internal Python error in the inspect module.\n",
            "Below is the traceback from this internal error.\n",
            "\n"
          ]
        },
        {
          "output_type": "stream",
          "name": "stdout",
          "text": [
            "Traceback (most recent call last):\n",
            "  File \"/usr/local/lib/python3.10/dist-packages/IPython/core/interactiveshell.py\", line 3553, in run_code\n",
            "    exec(code_obj, self.user_global_ns, self.user_ns)\n",
            "  File \"<ipython-input-120-fe0cd1f338eb>\", line 2, in <cell line: 2>\n",
            "    train_coeffs_scaled = torch.load('train_hermitecoeffs_scaled_missing.pt')\n",
            "  File \"/usr/local/lib/python3.10/dist-packages/torch/serialization.py\", line 986, in load\n",
            "    with _open_file_like(f, 'rb') as opened_file:\n",
            "  File \"/usr/local/lib/python3.10/dist-packages/torch/serialization.py\", line 435, in _open_file_like\n",
            "    return _open_file(name_or_buffer, mode)\n",
            "  File \"/usr/local/lib/python3.10/dist-packages/torch/serialization.py\", line 416, in __init__\n",
            "    super().__init__(open(name, mode))\n",
            "OSError: [Errno 107] Transport endpoint is not connected: 'train_hermitecoeffs_scaled_missing.pt'\n",
            "\n",
            "During handling of the above exception, another exception occurred:\n",
            "\n",
            "Traceback (most recent call last):\n",
            "  File \"/usr/local/lib/python3.10/dist-packages/IPython/core/interactiveshell.py\", line 2099, in showtraceback\n",
            "    stb = value._render_traceback_()\n",
            "AttributeError: 'OSError' object has no attribute '_render_traceback_'\n",
            "\n",
            "During handling of the above exception, another exception occurred:\n",
            "\n",
            "Traceback (most recent call last):\n",
            "  File \"/usr/local/lib/python3.10/dist-packages/IPython/core/interactiveshell.py\", line 3473, in run_ast_nodes\n",
            "    if (await self.run_code(code, result,  async_=asy)):\n",
            "  File \"/usr/local/lib/python3.10/dist-packages/IPython/core/interactiveshell.py\", line 3575, in run_code\n",
            "    self.showtraceback(running_compiled_code=True)\n",
            "  File \"/usr/local/lib/python3.10/dist-packages/IPython/core/interactiveshell.py\", line 2101, in showtraceback\n",
            "    stb = self.InteractiveTB.structured_traceback(etype,\n",
            "  File \"/usr/local/lib/python3.10/dist-packages/IPython/core/ultratb.py\", line 1367, in structured_traceback\n",
            "    return FormattedTB.structured_traceback(\n",
            "  File \"/usr/local/lib/python3.10/dist-packages/IPython/core/ultratb.py\", line 1267, in structured_traceback\n",
            "    return VerboseTB.structured_traceback(\n",
            "  File \"/usr/local/lib/python3.10/dist-packages/IPython/core/ultratb.py\", line 1124, in structured_traceback\n",
            "    formatted_exception = self.format_exception_as_a_whole(etype, evalue, etb, number_of_lines_of_context,\n",
            "  File \"/usr/local/lib/python3.10/dist-packages/IPython/core/ultratb.py\", line 1082, in format_exception_as_a_whole\n",
            "    last_unique, recursion_repeat = find_recursion(orig_etype, evalue, records)\n",
            "  File \"/usr/local/lib/python3.10/dist-packages/IPython/core/ultratb.py\", line 382, in find_recursion\n",
            "    return len(records), 0\n",
            "TypeError: object of type 'NoneType' has no len()\n",
            "\n",
            "During handling of the above exception, another exception occurred:\n",
            "\n",
            "Traceback (most recent call last):\n",
            "  File \"/usr/local/lib/python3.10/dist-packages/IPython/core/interactiveshell.py\", line 2099, in showtraceback\n",
            "    stb = value._render_traceback_()\n",
            "AttributeError: 'TypeError' object has no attribute '_render_traceback_'\n",
            "\n",
            "During handling of the above exception, another exception occurred:\n",
            "\n",
            "Traceback (most recent call last):\n",
            "  File \"/usr/local/lib/python3.10/dist-packages/IPython/core/ultratb.py\", line 1101, in get_records\n",
            "    return _fixed_getinnerframes(etb, number_of_lines_of_context, tb_offset)\n",
            "  File \"/usr/local/lib/python3.10/dist-packages/IPython/core/ultratb.py\", line 248, in wrapped\n",
            "    return f(*args, **kwargs)\n",
            "  File \"/usr/local/lib/python3.10/dist-packages/IPython/core/ultratb.py\", line 281, in _fixed_getinnerframes\n",
            "    records = fix_frame_records_filenames(inspect.getinnerframes(etb, context))\n",
            "  File \"/usr/lib/python3.10/inspect.py\", line 1662, in getinnerframes\n",
            "    frameinfo = (tb.tb_frame,) + getframeinfo(tb, context)\n",
            "  File \"/usr/lib/python3.10/inspect.py\", line 1620, in getframeinfo\n",
            "    filename = getsourcefile(frame) or getfile(frame)\n",
            "  File \"/usr/lib/python3.10/inspect.py\", line 829, in getsourcefile\n",
            "    module = getmodule(object, filename)\n",
            "  File \"/usr/lib/python3.10/inspect.py\", line 861, in getmodule\n",
            "    file = getabsfile(object, _filename)\n",
            "  File \"/usr/lib/python3.10/inspect.py\", line 845, in getabsfile\n",
            "    return os.path.normcase(os.path.abspath(_filename))\n",
            "  File \"/usr/lib/python3.10/posixpath.py\", line 384, in abspath\n",
            "    cwd = os.getcwd()\n",
            "OSError: [Errno 107] Transport endpoint is not connected\n",
            "Traceback (most recent call last):\n",
            "  File \"/usr/local/lib/python3.10/dist-packages/IPython/core/interactiveshell.py\", line 3553, in run_code\n",
            "    exec(code_obj, self.user_global_ns, self.user_ns)\n",
            "  File \"<ipython-input-120-fe0cd1f338eb>\", line 2, in <cell line: 2>\n",
            "    train_coeffs_scaled = torch.load('train_hermitecoeffs_scaled_missing.pt')\n",
            "  File \"/usr/local/lib/python3.10/dist-packages/torch/serialization.py\", line 986, in load\n",
            "    with _open_file_like(f, 'rb') as opened_file:\n",
            "  File \"/usr/local/lib/python3.10/dist-packages/torch/serialization.py\", line 435, in _open_file_like\n",
            "    return _open_file(name_or_buffer, mode)\n",
            "  File \"/usr/local/lib/python3.10/dist-packages/torch/serialization.py\", line 416, in __init__\n",
            "    super().__init__(open(name, mode))\n",
            "OSError: [Errno 107] Transport endpoint is not connected: 'train_hermitecoeffs_scaled_missing.pt'\n",
            "\n",
            "During handling of the above exception, another exception occurred:\n",
            "\n",
            "Traceback (most recent call last):\n",
            "  File \"/usr/local/lib/python3.10/dist-packages/IPython/core/interactiveshell.py\", line 2099, in showtraceback\n",
            "    stb = value._render_traceback_()\n",
            "AttributeError: 'OSError' object has no attribute '_render_traceback_'\n",
            "\n",
            "During handling of the above exception, another exception occurred:\n",
            "\n",
            "Traceback (most recent call last):\n",
            "  File \"/usr/local/lib/python3.10/dist-packages/IPython/core/interactiveshell.py\", line 3473, in run_ast_nodes\n",
            "    if (await self.run_code(code, result,  async_=asy)):\n",
            "  File \"/usr/local/lib/python3.10/dist-packages/IPython/core/interactiveshell.py\", line 3575, in run_code\n",
            "    self.showtraceback(running_compiled_code=True)\n",
            "  File \"/usr/local/lib/python3.10/dist-packages/IPython/core/interactiveshell.py\", line 2101, in showtraceback\n",
            "    stb = self.InteractiveTB.structured_traceback(etype,\n",
            "  File \"/usr/local/lib/python3.10/dist-packages/IPython/core/ultratb.py\", line 1367, in structured_traceback\n",
            "    return FormattedTB.structured_traceback(\n",
            "  File \"/usr/local/lib/python3.10/dist-packages/IPython/core/ultratb.py\", line 1267, in structured_traceback\n",
            "    return VerboseTB.structured_traceback(\n",
            "  File \"/usr/local/lib/python3.10/dist-packages/IPython/core/ultratb.py\", line 1124, in structured_traceback\n",
            "    formatted_exception = self.format_exception_as_a_whole(etype, evalue, etb, number_of_lines_of_context,\n",
            "  File \"/usr/local/lib/python3.10/dist-packages/IPython/core/ultratb.py\", line 1082, in format_exception_as_a_whole\n",
            "    last_unique, recursion_repeat = find_recursion(orig_etype, evalue, records)\n",
            "  File \"/usr/local/lib/python3.10/dist-packages/IPython/core/ultratb.py\", line 382, in find_recursion\n",
            "    return len(records), 0\n",
            "TypeError: object of type 'NoneType' has no len()\n",
            "\n",
            "During handling of the above exception, another exception occurred:\n",
            "\n",
            "Traceback (most recent call last):\n",
            "  File \"/usr/local/lib/python3.10/dist-packages/IPython/core/interactiveshell.py\", line 2099, in showtraceback\n",
            "    stb = value._render_traceback_()\n",
            "AttributeError: 'TypeError' object has no attribute '_render_traceback_'\n",
            "\n",
            "During handling of the above exception, another exception occurred:\n",
            "\n",
            "Traceback (most recent call last):\n",
            "  File \"/usr/local/lib/python3.10/dist-packages/IPython/core/interactiveshell.py\", line 3030, in _run_cell\n",
            "    return runner(coro)\n",
            "  File \"/usr/local/lib/python3.10/dist-packages/IPython/core/async_helpers.py\", line 78, in _pseudo_sync_runner\n",
            "    coro.send(None)\n",
            "  File \"/usr/local/lib/python3.10/dist-packages/IPython/core/interactiveshell.py\", line 3257, in run_cell_async\n",
            "    has_raised = await self.run_ast_nodes(code_ast.body, cell_name,\n",
            "  File \"/usr/local/lib/python3.10/dist-packages/IPython/core/interactiveshell.py\", line 3492, in run_ast_nodes\n",
            "    self.showtraceback()\n",
            "  File \"/usr/local/lib/python3.10/dist-packages/IPython/core/interactiveshell.py\", line 2101, in showtraceback\n",
            "    stb = self.InteractiveTB.structured_traceback(etype,\n",
            "  File \"/usr/local/lib/python3.10/dist-packages/IPython/core/ultratb.py\", line 1367, in structured_traceback\n",
            "    return FormattedTB.structured_traceback(\n",
            "  File \"/usr/local/lib/python3.10/dist-packages/IPython/core/ultratb.py\", line 1267, in structured_traceback\n",
            "    return VerboseTB.structured_traceback(\n",
            "  File \"/usr/local/lib/python3.10/dist-packages/IPython/core/ultratb.py\", line 1142, in structured_traceback\n",
            "    formatted_exceptions += self.format_exception_as_a_whole(etype, evalue, etb, lines_of_context,\n",
            "  File \"/usr/local/lib/python3.10/dist-packages/IPython/core/ultratb.py\", line 1082, in format_exception_as_a_whole\n",
            "    last_unique, recursion_repeat = find_recursion(orig_etype, evalue, records)\n",
            "  File \"/usr/local/lib/python3.10/dist-packages/IPython/core/ultratb.py\", line 382, in find_recursion\n",
            "    return len(records), 0\n",
            "TypeError: object of type 'NoneType' has no len()\n",
            "\n",
            "During handling of the above exception, another exception occurred:\n",
            "\n",
            "Traceback (most recent call last):\n",
            "  File \"/usr/local/lib/python3.10/dist-packages/IPython/core/interactiveshell.py\", line 2099, in showtraceback\n",
            "    stb = value._render_traceback_()\n",
            "AttributeError: 'TypeError' object has no attribute '_render_traceback_'\n",
            "\n",
            "During handling of the above exception, another exception occurred:\n",
            "\n",
            "Traceback (most recent call last):\n",
            "  File \"/usr/local/lib/python3.10/dist-packages/IPython/core/ultratb.py\", line 1101, in get_records\n",
            "    return _fixed_getinnerframes(etb, number_of_lines_of_context, tb_offset)\n",
            "  File \"/usr/local/lib/python3.10/dist-packages/IPython/core/ultratb.py\", line 248, in wrapped\n",
            "    return f(*args, **kwargs)\n",
            "  File \"/usr/local/lib/python3.10/dist-packages/IPython/core/ultratb.py\", line 281, in _fixed_getinnerframes\n",
            "    records = fix_frame_records_filenames(inspect.getinnerframes(etb, context))\n",
            "  File \"/usr/lib/python3.10/inspect.py\", line 1662, in getinnerframes\n",
            "    frameinfo = (tb.tb_frame,) + getframeinfo(tb, context)\n",
            "  File \"/usr/lib/python3.10/inspect.py\", line 1620, in getframeinfo\n",
            "    filename = getsourcefile(frame) or getfile(frame)\n",
            "  File \"/usr/lib/python3.10/inspect.py\", line 829, in getsourcefile\n",
            "    module = getmodule(object, filename)\n",
            "  File \"/usr/lib/python3.10/inspect.py\", line 861, in getmodule\n",
            "    file = getabsfile(object, _filename)\n",
            "  File \"/usr/lib/python3.10/inspect.py\", line 845, in getabsfile\n",
            "    return os.path.normcase(os.path.abspath(_filename))\n",
            "  File \"/usr/lib/python3.10/posixpath.py\", line 384, in abspath\n",
            "    cwd = os.getcwd()\n",
            "OSError: [Errno 107] Transport endpoint is not connected\n"
          ]
        }
      ]
    },
    {
      "cell_type": "markdown",
      "source": [
        "### Full dataset"
      ],
      "metadata": {
        "id": "LZzRaChq4zrO"
      }
    },
    {
      "cell_type": "code",
      "source": [
        "train_data = torch.load('train_val_test_sepsis_datasets/train_data_FF_time_unscaled.pt')\n",
        "val_data = torch.load('train_val_test_sepsis_datasets/val_data_FF_time_unscaled.pt')\n",
        "test_data = torch.load('train_val_test_sepsis_datasets/test_data_FF_time_unscaled.pt')"
      ],
      "metadata": {
        "id": "oa9HLetOwY66",
        "colab": {
          "base_uri": "https://localhost:8080/"
        },
        "outputId": "c9c2cb6c-b4ae-41c0-ac27-c71c2195de88"
      },
      "execution_count": null,
      "outputs": [
        {
          "output_type": "stream",
          "name": "stderr",
          "text": [
            "ERROR:root:Internal Python error in the inspect module.\n",
            "Below is the traceback from this internal error.\n",
            "\n",
            "ERROR:root:Internal Python error in the inspect module.\n",
            "Below is the traceback from this internal error.\n",
            "\n",
            "ERROR:root:Internal Python error in the inspect module.\n",
            "Below is the traceback from this internal error.\n",
            "\n"
          ]
        },
        {
          "output_type": "stream",
          "name": "stdout",
          "text": [
            "Traceback (most recent call last):\n",
            "  File \"/usr/local/lib/python3.10/dist-packages/IPython/core/interactiveshell.py\", line 3553, in run_code\n",
            "    exec(code_obj, self.user_global_ns, self.user_ns)\n",
            "  File \"<ipython-input-120-00bebeec91fb>\", line 1, in <cell line: 1>\n",
            "    train_data = torch.load('train_val_test_sepsis_datasets/train_data_FF_time_unscaled.pt')\n",
            "  File \"/usr/local/lib/python3.10/dist-packages/torch/serialization.py\", line 986, in load\n",
            "    with _open_file_like(f, 'rb') as opened_file:\n",
            "  File \"/usr/local/lib/python3.10/dist-packages/torch/serialization.py\", line 435, in _open_file_like\n",
            "    return _open_file(name_or_buffer, mode)\n",
            "  File \"/usr/local/lib/python3.10/dist-packages/torch/serialization.py\", line 416, in __init__\n",
            "    super().__init__(open(name, mode))\n",
            "OSError: [Errno 107] Transport endpoint is not connected: 'train_val_test_sepsis_datasets/train_data_FF_time_unscaled.pt'\n",
            "\n",
            "During handling of the above exception, another exception occurred:\n",
            "\n",
            "Traceback (most recent call last):\n",
            "  File \"/usr/local/lib/python3.10/dist-packages/IPython/core/interactiveshell.py\", line 2099, in showtraceback\n",
            "    stb = value._render_traceback_()\n",
            "AttributeError: 'OSError' object has no attribute '_render_traceback_'\n",
            "\n",
            "During handling of the above exception, another exception occurred:\n",
            "\n",
            "Traceback (most recent call last):\n",
            "  File \"/usr/local/lib/python3.10/dist-packages/IPython/core/ultratb.py\", line 1101, in get_records\n",
            "    return _fixed_getinnerframes(etb, number_of_lines_of_context, tb_offset)\n",
            "  File \"/usr/local/lib/python3.10/dist-packages/IPython/core/ultratb.py\", line 248, in wrapped\n",
            "    return f(*args, **kwargs)\n",
            "  File \"/usr/local/lib/python3.10/dist-packages/IPython/core/ultratb.py\", line 281, in _fixed_getinnerframes\n",
            "    records = fix_frame_records_filenames(inspect.getinnerframes(etb, context))\n",
            "  File \"/usr/lib/python3.10/inspect.py\", line 1662, in getinnerframes\n",
            "    frameinfo = (tb.tb_frame,) + getframeinfo(tb, context)\n",
            "  File \"/usr/lib/python3.10/inspect.py\", line 1620, in getframeinfo\n",
            "    filename = getsourcefile(frame) or getfile(frame)\n",
            "  File \"/usr/lib/python3.10/inspect.py\", line 829, in getsourcefile\n",
            "    module = getmodule(object, filename)\n",
            "  File \"/usr/lib/python3.10/inspect.py\", line 861, in getmodule\n",
            "    file = getabsfile(object, _filename)\n",
            "  File \"/usr/lib/python3.10/inspect.py\", line 845, in getabsfile\n",
            "    return os.path.normcase(os.path.abspath(_filename))\n",
            "  File \"/usr/lib/python3.10/posixpath.py\", line 384, in abspath\n",
            "    cwd = os.getcwd()\n",
            "OSError: [Errno 107] Transport endpoint is not connected\n",
            "Traceback (most recent call last):\n",
            "  File \"/usr/local/lib/python3.10/dist-packages/IPython/core/interactiveshell.py\", line 3553, in run_code\n",
            "    exec(code_obj, self.user_global_ns, self.user_ns)\n",
            "  File \"<ipython-input-120-00bebeec91fb>\", line 1, in <cell line: 1>\n",
            "    train_data = torch.load('train_val_test_sepsis_datasets/train_data_FF_time_unscaled.pt')\n",
            "  File \"/usr/local/lib/python3.10/dist-packages/torch/serialization.py\", line 986, in load\n",
            "    with _open_file_like(f, 'rb') as opened_file:\n",
            "  File \"/usr/local/lib/python3.10/dist-packages/torch/serialization.py\", line 435, in _open_file_like\n",
            "    return _open_file(name_or_buffer, mode)\n",
            "  File \"/usr/local/lib/python3.10/dist-packages/torch/serialization.py\", line 416, in __init__\n",
            "    super().__init__(open(name, mode))\n",
            "OSError: [Errno 107] Transport endpoint is not connected: 'train_val_test_sepsis_datasets/train_data_FF_time_unscaled.pt'\n",
            "\n",
            "During handling of the above exception, another exception occurred:\n",
            "\n",
            "Traceback (most recent call last):\n",
            "  File \"/usr/local/lib/python3.10/dist-packages/IPython/core/interactiveshell.py\", line 2099, in showtraceback\n",
            "    stb = value._render_traceback_()\n",
            "AttributeError: 'OSError' object has no attribute '_render_traceback_'\n",
            "\n",
            "During handling of the above exception, another exception occurred:\n",
            "\n",
            "Traceback (most recent call last):\n",
            "  File \"/usr/local/lib/python3.10/dist-packages/IPython/core/interactiveshell.py\", line 3473, in run_ast_nodes\n",
            "    if (await self.run_code(code, result,  async_=asy)):\n",
            "  File \"/usr/local/lib/python3.10/dist-packages/IPython/core/interactiveshell.py\", line 3575, in run_code\n",
            "    self.showtraceback(running_compiled_code=True)\n",
            "  File \"/usr/local/lib/python3.10/dist-packages/IPython/core/interactiveshell.py\", line 2101, in showtraceback\n",
            "    stb = self.InteractiveTB.structured_traceback(etype,\n",
            "  File \"/usr/local/lib/python3.10/dist-packages/IPython/core/ultratb.py\", line 1367, in structured_traceback\n",
            "    return FormattedTB.structured_traceback(\n",
            "  File \"/usr/local/lib/python3.10/dist-packages/IPython/core/ultratb.py\", line 1267, in structured_traceback\n",
            "    return VerboseTB.structured_traceback(\n",
            "  File \"/usr/local/lib/python3.10/dist-packages/IPython/core/ultratb.py\", line 1124, in structured_traceback\n",
            "    formatted_exception = self.format_exception_as_a_whole(etype, evalue, etb, number_of_lines_of_context,\n",
            "  File \"/usr/local/lib/python3.10/dist-packages/IPython/core/ultratb.py\", line 1082, in format_exception_as_a_whole\n",
            "    last_unique, recursion_repeat = find_recursion(orig_etype, evalue, records)\n",
            "  File \"/usr/local/lib/python3.10/dist-packages/IPython/core/ultratb.py\", line 382, in find_recursion\n",
            "    return len(records), 0\n",
            "TypeError: object of type 'NoneType' has no len()\n",
            "\n",
            "During handling of the above exception, another exception occurred:\n",
            "\n",
            "Traceback (most recent call last):\n",
            "  File \"/usr/local/lib/python3.10/dist-packages/IPython/core/interactiveshell.py\", line 2099, in showtraceback\n",
            "    stb = value._render_traceback_()\n",
            "AttributeError: 'TypeError' object has no attribute '_render_traceback_'\n",
            "\n",
            "During handling of the above exception, another exception occurred:\n",
            "\n",
            "Traceback (most recent call last):\n",
            "  File \"/usr/local/lib/python3.10/dist-packages/IPython/core/ultratb.py\", line 1101, in get_records\n",
            "    return _fixed_getinnerframes(etb, number_of_lines_of_context, tb_offset)\n",
            "  File \"/usr/local/lib/python3.10/dist-packages/IPython/core/ultratb.py\", line 248, in wrapped\n",
            "    return f(*args, **kwargs)\n",
            "  File \"/usr/local/lib/python3.10/dist-packages/IPython/core/ultratb.py\", line 281, in _fixed_getinnerframes\n",
            "    records = fix_frame_records_filenames(inspect.getinnerframes(etb, context))\n",
            "  File \"/usr/lib/python3.10/inspect.py\", line 1662, in getinnerframes\n",
            "    frameinfo = (tb.tb_frame,) + getframeinfo(tb, context)\n",
            "  File \"/usr/lib/python3.10/inspect.py\", line 1620, in getframeinfo\n",
            "    filename = getsourcefile(frame) or getfile(frame)\n",
            "  File \"/usr/lib/python3.10/inspect.py\", line 829, in getsourcefile\n",
            "    module = getmodule(object, filename)\n",
            "  File \"/usr/lib/python3.10/inspect.py\", line 861, in getmodule\n",
            "    file = getabsfile(object, _filename)\n",
            "  File \"/usr/lib/python3.10/inspect.py\", line 845, in getabsfile\n",
            "    return os.path.normcase(os.path.abspath(_filename))\n",
            "  File \"/usr/lib/python3.10/posixpath.py\", line 384, in abspath\n",
            "    cwd = os.getcwd()\n",
            "OSError: [Errno 107] Transport endpoint is not connected\n",
            "Traceback (most recent call last):\n",
            "  File \"/usr/local/lib/python3.10/dist-packages/IPython/core/interactiveshell.py\", line 3553, in run_code\n",
            "    exec(code_obj, self.user_global_ns, self.user_ns)\n",
            "  File \"<ipython-input-120-00bebeec91fb>\", line 1, in <cell line: 1>\n",
            "    train_data = torch.load('train_val_test_sepsis_datasets/train_data_FF_time_unscaled.pt')\n",
            "  File \"/usr/local/lib/python3.10/dist-packages/torch/serialization.py\", line 986, in load\n",
            "    with _open_file_like(f, 'rb') as opened_file:\n",
            "  File \"/usr/local/lib/python3.10/dist-packages/torch/serialization.py\", line 435, in _open_file_like\n",
            "    return _open_file(name_or_buffer, mode)\n",
            "  File \"/usr/local/lib/python3.10/dist-packages/torch/serialization.py\", line 416, in __init__\n",
            "    super().__init__(open(name, mode))\n",
            "OSError: [Errno 107] Transport endpoint is not connected: 'train_val_test_sepsis_datasets/train_data_FF_time_unscaled.pt'\n",
            "\n",
            "During handling of the above exception, another exception occurred:\n",
            "\n",
            "Traceback (most recent call last):\n",
            "  File \"/usr/local/lib/python3.10/dist-packages/IPython/core/interactiveshell.py\", line 2099, in showtraceback\n",
            "    stb = value._render_traceback_()\n",
            "AttributeError: 'OSError' object has no attribute '_render_traceback_'\n",
            "\n",
            "During handling of the above exception, another exception occurred:\n",
            "\n",
            "Traceback (most recent call last):\n",
            "  File \"/usr/local/lib/python3.10/dist-packages/IPython/core/interactiveshell.py\", line 3473, in run_ast_nodes\n",
            "    if (await self.run_code(code, result,  async_=asy)):\n",
            "  File \"/usr/local/lib/python3.10/dist-packages/IPython/core/interactiveshell.py\", line 3575, in run_code\n",
            "    self.showtraceback(running_compiled_code=True)\n",
            "  File \"/usr/local/lib/python3.10/dist-packages/IPython/core/interactiveshell.py\", line 2101, in showtraceback\n",
            "    stb = self.InteractiveTB.structured_traceback(etype,\n",
            "  File \"/usr/local/lib/python3.10/dist-packages/IPython/core/ultratb.py\", line 1367, in structured_traceback\n",
            "    return FormattedTB.structured_traceback(\n",
            "  File \"/usr/local/lib/python3.10/dist-packages/IPython/core/ultratb.py\", line 1267, in structured_traceback\n",
            "    return VerboseTB.structured_traceback(\n",
            "  File \"/usr/local/lib/python3.10/dist-packages/IPython/core/ultratb.py\", line 1124, in structured_traceback\n",
            "    formatted_exception = self.format_exception_as_a_whole(etype, evalue, etb, number_of_lines_of_context,\n",
            "  File \"/usr/local/lib/python3.10/dist-packages/IPython/core/ultratb.py\", line 1082, in format_exception_as_a_whole\n",
            "    last_unique, recursion_repeat = find_recursion(orig_etype, evalue, records)\n",
            "  File \"/usr/local/lib/python3.10/dist-packages/IPython/core/ultratb.py\", line 382, in find_recursion\n",
            "    return len(records), 0\n",
            "TypeError: object of type 'NoneType' has no len()\n",
            "\n",
            "During handling of the above exception, another exception occurred:\n",
            "\n",
            "Traceback (most recent call last):\n",
            "  File \"/usr/local/lib/python3.10/dist-packages/IPython/core/interactiveshell.py\", line 2099, in showtraceback\n",
            "    stb = value._render_traceback_()\n",
            "AttributeError: 'TypeError' object has no attribute '_render_traceback_'\n",
            "\n",
            "During handling of the above exception, another exception occurred:\n",
            "\n",
            "Traceback (most recent call last):\n",
            "  File \"/usr/local/lib/python3.10/dist-packages/IPython/core/interactiveshell.py\", line 3030, in _run_cell\n",
            "    return runner(coro)\n",
            "  File \"/usr/local/lib/python3.10/dist-packages/IPython/core/async_helpers.py\", line 78, in _pseudo_sync_runner\n",
            "    coro.send(None)\n",
            "  File \"/usr/local/lib/python3.10/dist-packages/IPython/core/interactiveshell.py\", line 3257, in run_cell_async\n",
            "    has_raised = await self.run_ast_nodes(code_ast.body, cell_name,\n",
            "  File \"/usr/local/lib/python3.10/dist-packages/IPython/core/interactiveshell.py\", line 3492, in run_ast_nodes\n",
            "    self.showtraceback()\n",
            "  File \"/usr/local/lib/python3.10/dist-packages/IPython/core/interactiveshell.py\", line 2101, in showtraceback\n",
            "    stb = self.InteractiveTB.structured_traceback(etype,\n",
            "  File \"/usr/local/lib/python3.10/dist-packages/IPython/core/ultratb.py\", line 1367, in structured_traceback\n",
            "    return FormattedTB.structured_traceback(\n",
            "  File \"/usr/local/lib/python3.10/dist-packages/IPython/core/ultratb.py\", line 1267, in structured_traceback\n",
            "    return VerboseTB.structured_traceback(\n",
            "  File \"/usr/local/lib/python3.10/dist-packages/IPython/core/ultratb.py\", line 1142, in structured_traceback\n",
            "    formatted_exceptions += self.format_exception_as_a_whole(etype, evalue, etb, lines_of_context,\n",
            "  File \"/usr/local/lib/python3.10/dist-packages/IPython/core/ultratb.py\", line 1082, in format_exception_as_a_whole\n",
            "    last_unique, recursion_repeat = find_recursion(orig_etype, evalue, records)\n",
            "  File \"/usr/local/lib/python3.10/dist-packages/IPython/core/ultratb.py\", line 382, in find_recursion\n",
            "    return len(records), 0\n",
            "TypeError: object of type 'NoneType' has no len()\n",
            "\n",
            "During handling of the above exception, another exception occurred:\n",
            "\n",
            "Traceback (most recent call last):\n",
            "  File \"/usr/local/lib/python3.10/dist-packages/IPython/core/interactiveshell.py\", line 2099, in showtraceback\n",
            "    stb = value._render_traceback_()\n",
            "AttributeError: 'TypeError' object has no attribute '_render_traceback_'\n",
            "\n",
            "During handling of the above exception, another exception occurred:\n",
            "\n",
            "Traceback (most recent call last):\n",
            "  File \"/usr/local/lib/python3.10/dist-packages/IPython/core/ultratb.py\", line 1101, in get_records\n",
            "    return _fixed_getinnerframes(etb, number_of_lines_of_context, tb_offset)\n",
            "  File \"/usr/local/lib/python3.10/dist-packages/IPython/core/ultratb.py\", line 248, in wrapped\n",
            "    return f(*args, **kwargs)\n",
            "  File \"/usr/local/lib/python3.10/dist-packages/IPython/core/ultratb.py\", line 281, in _fixed_getinnerframes\n",
            "    records = fix_frame_records_filenames(inspect.getinnerframes(etb, context))\n",
            "  File \"/usr/lib/python3.10/inspect.py\", line 1662, in getinnerframes\n",
            "    frameinfo = (tb.tb_frame,) + getframeinfo(tb, context)\n",
            "  File \"/usr/lib/python3.10/inspect.py\", line 1620, in getframeinfo\n",
            "    filename = getsourcefile(frame) or getfile(frame)\n",
            "  File \"/usr/lib/python3.10/inspect.py\", line 829, in getsourcefile\n",
            "    module = getmodule(object, filename)\n",
            "  File \"/usr/lib/python3.10/inspect.py\", line 861, in getmodule\n",
            "    file = getabsfile(object, _filename)\n",
            "  File \"/usr/lib/python3.10/inspect.py\", line 845, in getabsfile\n",
            "    return os.path.normcase(os.path.abspath(_filename))\n",
            "  File \"/usr/lib/python3.10/posixpath.py\", line 384, in abspath\n",
            "    cwd = os.getcwd()\n",
            "OSError: [Errno 107] Transport endpoint is not connected\n"
          ]
        }
      ]
    },
    {
      "cell_type": "code",
      "source": [
        "train_labels = torch.load('train_val_test_sepsis_datasets/train_labels_FF_unscaled.pt')\n",
        "val_labels = torch.load('train_val_test_sepsis_datasets/val_labels_FF_unscaled.pt')\n",
        "test_labels = torch.load('train_val_test_sepsis_datasets/test_labels_FF_unscaled.pt')"
      ],
      "metadata": {
        "id": "eE2KQl06xN5K",
        "colab": {
          "base_uri": "https://localhost:8080/"
        },
        "outputId": "224ff9e5-78a0-4aa4-8c4d-d9095dbb7821"
      },
      "execution_count": null,
      "outputs": [
        {
          "output_type": "stream",
          "name": "stderr",
          "text": [
            "ERROR:root:Internal Python error in the inspect module.\n",
            "Below is the traceback from this internal error.\n",
            "\n",
            "ERROR:root:Internal Python error in the inspect module.\n",
            "Below is the traceback from this internal error.\n",
            "\n"
          ]
        },
        {
          "output_type": "stream",
          "name": "stdout",
          "text": [
            "Traceback (most recent call last):\n",
            "  File \"/usr/local/lib/python3.10/dist-packages/IPython/core/interactiveshell.py\", line 3553, in run_code\n",
            "    exec(code_obj, self.user_global_ns, self.user_ns)\n",
            "  File \"<ipython-input-120-2589e6dd0a0d>\", line 1, in <cell line: 1>\n",
            "    train_labels = torch.load('train_val_test_sepsis_datasets/train_labels_FF_unscaled.pt')\n",
            "  File \"/usr/local/lib/python3.10/dist-packages/torch/serialization.py\", line 986, in load\n",
            "    with _open_file_like(f, 'rb') as opened_file:\n",
            "  File \"/usr/local/lib/python3.10/dist-packages/torch/serialization.py\", line 435, in _open_file_like\n",
            "    return _open_file(name_or_buffer, mode)\n",
            "  File \"/usr/local/lib/python3.10/dist-packages/torch/serialization.py\", line 416, in __init__\n",
            "    super().__init__(open(name, mode))\n",
            "OSError: [Errno 107] Transport endpoint is not connected: 'train_val_test_sepsis_datasets/train_labels_FF_unscaled.pt'\n",
            "\n",
            "During handling of the above exception, another exception occurred:\n",
            "\n",
            "Traceback (most recent call last):\n",
            "  File \"/usr/local/lib/python3.10/dist-packages/IPython/core/interactiveshell.py\", line 2099, in showtraceback\n",
            "    stb = value._render_traceback_()\n",
            "AttributeError: 'OSError' object has no attribute '_render_traceback_'\n",
            "\n",
            "During handling of the above exception, another exception occurred:\n",
            "\n",
            "Traceback (most recent call last):\n",
            "  File \"/usr/local/lib/python3.10/dist-packages/IPython/core/ultratb.py\", line 1101, in get_records\n",
            "    return _fixed_getinnerframes(etb, number_of_lines_of_context, tb_offset)\n",
            "  File \"/usr/local/lib/python3.10/dist-packages/IPython/core/ultratb.py\", line 248, in wrapped\n",
            "    return f(*args, **kwargs)\n",
            "  File \"/usr/local/lib/python3.10/dist-packages/IPython/core/ultratb.py\", line 281, in _fixed_getinnerframes\n",
            "    records = fix_frame_records_filenames(inspect.getinnerframes(etb, context))\n",
            "  File \"/usr/lib/python3.10/inspect.py\", line 1662, in getinnerframes\n",
            "    frameinfo = (tb.tb_frame,) + getframeinfo(tb, context)\n",
            "  File \"/usr/lib/python3.10/inspect.py\", line 1620, in getframeinfo\n",
            "    filename = getsourcefile(frame) or getfile(frame)\n",
            "  File \"/usr/lib/python3.10/inspect.py\", line 829, in getsourcefile\n",
            "    module = getmodule(object, filename)\n",
            "  File \"/usr/lib/python3.10/inspect.py\", line 861, in getmodule\n",
            "    file = getabsfile(object, _filename)\n",
            "  File \"/usr/lib/python3.10/inspect.py\", line 845, in getabsfile\n",
            "    return os.path.normcase(os.path.abspath(_filename))\n",
            "  File \"/usr/lib/python3.10/posixpath.py\", line 384, in abspath\n",
            "    cwd = os.getcwd()\n",
            "OSError: [Errno 107] Transport endpoint is not connected\n",
            "Traceback (most recent call last):\n",
            "  File \"/usr/local/lib/python3.10/dist-packages/IPython/core/interactiveshell.py\", line 3553, in run_code\n",
            "    exec(code_obj, self.user_global_ns, self.user_ns)\n",
            "  File \"<ipython-input-120-2589e6dd0a0d>\", line 1, in <cell line: 1>\n",
            "    train_labels = torch.load('train_val_test_sepsis_datasets/train_labels_FF_unscaled.pt')\n",
            "  File \"/usr/local/lib/python3.10/dist-packages/torch/serialization.py\", line 986, in load\n",
            "    with _open_file_like(f, 'rb') as opened_file:\n",
            "  File \"/usr/local/lib/python3.10/dist-packages/torch/serialization.py\", line 435, in _open_file_like\n",
            "    return _open_file(name_or_buffer, mode)\n",
            "  File \"/usr/local/lib/python3.10/dist-packages/torch/serialization.py\", line 416, in __init__\n",
            "    super().__init__(open(name, mode))\n",
            "OSError: [Errno 107] Transport endpoint is not connected: 'train_val_test_sepsis_datasets/train_labels_FF_unscaled.pt'\n",
            "\n",
            "During handling of the above exception, another exception occurred:\n",
            "\n",
            "Traceback (most recent call last):\n",
            "  File \"/usr/local/lib/python3.10/dist-packages/IPython/core/interactiveshell.py\", line 2099, in showtraceback\n",
            "    stb = value._render_traceback_()\n",
            "AttributeError: 'OSError' object has no attribute '_render_traceback_'\n",
            "\n",
            "During handling of the above exception, another exception occurred:\n",
            "\n",
            "Traceback (most recent call last):\n",
            "  File \"/usr/local/lib/python3.10/dist-packages/IPython/core/interactiveshell.py\", line 3473, in run_ast_nodes\n",
            "    if (await self.run_code(code, result,  async_=asy)):\n",
            "  File \"/usr/local/lib/python3.10/dist-packages/IPython/core/interactiveshell.py\", line 3575, in run_code\n",
            "    self.showtraceback(running_compiled_code=True)\n",
            "  File \"/usr/local/lib/python3.10/dist-packages/IPython/core/interactiveshell.py\", line 2101, in showtraceback\n",
            "    stb = self.InteractiveTB.structured_traceback(etype,\n",
            "  File \"/usr/local/lib/python3.10/dist-packages/IPython/core/ultratb.py\", line 1367, in structured_traceback\n",
            "    return FormattedTB.structured_traceback(\n",
            "  File \"/usr/local/lib/python3.10/dist-packages/IPython/core/ultratb.py\", line 1267, in structured_traceback\n",
            "    return VerboseTB.structured_traceback(\n",
            "  File \"/usr/local/lib/python3.10/dist-packages/IPython/core/ultratb.py\", line 1124, in structured_traceback\n",
            "    formatted_exception = self.format_exception_as_a_whole(etype, evalue, etb, number_of_lines_of_context,\n",
            "  File \"/usr/local/lib/python3.10/dist-packages/IPython/core/ultratb.py\", line 1082, in format_exception_as_a_whole\n",
            "    last_unique, recursion_repeat = find_recursion(orig_etype, evalue, records)\n",
            "  File \"/usr/local/lib/python3.10/dist-packages/IPython/core/ultratb.py\", line 382, in find_recursion\n",
            "    return len(records), 0\n",
            "TypeError: object of type 'NoneType' has no len()\n",
            "\n",
            "During handling of the above exception, another exception occurred:\n",
            "\n",
            "Traceback (most recent call last):\n",
            "  File \"/usr/local/lib/python3.10/dist-packages/IPython/core/interactiveshell.py\", line 2099, in showtraceback\n",
            "    stb = value._render_traceback_()\n",
            "AttributeError: 'TypeError' object has no attribute '_render_traceback_'\n",
            "\n",
            "During handling of the above exception, another exception occurred:\n",
            "\n",
            "Traceback (most recent call last):\n",
            "  File \"/usr/local/lib/python3.10/dist-packages/IPython/core/ultratb.py\", line 1101, in get_records\n",
            "    return _fixed_getinnerframes(etb, number_of_lines_of_context, tb_offset)\n",
            "  File \"/usr/local/lib/python3.10/dist-packages/IPython/core/ultratb.py\", line 248, in wrapped\n",
            "    return f(*args, **kwargs)\n",
            "  File \"/usr/local/lib/python3.10/dist-packages/IPython/core/ultratb.py\", line 281, in _fixed_getinnerframes\n",
            "    records = fix_frame_records_filenames(inspect.getinnerframes(etb, context))\n",
            "  File \"/usr/lib/python3.10/inspect.py\", line 1662, in getinnerframes\n",
            "    frameinfo = (tb.tb_frame,) + getframeinfo(tb, context)\n",
            "  File \"/usr/lib/python3.10/inspect.py\", line 1620, in getframeinfo\n",
            "    filename = getsourcefile(frame) or getfile(frame)\n",
            "  File \"/usr/lib/python3.10/inspect.py\", line 829, in getsourcefile\n",
            "    module = getmodule(object, filename)\n",
            "  File \"/usr/lib/python3.10/inspect.py\", line 861, in getmodule\n",
            "    file = getabsfile(object, _filename)\n",
            "  File \"/usr/lib/python3.10/inspect.py\", line 845, in getabsfile\n",
            "    return os.path.normcase(os.path.abspath(_filename))\n",
            "  File \"/usr/lib/python3.10/posixpath.py\", line 384, in abspath\n",
            "    cwd = os.getcwd()\n",
            "OSError: [Errno 107] Transport endpoint is not connected\n"
          ]
        },
        {
          "output_type": "stream",
          "name": "stderr",
          "text": [
            "ERROR:root:Internal Python error in the inspect module.\n",
            "Below is the traceback from this internal error.\n",
            "\n"
          ]
        },
        {
          "output_type": "stream",
          "name": "stdout",
          "text": [
            "Traceback (most recent call last):\n",
            "  File \"/usr/local/lib/python3.10/dist-packages/IPython/core/interactiveshell.py\", line 3553, in run_code\n",
            "    exec(code_obj, self.user_global_ns, self.user_ns)\n",
            "  File \"<ipython-input-120-2589e6dd0a0d>\", line 1, in <cell line: 1>\n",
            "    train_labels = torch.load('train_val_test_sepsis_datasets/train_labels_FF_unscaled.pt')\n",
            "  File \"/usr/local/lib/python3.10/dist-packages/torch/serialization.py\", line 986, in load\n",
            "    with _open_file_like(f, 'rb') as opened_file:\n",
            "  File \"/usr/local/lib/python3.10/dist-packages/torch/serialization.py\", line 435, in _open_file_like\n",
            "    return _open_file(name_or_buffer, mode)\n",
            "  File \"/usr/local/lib/python3.10/dist-packages/torch/serialization.py\", line 416, in __init__\n",
            "    super().__init__(open(name, mode))\n",
            "OSError: [Errno 107] Transport endpoint is not connected: 'train_val_test_sepsis_datasets/train_labels_FF_unscaled.pt'\n",
            "\n",
            "During handling of the above exception, another exception occurred:\n",
            "\n",
            "Traceback (most recent call last):\n",
            "  File \"/usr/local/lib/python3.10/dist-packages/IPython/core/interactiveshell.py\", line 2099, in showtraceback\n",
            "    stb = value._render_traceback_()\n",
            "AttributeError: 'OSError' object has no attribute '_render_traceback_'\n",
            "\n",
            "During handling of the above exception, another exception occurred:\n",
            "\n",
            "Traceback (most recent call last):\n",
            "  File \"/usr/local/lib/python3.10/dist-packages/IPython/core/interactiveshell.py\", line 3473, in run_ast_nodes\n",
            "    if (await self.run_code(code, result,  async_=asy)):\n",
            "  File \"/usr/local/lib/python3.10/dist-packages/IPython/core/interactiveshell.py\", line 3575, in run_code\n",
            "    self.showtraceback(running_compiled_code=True)\n",
            "  File \"/usr/local/lib/python3.10/dist-packages/IPython/core/interactiveshell.py\", line 2101, in showtraceback\n",
            "    stb = self.InteractiveTB.structured_traceback(etype,\n",
            "  File \"/usr/local/lib/python3.10/dist-packages/IPython/core/ultratb.py\", line 1367, in structured_traceback\n",
            "    return FormattedTB.structured_traceback(\n",
            "  File \"/usr/local/lib/python3.10/dist-packages/IPython/core/ultratb.py\", line 1267, in structured_traceback\n",
            "    return VerboseTB.structured_traceback(\n",
            "  File \"/usr/local/lib/python3.10/dist-packages/IPython/core/ultratb.py\", line 1124, in structured_traceback\n",
            "    formatted_exception = self.format_exception_as_a_whole(etype, evalue, etb, number_of_lines_of_context,\n",
            "  File \"/usr/local/lib/python3.10/dist-packages/IPython/core/ultratb.py\", line 1082, in format_exception_as_a_whole\n",
            "    last_unique, recursion_repeat = find_recursion(orig_etype, evalue, records)\n",
            "  File \"/usr/local/lib/python3.10/dist-packages/IPython/core/ultratb.py\", line 382, in find_recursion\n",
            "    return len(records), 0\n",
            "TypeError: object of type 'NoneType' has no len()\n",
            "\n",
            "During handling of the above exception, another exception occurred:\n",
            "\n",
            "Traceback (most recent call last):\n",
            "  File \"/usr/local/lib/python3.10/dist-packages/IPython/core/interactiveshell.py\", line 2099, in showtraceback\n",
            "    stb = value._render_traceback_()\n",
            "AttributeError: 'TypeError' object has no attribute '_render_traceback_'\n",
            "\n",
            "During handling of the above exception, another exception occurred:\n",
            "\n",
            "Traceback (most recent call last):\n",
            "  File \"/usr/local/lib/python3.10/dist-packages/IPython/core/interactiveshell.py\", line 3030, in _run_cell\n",
            "    return runner(coro)\n",
            "  File \"/usr/local/lib/python3.10/dist-packages/IPython/core/async_helpers.py\", line 78, in _pseudo_sync_runner\n",
            "    coro.send(None)\n",
            "  File \"/usr/local/lib/python3.10/dist-packages/IPython/core/interactiveshell.py\", line 3257, in run_cell_async\n",
            "    has_raised = await self.run_ast_nodes(code_ast.body, cell_name,\n",
            "  File \"/usr/local/lib/python3.10/dist-packages/IPython/core/interactiveshell.py\", line 3492, in run_ast_nodes\n",
            "    self.showtraceback()\n",
            "  File \"/usr/local/lib/python3.10/dist-packages/IPython/core/interactiveshell.py\", line 2101, in showtraceback\n",
            "    stb = self.InteractiveTB.structured_traceback(etype,\n",
            "  File \"/usr/local/lib/python3.10/dist-packages/IPython/core/ultratb.py\", line 1367, in structured_traceback\n",
            "    return FormattedTB.structured_traceback(\n",
            "  File \"/usr/local/lib/python3.10/dist-packages/IPython/core/ultratb.py\", line 1267, in structured_traceback\n",
            "    return VerboseTB.structured_traceback(\n",
            "  File \"/usr/local/lib/python3.10/dist-packages/IPython/core/ultratb.py\", line 1142, in structured_traceback\n",
            "    formatted_exceptions += self.format_exception_as_a_whole(etype, evalue, etb, lines_of_context,\n",
            "  File \"/usr/local/lib/python3.10/dist-packages/IPython/core/ultratb.py\", line 1082, in format_exception_as_a_whole\n",
            "    last_unique, recursion_repeat = find_recursion(orig_etype, evalue, records)\n",
            "  File \"/usr/local/lib/python3.10/dist-packages/IPython/core/ultratb.py\", line 382, in find_recursion\n",
            "    return len(records), 0\n",
            "TypeError: object of type 'NoneType' has no len()\n",
            "\n",
            "During handling of the above exception, another exception occurred:\n",
            "\n",
            "Traceback (most recent call last):\n",
            "  File \"/usr/local/lib/python3.10/dist-packages/IPython/core/interactiveshell.py\", line 2099, in showtraceback\n",
            "    stb = value._render_traceback_()\n",
            "AttributeError: 'TypeError' object has no attribute '_render_traceback_'\n",
            "\n",
            "During handling of the above exception, another exception occurred:\n",
            "\n",
            "Traceback (most recent call last):\n",
            "  File \"/usr/local/lib/python3.10/dist-packages/IPython/core/ultratb.py\", line 1101, in get_records\n",
            "    return _fixed_getinnerframes(etb, number_of_lines_of_context, tb_offset)\n",
            "  File \"/usr/local/lib/python3.10/dist-packages/IPython/core/ultratb.py\", line 248, in wrapped\n",
            "    return f(*args, **kwargs)\n",
            "  File \"/usr/local/lib/python3.10/dist-packages/IPython/core/ultratb.py\", line 281, in _fixed_getinnerframes\n",
            "    records = fix_frame_records_filenames(inspect.getinnerframes(etb, context))\n",
            "  File \"/usr/lib/python3.10/inspect.py\", line 1662, in getinnerframes\n",
            "    frameinfo = (tb.tb_frame,) + getframeinfo(tb, context)\n",
            "  File \"/usr/lib/python3.10/inspect.py\", line 1620, in getframeinfo\n",
            "    filename = getsourcefile(frame) or getfile(frame)\n",
            "  File \"/usr/lib/python3.10/inspect.py\", line 829, in getsourcefile\n",
            "    module = getmodule(object, filename)\n",
            "  File \"/usr/lib/python3.10/inspect.py\", line 861, in getmodule\n",
            "    file = getabsfile(object, _filename)\n",
            "  File \"/usr/lib/python3.10/inspect.py\", line 845, in getabsfile\n",
            "    return os.path.normcase(os.path.abspath(_filename))\n",
            "  File \"/usr/lib/python3.10/posixpath.py\", line 384, in abspath\n",
            "    cwd = os.getcwd()\n",
            "OSError: [Errno 107] Transport endpoint is not connected\n"
          ]
        }
      ]
    },
    {
      "cell_type": "code",
      "source": [
        "print(train_labels.shape)\n",
        "print(test_labels.shape)\n",
        "print(val_labels.shape)"
      ],
      "metadata": {
        "colab": {
          "base_uri": "https://localhost:8080/"
        },
        "id": "vFbgUslK50VD",
        "outputId": "55dec443-ba23-40ed-8547-f1f78459f957"
      },
      "execution_count": 120,
      "outputs": [
        {
          "output_type": "stream",
          "name": "stdout",
          "text": [
            "torch.Size([5497, 336])\n",
            "torch.Size([755, 336])\n",
            "torch.Size([1077, 336])\n"
          ]
        }
      ]
    },
    {
      "cell_type": "code",
      "source": [
        "feature_name_folder='featurenames_CS229B_project/'\n",
        "feature_name_file=feature_name_folder+'fn_dataset_with_time_FF.pt'"
      ],
      "metadata": {
        "id": "aLlEauXaNWB8"
      },
      "execution_count": 121,
      "outputs": []
    },
    {
      "cell_type": "code",
      "source": [
        "with open(feature_name_file, \"rb\") as fp:   # Unpickling\n",
        "  input_feature_labels = pickle.load(fp)"
      ],
      "metadata": {
        "id": "pqg-9DgHNMwv",
        "colab": {
          "base_uri": "https://localhost:8080/"
        },
        "outputId": "ac96a4b1-547a-4aae-d32f-58515268fa97"
      },
      "execution_count": null,
      "outputs": [
        {
          "output_type": "stream",
          "name": "stderr",
          "text": [
            "ERROR:root:Internal Python error in the inspect module.\n",
            "Below is the traceback from this internal error.\n",
            "\n",
            "ERROR:root:Internal Python error in the inspect module.\n",
            "Below is the traceback from this internal error.\n",
            "\n"
          ]
        },
        {
          "output_type": "stream",
          "name": "stdout",
          "text": [
            "Traceback (most recent call last):\n",
            "  File \"/usr/local/lib/python3.10/dist-packages/IPython/core/interactiveshell.py\", line 3553, in run_code\n",
            "    exec(code_obj, self.user_global_ns, self.user_ns)\n",
            "  File \"<ipython-input-122-31a2190d8214>\", line 1, in <cell line: 1>\n",
            "    with open(feature_name_file, \"rb\") as fp:   # Unpickling\n",
            "OSError: [Errno 107] Transport endpoint is not connected: 'featurenames_CS229B_project/fn_dataset_with_time_FF.pt'\n",
            "\n",
            "During handling of the above exception, another exception occurred:\n",
            "\n",
            "Traceback (most recent call last):\n",
            "  File \"/usr/local/lib/python3.10/dist-packages/IPython/core/interactiveshell.py\", line 2099, in showtraceback\n",
            "    stb = value._render_traceback_()\n",
            "AttributeError: 'OSError' object has no attribute '_render_traceback_'\n",
            "\n",
            "During handling of the above exception, another exception occurred:\n",
            "\n",
            "Traceback (most recent call last):\n",
            "  File \"/usr/local/lib/python3.10/dist-packages/IPython/core/ultratb.py\", line 1101, in get_records\n",
            "    return _fixed_getinnerframes(etb, number_of_lines_of_context, tb_offset)\n",
            "  File \"/usr/local/lib/python3.10/dist-packages/IPython/core/ultratb.py\", line 248, in wrapped\n",
            "    return f(*args, **kwargs)\n",
            "  File \"/usr/local/lib/python3.10/dist-packages/IPython/core/ultratb.py\", line 281, in _fixed_getinnerframes\n",
            "    records = fix_frame_records_filenames(inspect.getinnerframes(etb, context))\n",
            "  File \"/usr/lib/python3.10/inspect.py\", line 1662, in getinnerframes\n",
            "    frameinfo = (tb.tb_frame,) + getframeinfo(tb, context)\n",
            "  File \"/usr/lib/python3.10/inspect.py\", line 1620, in getframeinfo\n",
            "    filename = getsourcefile(frame) or getfile(frame)\n",
            "  File \"/usr/lib/python3.10/inspect.py\", line 829, in getsourcefile\n",
            "    module = getmodule(object, filename)\n",
            "  File \"/usr/lib/python3.10/inspect.py\", line 861, in getmodule\n",
            "    file = getabsfile(object, _filename)\n",
            "  File \"/usr/lib/python3.10/inspect.py\", line 845, in getabsfile\n",
            "    return os.path.normcase(os.path.abspath(_filename))\n",
            "  File \"/usr/lib/python3.10/posixpath.py\", line 384, in abspath\n",
            "    cwd = os.getcwd()\n",
            "OSError: [Errno 107] Transport endpoint is not connected\n",
            "Traceback (most recent call last):\n",
            "  File \"/usr/local/lib/python3.10/dist-packages/IPython/core/interactiveshell.py\", line 3553, in run_code\n",
            "    exec(code_obj, self.user_global_ns, self.user_ns)\n",
            "  File \"<ipython-input-122-31a2190d8214>\", line 1, in <cell line: 1>\n",
            "    with open(feature_name_file, \"rb\") as fp:   # Unpickling\n",
            "OSError: [Errno 107] Transport endpoint is not connected: 'featurenames_CS229B_project/fn_dataset_with_time_FF.pt'\n",
            "\n",
            "During handling of the above exception, another exception occurred:\n",
            "\n",
            "Traceback (most recent call last):\n",
            "  File \"/usr/local/lib/python3.10/dist-packages/IPython/core/interactiveshell.py\", line 2099, in showtraceback\n",
            "    stb = value._render_traceback_()\n",
            "AttributeError: 'OSError' object has no attribute '_render_traceback_'\n",
            "\n",
            "During handling of the above exception, another exception occurred:\n",
            "\n",
            "Traceback (most recent call last):\n",
            "  File \"/usr/local/lib/python3.10/dist-packages/IPython/core/interactiveshell.py\", line 3473, in run_ast_nodes\n",
            "    if (await self.run_code(code, result,  async_=asy)):\n",
            "  File \"/usr/local/lib/python3.10/dist-packages/IPython/core/interactiveshell.py\", line 3575, in run_code\n",
            "    self.showtraceback(running_compiled_code=True)\n",
            "  File \"/usr/local/lib/python3.10/dist-packages/IPython/core/interactiveshell.py\", line 2101, in showtraceback\n",
            "    stb = self.InteractiveTB.structured_traceback(etype,\n",
            "  File \"/usr/local/lib/python3.10/dist-packages/IPython/core/ultratb.py\", line 1367, in structured_traceback\n",
            "    return FormattedTB.structured_traceback(\n",
            "  File \"/usr/local/lib/python3.10/dist-packages/IPython/core/ultratb.py\", line 1267, in structured_traceback\n",
            "    return VerboseTB.structured_traceback(\n",
            "  File \"/usr/local/lib/python3.10/dist-packages/IPython/core/ultratb.py\", line 1124, in structured_traceback\n",
            "    formatted_exception = self.format_exception_as_a_whole(etype, evalue, etb, number_of_lines_of_context,\n",
            "  File \"/usr/local/lib/python3.10/dist-packages/IPython/core/ultratb.py\", line 1082, in format_exception_as_a_whole\n",
            "    last_unique, recursion_repeat = find_recursion(orig_etype, evalue, records)\n",
            "  File \"/usr/local/lib/python3.10/dist-packages/IPython/core/ultratb.py\", line 382, in find_recursion\n",
            "    return len(records), 0\n",
            "TypeError: object of type 'NoneType' has no len()\n",
            "\n",
            "During handling of the above exception, another exception occurred:\n",
            "\n",
            "Traceback (most recent call last):\n",
            "  File \"/usr/local/lib/python3.10/dist-packages/IPython/core/interactiveshell.py\", line 2099, in showtraceback\n",
            "    stb = value._render_traceback_()\n",
            "AttributeError: 'TypeError' object has no attribute '_render_traceback_'\n",
            "\n",
            "During handling of the above exception, another exception occurred:\n",
            "\n",
            "Traceback (most recent call last):\n",
            "  File \"/usr/local/lib/python3.10/dist-packages/IPython/core/ultratb.py\", line 1101, in get_records\n",
            "    return _fixed_getinnerframes(etb, number_of_lines_of_context, tb_offset)\n",
            "  File \"/usr/local/lib/python3.10/dist-packages/IPython/core/ultratb.py\", line 248, in wrapped\n",
            "    return f(*args, **kwargs)\n",
            "  File \"/usr/local/lib/python3.10/dist-packages/IPython/core/ultratb.py\", line 281, in _fixed_getinnerframes\n",
            "    records = fix_frame_records_filenames(inspect.getinnerframes(etb, context))\n",
            "  File \"/usr/lib/python3.10/inspect.py\", line 1662, in getinnerframes\n",
            "    frameinfo = (tb.tb_frame,) + getframeinfo(tb, context)\n",
            "  File \"/usr/lib/python3.10/inspect.py\", line 1620, in getframeinfo\n",
            "    filename = getsourcefile(frame) or getfile(frame)\n",
            "  File \"/usr/lib/python3.10/inspect.py\", line 829, in getsourcefile\n",
            "    module = getmodule(object, filename)\n",
            "  File \"/usr/lib/python3.10/inspect.py\", line 861, in getmodule\n",
            "    file = getabsfile(object, _filename)\n",
            "  File \"/usr/lib/python3.10/inspect.py\", line 845, in getabsfile\n",
            "    return os.path.normcase(os.path.abspath(_filename))\n",
            "  File \"/usr/lib/python3.10/posixpath.py\", line 384, in abspath\n",
            "    cwd = os.getcwd()\n",
            "OSError: [Errno 107] Transport endpoint is not connected\n"
          ]
        },
        {
          "output_type": "stream",
          "name": "stderr",
          "text": [
            "ERROR:root:Internal Python error in the inspect module.\n",
            "Below is the traceback from this internal error.\n",
            "\n"
          ]
        },
        {
          "output_type": "stream",
          "name": "stdout",
          "text": [
            "Traceback (most recent call last):\n",
            "  File \"/usr/local/lib/python3.10/dist-packages/IPython/core/interactiveshell.py\", line 3553, in run_code\n",
            "    exec(code_obj, self.user_global_ns, self.user_ns)\n",
            "  File \"<ipython-input-122-31a2190d8214>\", line 1, in <cell line: 1>\n",
            "    with open(feature_name_file, \"rb\") as fp:   # Unpickling\n",
            "OSError: [Errno 107] Transport endpoint is not connected: 'featurenames_CS229B_project/fn_dataset_with_time_FF.pt'\n",
            "\n",
            "During handling of the above exception, another exception occurred:\n",
            "\n",
            "Traceback (most recent call last):\n",
            "  File \"/usr/local/lib/python3.10/dist-packages/IPython/core/interactiveshell.py\", line 2099, in showtraceback\n",
            "    stb = value._render_traceback_()\n",
            "AttributeError: 'OSError' object has no attribute '_render_traceback_'\n",
            "\n",
            "During handling of the above exception, another exception occurred:\n",
            "\n",
            "Traceback (most recent call last):\n",
            "  File \"/usr/local/lib/python3.10/dist-packages/IPython/core/interactiveshell.py\", line 3473, in run_ast_nodes\n",
            "    if (await self.run_code(code, result,  async_=asy)):\n",
            "  File \"/usr/local/lib/python3.10/dist-packages/IPython/core/interactiveshell.py\", line 3575, in run_code\n",
            "    self.showtraceback(running_compiled_code=True)\n",
            "  File \"/usr/local/lib/python3.10/dist-packages/IPython/core/interactiveshell.py\", line 2101, in showtraceback\n",
            "    stb = self.InteractiveTB.structured_traceback(etype,\n",
            "  File \"/usr/local/lib/python3.10/dist-packages/IPython/core/ultratb.py\", line 1367, in structured_traceback\n",
            "    return FormattedTB.structured_traceback(\n",
            "  File \"/usr/local/lib/python3.10/dist-packages/IPython/core/ultratb.py\", line 1267, in structured_traceback\n",
            "    return VerboseTB.structured_traceback(\n",
            "  File \"/usr/local/lib/python3.10/dist-packages/IPython/core/ultratb.py\", line 1124, in structured_traceback\n",
            "    formatted_exception = self.format_exception_as_a_whole(etype, evalue, etb, number_of_lines_of_context,\n",
            "  File \"/usr/local/lib/python3.10/dist-packages/IPython/core/ultratb.py\", line 1082, in format_exception_as_a_whole\n",
            "    last_unique, recursion_repeat = find_recursion(orig_etype, evalue, records)\n",
            "  File \"/usr/local/lib/python3.10/dist-packages/IPython/core/ultratb.py\", line 382, in find_recursion\n",
            "    return len(records), 0\n",
            "TypeError: object of type 'NoneType' has no len()\n",
            "\n",
            "During handling of the above exception, another exception occurred:\n",
            "\n",
            "Traceback (most recent call last):\n",
            "  File \"/usr/local/lib/python3.10/dist-packages/IPython/core/interactiveshell.py\", line 2099, in showtraceback\n",
            "    stb = value._render_traceback_()\n",
            "AttributeError: 'TypeError' object has no attribute '_render_traceback_'\n",
            "\n",
            "During handling of the above exception, another exception occurred:\n",
            "\n",
            "Traceback (most recent call last):\n",
            "  File \"/usr/local/lib/python3.10/dist-packages/IPython/core/interactiveshell.py\", line 3030, in _run_cell\n",
            "    return runner(coro)\n",
            "  File \"/usr/local/lib/python3.10/dist-packages/IPython/core/async_helpers.py\", line 78, in _pseudo_sync_runner\n",
            "    coro.send(None)\n",
            "  File \"/usr/local/lib/python3.10/dist-packages/IPython/core/interactiveshell.py\", line 3257, in run_cell_async\n",
            "    has_raised = await self.run_ast_nodes(code_ast.body, cell_name,\n",
            "  File \"/usr/local/lib/python3.10/dist-packages/IPython/core/interactiveshell.py\", line 3492, in run_ast_nodes\n",
            "    self.showtraceback()\n",
            "  File \"/usr/local/lib/python3.10/dist-packages/IPython/core/interactiveshell.py\", line 2101, in showtraceback\n",
            "    stb = self.InteractiveTB.structured_traceback(etype,\n",
            "  File \"/usr/local/lib/python3.10/dist-packages/IPython/core/ultratb.py\", line 1367, in structured_traceback\n",
            "    return FormattedTB.structured_traceback(\n",
            "  File \"/usr/local/lib/python3.10/dist-packages/IPython/core/ultratb.py\", line 1267, in structured_traceback\n",
            "    return VerboseTB.structured_traceback(\n",
            "  File \"/usr/local/lib/python3.10/dist-packages/IPython/core/ultratb.py\", line 1142, in structured_traceback\n",
            "    formatted_exceptions += self.format_exception_as_a_whole(etype, evalue, etb, lines_of_context,\n",
            "  File \"/usr/local/lib/python3.10/dist-packages/IPython/core/ultratb.py\", line 1082, in format_exception_as_a_whole\n",
            "    last_unique, recursion_repeat = find_recursion(orig_etype, evalue, records)\n",
            "  File \"/usr/local/lib/python3.10/dist-packages/IPython/core/ultratb.py\", line 382, in find_recursion\n",
            "    return len(records), 0\n",
            "TypeError: object of type 'NoneType' has no len()\n",
            "\n",
            "During handling of the above exception, another exception occurred:\n",
            "\n",
            "Traceback (most recent call last):\n",
            "  File \"/usr/local/lib/python3.10/dist-packages/IPython/core/interactiveshell.py\", line 2099, in showtraceback\n",
            "    stb = value._render_traceback_()\n",
            "AttributeError: 'TypeError' object has no attribute '_render_traceback_'\n",
            "\n",
            "During handling of the above exception, another exception occurred:\n",
            "\n",
            "Traceback (most recent call last):\n",
            "  File \"/usr/local/lib/python3.10/dist-packages/IPython/core/ultratb.py\", line 1101, in get_records\n",
            "    return _fixed_getinnerframes(etb, number_of_lines_of_context, tb_offset)\n",
            "  File \"/usr/local/lib/python3.10/dist-packages/IPython/core/ultratb.py\", line 248, in wrapped\n",
            "    return f(*args, **kwargs)\n",
            "  File \"/usr/local/lib/python3.10/dist-packages/IPython/core/ultratb.py\", line 281, in _fixed_getinnerframes\n",
            "    records = fix_frame_records_filenames(inspect.getinnerframes(etb, context))\n",
            "  File \"/usr/lib/python3.10/inspect.py\", line 1662, in getinnerframes\n",
            "    frameinfo = (tb.tb_frame,) + getframeinfo(tb, context)\n",
            "  File \"/usr/lib/python3.10/inspect.py\", line 1620, in getframeinfo\n",
            "    filename = getsourcefile(frame) or getfile(frame)\n",
            "  File \"/usr/lib/python3.10/inspect.py\", line 829, in getsourcefile\n",
            "    module = getmodule(object, filename)\n",
            "  File \"/usr/lib/python3.10/inspect.py\", line 861, in getmodule\n",
            "    file = getabsfile(object, _filename)\n",
            "  File \"/usr/lib/python3.10/inspect.py\", line 845, in getabsfile\n",
            "    return os.path.normcase(os.path.abspath(_filename))\n",
            "  File \"/usr/lib/python3.10/posixpath.py\", line 384, in abspath\n",
            "    cwd = os.getcwd()\n",
            "OSError: [Errno 107] Transport endpoint is not connected\n"
          ]
        }
      ]
    },
    {
      "cell_type": "code",
      "source": [
        "train_data.shape"
      ],
      "metadata": {
        "colab": {
          "base_uri": "https://localhost:8080/"
        },
        "id": "KJZSv-ZScInQ",
        "outputId": "1e27ebda-887f-4f2c-d45b-d86fb303c356"
      },
      "execution_count": 122,
      "outputs": [
        {
          "output_type": "execute_result",
          "data": {
            "text/plain": [
              "(5497, 336, 84)"
            ]
          },
          "metadata": {},
          "execution_count": 122
        }
      ]
    },
    {
      "cell_type": "code",
      "source": [
        "print(input_feature_labels)"
      ],
      "metadata": {
        "colab": {
          "base_uri": "https://localhost:8080/"
        },
        "id": "RIJQSPIENZnw",
        "outputId": "b7f0c707-882d-47aa-cee2-f3e124d69ca2"
      },
      "execution_count": 123,
      "outputs": [
        {
          "output_type": "stream",
          "name": "stdout",
          "text": [
            "['HR', 'O2Sat', 'Temp', 'SBP', 'MAP', 'DBP', 'Resp', 'EtCO2', 'BaseExcess', 'HCO3', 'FiO2', 'pH', 'PaCO2', 'SaO2', 'AST', 'BUN', 'Alkalinephos', 'Calcium', 'Chloride', 'Creatinine', 'Bilirubin_direct', 'Glucose', 'Lactate', 'Magnesium', 'Phosphate', 'Potassium', 'Bilirubin_total', 'TroponinI', 'Hct', 'Hgb', 'PTT', 'WBC', 'Fibrinogen', 'Platelets', 'Age', 'Gender', 'Unit1', 'Unit2', 'HospAdmTime', 'ICULOS', 'hospital', 'AvailMeas', 'Time', 'maskHR', 'maskO2Sat', 'maskTemp', 'maskSBP', 'maskMAP', 'maskDBP', 'maskResp', 'maskEtCO2', 'maskBaseExcess', 'maskHCO3', 'maskFiO2', 'maskpH', 'maskPaCO2', 'maskSaO2', 'maskAST', 'maskBUN', 'maskAlkalinephos', 'maskCalcium', 'maskChloride', 'maskCreatinine', 'maskBilirubin_direct', 'maskTroponinI', 'maskHct', 'maskPTT', 'maskWBC', 'maskFibrinogen', 'maskPlatelets', 'maskAge', 'maskGender', 'maskUnit1', 'maskUnit2', 'maskHospAdmTime', 'maskICULOS', 'maskhospital', 'maskGlucose', 'maskLactate', 'maskMagnesium', 'maskPotassium', 'maskBilirubin_total', 'maskHgb', 'maskPhosphate']\n"
          ]
        }
      ]
    },
    {
      "cell_type": "code",
      "source": [
        "print(len(input_feature_labels))"
      ],
      "metadata": {
        "colab": {
          "base_uri": "https://localhost:8080/"
        },
        "id": "kHxUXHUNZoda",
        "outputId": "cff79d9e-ae36-4947-d06b-6e433ef02623"
      },
      "execution_count": 124,
      "outputs": [
        {
          "output_type": "stream",
          "name": "stdout",
          "text": [
            "84\n"
          ]
        }
      ]
    },
    {
      "cell_type": "code",
      "source": [
        "# For neuralCDE open full coeffs\n",
        "train_coeffs_scaled = torch.load('train_hermitecoeffs_scaled_full.pt')\n",
        "val_coeffs_scaled = torch.load('val_hermitecoeffs_scaled_full.pt')\n",
        "test_coeffs_scaled = torch.load('test_hermitecoeffs_scaled_full.pt')"
      ],
      "metadata": {
        "id": "EVmco-EFOtQ1",
        "colab": {
          "base_uri": "https://localhost:8080/"
        },
        "outputId": "f94e45aa-a73f-41b0-ab9f-73a41f3eebcd"
      },
      "execution_count": null,
      "outputs": [
        {
          "output_type": "stream",
          "name": "stderr",
          "text": [
            "ERROR:root:Internal Python error in the inspect module.\n",
            "Below is the traceback from this internal error.\n",
            "\n",
            "ERROR:root:Internal Python error in the inspect module.\n",
            "Below is the traceback from this internal error.\n",
            "\n"
          ]
        },
        {
          "output_type": "stream",
          "name": "stdout",
          "text": [
            "Traceback (most recent call last):\n",
            "  File \"/usr/local/lib/python3.10/dist-packages/IPython/core/interactiveshell.py\", line 3553, in run_code\n",
            "    exec(code_obj, self.user_global_ns, self.user_ns)\n",
            "  File \"<ipython-input-125-e9544c031a3a>\", line 2, in <cell line: 2>\n",
            "    train_coeffs_scaled = torch.load('train_hermitecoeffs_scaled_full.pt')\n",
            "  File \"/usr/local/lib/python3.10/dist-packages/torch/serialization.py\", line 986, in load\n",
            "    with _open_file_like(f, 'rb') as opened_file:\n",
            "  File \"/usr/local/lib/python3.10/dist-packages/torch/serialization.py\", line 435, in _open_file_like\n",
            "    return _open_file(name_or_buffer, mode)\n",
            "  File \"/usr/local/lib/python3.10/dist-packages/torch/serialization.py\", line 416, in __init__\n",
            "    super().__init__(open(name, mode))\n",
            "OSError: [Errno 107] Transport endpoint is not connected: 'train_hermitecoeffs_scaled_full.pt'\n",
            "\n",
            "During handling of the above exception, another exception occurred:\n",
            "\n",
            "Traceback (most recent call last):\n",
            "  File \"/usr/local/lib/python3.10/dist-packages/IPython/core/interactiveshell.py\", line 2099, in showtraceback\n",
            "    stb = value._render_traceback_()\n",
            "AttributeError: 'OSError' object has no attribute '_render_traceback_'\n",
            "\n",
            "During handling of the above exception, another exception occurred:\n",
            "\n",
            "Traceback (most recent call last):\n",
            "  File \"/usr/local/lib/python3.10/dist-packages/IPython/core/ultratb.py\", line 1101, in get_records\n",
            "    return _fixed_getinnerframes(etb, number_of_lines_of_context, tb_offset)\n",
            "  File \"/usr/local/lib/python3.10/dist-packages/IPython/core/ultratb.py\", line 248, in wrapped\n",
            "    return f(*args, **kwargs)\n",
            "  File \"/usr/local/lib/python3.10/dist-packages/IPython/core/ultratb.py\", line 281, in _fixed_getinnerframes\n",
            "    records = fix_frame_records_filenames(inspect.getinnerframes(etb, context))\n",
            "  File \"/usr/lib/python3.10/inspect.py\", line 1662, in getinnerframes\n",
            "    frameinfo = (tb.tb_frame,) + getframeinfo(tb, context)\n",
            "  File \"/usr/lib/python3.10/inspect.py\", line 1620, in getframeinfo\n",
            "    filename = getsourcefile(frame) or getfile(frame)\n",
            "  File \"/usr/lib/python3.10/inspect.py\", line 829, in getsourcefile\n",
            "    module = getmodule(object, filename)\n",
            "  File \"/usr/lib/python3.10/inspect.py\", line 861, in getmodule\n",
            "    file = getabsfile(object, _filename)\n",
            "  File \"/usr/lib/python3.10/inspect.py\", line 845, in getabsfile\n",
            "    return os.path.normcase(os.path.abspath(_filename))\n",
            "  File \"/usr/lib/python3.10/posixpath.py\", line 384, in abspath\n",
            "    cwd = os.getcwd()\n",
            "OSError: [Errno 107] Transport endpoint is not connected\n",
            "Traceback (most recent call last):\n",
            "  File \"/usr/local/lib/python3.10/dist-packages/IPython/core/interactiveshell.py\", line 3553, in run_code\n",
            "    exec(code_obj, self.user_global_ns, self.user_ns)\n",
            "  File \"<ipython-input-125-e9544c031a3a>\", line 2, in <cell line: 2>\n",
            "    train_coeffs_scaled = torch.load('train_hermitecoeffs_scaled_full.pt')\n",
            "  File \"/usr/local/lib/python3.10/dist-packages/torch/serialization.py\", line 986, in load\n",
            "    with _open_file_like(f, 'rb') as opened_file:\n",
            "  File \"/usr/local/lib/python3.10/dist-packages/torch/serialization.py\", line 435, in _open_file_like\n",
            "    return _open_file(name_or_buffer, mode)\n",
            "  File \"/usr/local/lib/python3.10/dist-packages/torch/serialization.py\", line 416, in __init__\n",
            "    super().__init__(open(name, mode))\n",
            "OSError: [Errno 107] Transport endpoint is not connected: 'train_hermitecoeffs_scaled_full.pt'\n",
            "\n",
            "During handling of the above exception, another exception occurred:\n",
            "\n",
            "Traceback (most recent call last):\n",
            "  File \"/usr/local/lib/python3.10/dist-packages/IPython/core/interactiveshell.py\", line 2099, in showtraceback\n",
            "    stb = value._render_traceback_()\n",
            "AttributeError: 'OSError' object has no attribute '_render_traceback_'\n",
            "\n",
            "During handling of the above exception, another exception occurred:\n",
            "\n",
            "Traceback (most recent call last):\n",
            "  File \"/usr/local/lib/python3.10/dist-packages/IPython/core/interactiveshell.py\", line 3473, in run_ast_nodes\n",
            "    if (await self.run_code(code, result,  async_=asy)):\n",
            "  File \"/usr/local/lib/python3.10/dist-packages/IPython/core/interactiveshell.py\", line 3575, in run_code\n",
            "    self.showtraceback(running_compiled_code=True)\n",
            "  File \"/usr/local/lib/python3.10/dist-packages/IPython/core/interactiveshell.py\", line 2101, in showtraceback\n",
            "    stb = self.InteractiveTB.structured_traceback(etype,\n",
            "  File \"/usr/local/lib/python3.10/dist-packages/IPython/core/ultratb.py\", line 1367, in structured_traceback\n",
            "    return FormattedTB.structured_traceback(\n",
            "  File \"/usr/local/lib/python3.10/dist-packages/IPython/core/ultratb.py\", line 1267, in structured_traceback\n",
            "    return VerboseTB.structured_traceback(\n",
            "  File \"/usr/local/lib/python3.10/dist-packages/IPython/core/ultratb.py\", line 1124, in structured_traceback\n",
            "    formatted_exception = self.format_exception_as_a_whole(etype, evalue, etb, number_of_lines_of_context,\n",
            "  File \"/usr/local/lib/python3.10/dist-packages/IPython/core/ultratb.py\", line 1082, in format_exception_as_a_whole\n",
            "    last_unique, recursion_repeat = find_recursion(orig_etype, evalue, records)\n",
            "  File \"/usr/local/lib/python3.10/dist-packages/IPython/core/ultratb.py\", line 382, in find_recursion\n",
            "    return len(records), 0\n",
            "TypeError: object of type 'NoneType' has no len()\n",
            "\n",
            "During handling of the above exception, another exception occurred:\n",
            "\n",
            "Traceback (most recent call last):\n",
            "  File \"/usr/local/lib/python3.10/dist-packages/IPython/core/interactiveshell.py\", line 2099, in showtraceback\n",
            "    stb = value._render_traceback_()\n",
            "AttributeError: 'TypeError' object has no attribute '_render_traceback_'\n",
            "\n",
            "During handling of the above exception, another exception occurred:\n",
            "\n",
            "Traceback (most recent call last):\n",
            "  File \"/usr/local/lib/python3.10/dist-packages/IPython/core/ultratb.py\", line 1101, in get_records\n",
            "    return _fixed_getinnerframes(etb, number_of_lines_of_context, tb_offset)\n",
            "  File \"/usr/local/lib/python3.10/dist-packages/IPython/core/ultratb.py\", line 248, in wrapped\n",
            "    return f(*args, **kwargs)\n",
            "  File \"/usr/local/lib/python3.10/dist-packages/IPython/core/ultratb.py\", line 281, in _fixed_getinnerframes\n",
            "    records = fix_frame_records_filenames(inspect.getinnerframes(etb, context))\n",
            "  File \"/usr/lib/python3.10/inspect.py\", line 1662, in getinnerframes\n",
            "    frameinfo = (tb.tb_frame,) + getframeinfo(tb, context)\n",
            "  File \"/usr/lib/python3.10/inspect.py\", line 1620, in getframeinfo\n",
            "    filename = getsourcefile(frame) or getfile(frame)\n",
            "  File \"/usr/lib/python3.10/inspect.py\", line 829, in getsourcefile\n",
            "    module = getmodule(object, filename)\n",
            "  File \"/usr/lib/python3.10/inspect.py\", line 861, in getmodule\n",
            "    file = getabsfile(object, _filename)\n",
            "  File \"/usr/lib/python3.10/inspect.py\", line 845, in getabsfile\n",
            "    return os.path.normcase(os.path.abspath(_filename))\n",
            "  File \"/usr/lib/python3.10/posixpath.py\", line 384, in abspath\n",
            "    cwd = os.getcwd()\n",
            "OSError: [Errno 107] Transport endpoint is not connected\n"
          ]
        },
        {
          "output_type": "stream",
          "name": "stderr",
          "text": [
            "ERROR:root:Internal Python error in the inspect module.\n",
            "Below is the traceback from this internal error.\n",
            "\n"
          ]
        },
        {
          "output_type": "stream",
          "name": "stdout",
          "text": [
            "Traceback (most recent call last):\n",
            "  File \"/usr/local/lib/python3.10/dist-packages/IPython/core/interactiveshell.py\", line 3553, in run_code\n",
            "    exec(code_obj, self.user_global_ns, self.user_ns)\n",
            "  File \"<ipython-input-125-e9544c031a3a>\", line 2, in <cell line: 2>\n",
            "    train_coeffs_scaled = torch.load('train_hermitecoeffs_scaled_full.pt')\n",
            "  File \"/usr/local/lib/python3.10/dist-packages/torch/serialization.py\", line 986, in load\n",
            "    with _open_file_like(f, 'rb') as opened_file:\n",
            "  File \"/usr/local/lib/python3.10/dist-packages/torch/serialization.py\", line 435, in _open_file_like\n",
            "    return _open_file(name_or_buffer, mode)\n",
            "  File \"/usr/local/lib/python3.10/dist-packages/torch/serialization.py\", line 416, in __init__\n",
            "    super().__init__(open(name, mode))\n",
            "OSError: [Errno 107] Transport endpoint is not connected: 'train_hermitecoeffs_scaled_full.pt'\n",
            "\n",
            "During handling of the above exception, another exception occurred:\n",
            "\n",
            "Traceback (most recent call last):\n",
            "  File \"/usr/local/lib/python3.10/dist-packages/IPython/core/interactiveshell.py\", line 2099, in showtraceback\n",
            "    stb = value._render_traceback_()\n",
            "AttributeError: 'OSError' object has no attribute '_render_traceback_'\n",
            "\n",
            "During handling of the above exception, another exception occurred:\n",
            "\n",
            "Traceback (most recent call last):\n",
            "  File \"/usr/local/lib/python3.10/dist-packages/IPython/core/interactiveshell.py\", line 3473, in run_ast_nodes\n",
            "    if (await self.run_code(code, result,  async_=asy)):\n",
            "  File \"/usr/local/lib/python3.10/dist-packages/IPython/core/interactiveshell.py\", line 3575, in run_code\n",
            "    self.showtraceback(running_compiled_code=True)\n",
            "  File \"/usr/local/lib/python3.10/dist-packages/IPython/core/interactiveshell.py\", line 2101, in showtraceback\n",
            "    stb = self.InteractiveTB.structured_traceback(etype,\n",
            "  File \"/usr/local/lib/python3.10/dist-packages/IPython/core/ultratb.py\", line 1367, in structured_traceback\n",
            "    return FormattedTB.structured_traceback(\n",
            "  File \"/usr/local/lib/python3.10/dist-packages/IPython/core/ultratb.py\", line 1267, in structured_traceback\n",
            "    return VerboseTB.structured_traceback(\n",
            "  File \"/usr/local/lib/python3.10/dist-packages/IPython/core/ultratb.py\", line 1124, in structured_traceback\n",
            "    formatted_exception = self.format_exception_as_a_whole(etype, evalue, etb, number_of_lines_of_context,\n",
            "  File \"/usr/local/lib/python3.10/dist-packages/IPython/core/ultratb.py\", line 1082, in format_exception_as_a_whole\n",
            "    last_unique, recursion_repeat = find_recursion(orig_etype, evalue, records)\n",
            "  File \"/usr/local/lib/python3.10/dist-packages/IPython/core/ultratb.py\", line 382, in find_recursion\n",
            "    return len(records), 0\n",
            "TypeError: object of type 'NoneType' has no len()\n",
            "\n",
            "During handling of the above exception, another exception occurred:\n",
            "\n",
            "Traceback (most recent call last):\n",
            "  File \"/usr/local/lib/python3.10/dist-packages/IPython/core/interactiveshell.py\", line 2099, in showtraceback\n",
            "    stb = value._render_traceback_()\n",
            "AttributeError: 'TypeError' object has no attribute '_render_traceback_'\n",
            "\n",
            "During handling of the above exception, another exception occurred:\n",
            "\n",
            "Traceback (most recent call last):\n",
            "  File \"/usr/local/lib/python3.10/dist-packages/IPython/core/interactiveshell.py\", line 3030, in _run_cell\n",
            "    return runner(coro)\n",
            "  File \"/usr/local/lib/python3.10/dist-packages/IPython/core/async_helpers.py\", line 78, in _pseudo_sync_runner\n",
            "    coro.send(None)\n",
            "  File \"/usr/local/lib/python3.10/dist-packages/IPython/core/interactiveshell.py\", line 3257, in run_cell_async\n",
            "    has_raised = await self.run_ast_nodes(code_ast.body, cell_name,\n",
            "  File \"/usr/local/lib/python3.10/dist-packages/IPython/core/interactiveshell.py\", line 3492, in run_ast_nodes\n",
            "    self.showtraceback()\n",
            "  File \"/usr/local/lib/python3.10/dist-packages/IPython/core/interactiveshell.py\", line 2101, in showtraceback\n",
            "    stb = self.InteractiveTB.structured_traceback(etype,\n",
            "  File \"/usr/local/lib/python3.10/dist-packages/IPython/core/ultratb.py\", line 1367, in structured_traceback\n",
            "    return FormattedTB.structured_traceback(\n",
            "  File \"/usr/local/lib/python3.10/dist-packages/IPython/core/ultratb.py\", line 1267, in structured_traceback\n",
            "    return VerboseTB.structured_traceback(\n",
            "  File \"/usr/local/lib/python3.10/dist-packages/IPython/core/ultratb.py\", line 1142, in structured_traceback\n",
            "    formatted_exceptions += self.format_exception_as_a_whole(etype, evalue, etb, lines_of_context,\n",
            "  File \"/usr/local/lib/python3.10/dist-packages/IPython/core/ultratb.py\", line 1082, in format_exception_as_a_whole\n",
            "    last_unique, recursion_repeat = find_recursion(orig_etype, evalue, records)\n",
            "  File \"/usr/local/lib/python3.10/dist-packages/IPython/core/ultratb.py\", line 382, in find_recursion\n",
            "    return len(records), 0\n",
            "TypeError: object of type 'NoneType' has no len()\n",
            "\n",
            "During handling of the above exception, another exception occurred:\n",
            "\n",
            "Traceback (most recent call last):\n",
            "  File \"/usr/local/lib/python3.10/dist-packages/IPython/core/interactiveshell.py\", line 2099, in showtraceback\n",
            "    stb = value._render_traceback_()\n",
            "AttributeError: 'TypeError' object has no attribute '_render_traceback_'\n",
            "\n",
            "During handling of the above exception, another exception occurred:\n",
            "\n",
            "Traceback (most recent call last):\n",
            "  File \"/usr/local/lib/python3.10/dist-packages/IPython/core/ultratb.py\", line 1101, in get_records\n",
            "    return _fixed_getinnerframes(etb, number_of_lines_of_context, tb_offset)\n",
            "  File \"/usr/local/lib/python3.10/dist-packages/IPython/core/ultratb.py\", line 248, in wrapped\n",
            "    return f(*args, **kwargs)\n",
            "  File \"/usr/local/lib/python3.10/dist-packages/IPython/core/ultratb.py\", line 281, in _fixed_getinnerframes\n",
            "    records = fix_frame_records_filenames(inspect.getinnerframes(etb, context))\n",
            "  File \"/usr/lib/python3.10/inspect.py\", line 1662, in getinnerframes\n",
            "    frameinfo = (tb.tb_frame,) + getframeinfo(tb, context)\n",
            "  File \"/usr/lib/python3.10/inspect.py\", line 1620, in getframeinfo\n",
            "    filename = getsourcefile(frame) or getfile(frame)\n",
            "  File \"/usr/lib/python3.10/inspect.py\", line 829, in getsourcefile\n",
            "    module = getmodule(object, filename)\n",
            "  File \"/usr/lib/python3.10/inspect.py\", line 861, in getmodule\n",
            "    file = getabsfile(object, _filename)\n",
            "  File \"/usr/lib/python3.10/inspect.py\", line 845, in getabsfile\n",
            "    return os.path.normcase(os.path.abspath(_filename))\n",
            "  File \"/usr/lib/python3.10/posixpath.py\", line 384, in abspath\n",
            "    cwd = os.getcwd()\n",
            "OSError: [Errno 107] Transport endpoint is not connected\n"
          ]
        }
      ]
    },
    {
      "cell_type": "markdown",
      "source": [
        "## Scale feature input data + set up dataloaders"
      ],
      "metadata": {
        "id": "42JhrlJAv18o"
      }
    },
    {
      "cell_type": "code",
      "source": [
        "import pandas as pd"
      ],
      "metadata": {
        "id": "0u3Uap7hdcoY"
      },
      "execution_count": 125,
      "outputs": []
    },
    {
      "cell_type": "code",
      "source": [
        "# Scale features\n",
        "scaler = get_scaler('minmax')\n",
        "num_instances, num_time_steps, num_features = train_data.shape\n",
        "train_data_unrolled = np.reshape(train_data, newshape=(-1, num_features))\n",
        "train_data_scaled_unrolled = scaler.fit_transform(train_data_unrolled)\n",
        "print(train_data_scaled_unrolled.shape)\n",
        "train_data_scaled = np.reshape(train_data_scaled_unrolled, newshape=(num_instances, num_time_steps, num_features))\n",
        "\n",
        "num_instances, num_time_steps, num_features = val_data.shape\n",
        "val_data_unrolled = np.reshape(val_data, newshape=(-1, num_features))\n",
        "val_data_scaled_unrolled = scaler.transform(val_data_unrolled)\n",
        "val_data_scaled = np.reshape(val_data_scaled_unrolled, newshape=(num_instances, num_time_steps, num_features))\n",
        "\n",
        "num_instances, num_time_steps, num_features = test_data.shape\n",
        "test_data_unrolled = np.reshape(test_data, newshape=(-1, num_features))\n",
        "test_data_scaled_unrolled = scaler.transform(test_data_unrolled)\n",
        "test_data_scaled = np.reshape(test_data_scaled_unrolled, newshape=(num_instances, num_time_steps, num_features))\n",
        "\n",
        "print(train_data_scaled.shape)\n",
        "print(val_data_scaled.shape)\n",
        "print(test_data_scaled.shape)"
      ],
      "metadata": {
        "colab": {
          "base_uri": "https://localhost:8080/"
        },
        "id": "3DeyRFMZbwiJ",
        "outputId": "6483c0a9-ceb0-4b13-e943-4d6e1bd04b04"
      },
      "execution_count": 126,
      "outputs": [
        {
          "output_type": "stream",
          "name": "stdout",
          "text": [
            "(1846992, 84)\n",
            "(5497, 336, 84)\n",
            "(1077, 336, 84)\n",
            "(755, 336, 84)\n"
          ]
        }
      ]
    },
    {
      "cell_type": "code",
      "source": [
        "train_data_scaled.shape"
      ],
      "metadata": {
        "colab": {
          "base_uri": "https://localhost:8080/"
        },
        "id": "14fx8t4tYDPS",
        "outputId": "2d7f49be-f281-4db6-b71c-8c27126647d5"
      },
      "execution_count": 127,
      "outputs": [
        {
          "output_type": "execute_result",
          "data": {
            "text/plain": [
              "(5497, 336, 84)"
            ]
          },
          "metadata": {},
          "execution_count": 127
        }
      ]
    },
    {
      "cell_type": "code",
      "execution_count": 128,
      "metadata": {
        "colab": {
          "base_uri": "https://localhost:8080/"
        },
        "id": "wRr-hCYHXTp5",
        "outputId": "ba059a90-83ca-44d7-8407-d4cb3db27199"
      },
      "outputs": [
        {
          "output_type": "stream",
          "name": "stdout",
          "text": [
            "84\n"
          ]
        }
      ],
      "source": [
        "print(len(train_data_scaled[6][1]))"
      ]
    },
    {
      "cell_type": "code",
      "source": [
        "df_vis=pd.DataFrame(train_data_scaled[:,:,-1])"
      ],
      "metadata": {
        "id": "AHIdoAz1YPkz"
      },
      "execution_count": 129,
      "outputs": []
    },
    {
      "cell_type": "code",
      "source": [
        "print(input_feature_labels)"
      ],
      "metadata": {
        "colab": {
          "base_uri": "https://localhost:8080/"
        },
        "id": "zLqKfw7jYn5O",
        "outputId": "b0b666a1-6bcc-4a7d-8365-8bd31a387a46"
      },
      "execution_count": 130,
      "outputs": [
        {
          "output_type": "stream",
          "name": "stdout",
          "text": [
            "['HR', 'O2Sat', 'Temp', 'SBP', 'MAP', 'DBP', 'Resp', 'EtCO2', 'BaseExcess', 'HCO3', 'FiO2', 'pH', 'PaCO2', 'SaO2', 'AST', 'BUN', 'Alkalinephos', 'Calcium', 'Chloride', 'Creatinine', 'Bilirubin_direct', 'Glucose', 'Lactate', 'Magnesium', 'Phosphate', 'Potassium', 'Bilirubin_total', 'TroponinI', 'Hct', 'Hgb', 'PTT', 'WBC', 'Fibrinogen', 'Platelets', 'Age', 'Gender', 'Unit1', 'Unit2', 'HospAdmTime', 'ICULOS', 'hospital', 'AvailMeas', 'Time', 'maskHR', 'maskO2Sat', 'maskTemp', 'maskSBP', 'maskMAP', 'maskDBP', 'maskResp', 'maskEtCO2', 'maskBaseExcess', 'maskHCO3', 'maskFiO2', 'maskpH', 'maskPaCO2', 'maskSaO2', 'maskAST', 'maskBUN', 'maskAlkalinephos', 'maskCalcium', 'maskChloride', 'maskCreatinine', 'maskBilirubin_direct', 'maskTroponinI', 'maskHct', 'maskPTT', 'maskWBC', 'maskFibrinogen', 'maskPlatelets', 'maskAge', 'maskGender', 'maskUnit1', 'maskUnit2', 'maskHospAdmTime', 'maskICULOS', 'maskhospital', 'maskGlucose', 'maskLactate', 'maskMagnesium', 'maskPotassium', 'maskBilirubin_total', 'maskHgb', 'maskPhosphate']\n"
          ]
        }
      ]
    },
    {
      "cell_type": "markdown",
      "source": [
        "## Convert train, val, and test scaled feature matrices and labels to torch tensors"
      ],
      "metadata": {
        "id": "zgceItJ0LVt0"
      }
    },
    {
      "cell_type": "code",
      "source": [
        "# Convert train, val, and test outputs and inputs to torch tensors\n",
        "train_data_scaled = torch.tensor(train_data_scaled, dtype=torch.float32)\n",
        "val_data_scaled = torch.tensor(val_data_scaled, dtype=torch.float32)\n",
        "test_data_scaled = torch.tensor(test_data_scaled, dtype=torch.float32)\n",
        "\n",
        "train_labels = torch.tensor(train_labels, dtype=torch.int64)\n",
        "val_labels = torch.tensor(val_labels, dtype=torch.int64)\n",
        "test_labels = torch.tensor(test_labels, dtype=torch.int64)"
      ],
      "metadata": {
        "id": "Md4MZKTdDg2C",
        "colab": {
          "base_uri": "https://localhost:8080/"
        },
        "outputId": "f275e0cc-033e-4943-f70e-ab004d0fdea4"
      },
      "execution_count": 131,
      "outputs": [
        {
          "output_type": "stream",
          "name": "stderr",
          "text": [
            "To copy construct from a tensor, it is recommended to use sourceTensor.clone().detach() or sourceTensor.clone().detach().requires_grad_(True), rather than torch.tensor(sourceTensor).\n",
            "To copy construct from a tensor, it is recommended to use sourceTensor.clone().detach() or sourceTensor.clone().detach().requires_grad_(True), rather than torch.tensor(sourceTensor).\n",
            "To copy construct from a tensor, it is recommended to use sourceTensor.clone().detach() or sourceTensor.clone().detach().requires_grad_(True), rather than torch.tensor(sourceTensor).\n"
          ]
        }
      ]
    },
    {
      "cell_type": "code",
      "source": [
        "# For neuralCDE (full) make coefficients\n",
        "# # train_coeffs_scaled = torchcde.hermite_cubic_coefficients_with_backward_differences(train_data_scaled)\n",
        "# # val_coeffs_scaled = torchcde.hermite_cubic_coefficients_with_backward_differences(val_data_scaled)\n",
        "# # test_coeffs_scaled = torchcde.hermite_cubic_coefficients_with_backward_differences(test_data_scaled)\n",
        "\n",
        "# # torch.save(train_coeffs_scaled,'train_hermitecoeffs_scaled_full.pt')\n",
        "# # torch.save(val_coeffs_scaled,'val_hermitecoeffs_scaled_full.pt')\n",
        "# # torch.save(test_coeffs_scaled,'test_hermitecoeffs_scaled_full.pt')"
      ],
      "metadata": {
        "id": "azM1aufRGx3T"
      },
      "execution_count": 132,
      "outputs": []
    },
    {
      "cell_type": "code",
      "source": [
        "train_coeffs_scaled.shape"
      ],
      "metadata": {
        "colab": {
          "base_uri": "https://localhost:8080/"
        },
        "id": "deXhob4hkmyZ",
        "outputId": "194c51e1-931f-4106-ef5a-a6f62fc3c498"
      },
      "execution_count": 133,
      "outputs": [
        {
          "output_type": "execute_result",
          "data": {
            "text/plain": [
              "torch.Size([5497, 335, 336])"
            ]
          },
          "metadata": {},
          "execution_count": 133
        }
      ]
    },
    {
      "cell_type": "code",
      "execution_count": 134,
      "metadata": {
        "id": "TCdEJSzBQuHx",
        "colab": {
          "base_uri": "https://localhost:8080/"
        },
        "outputId": "baf87165-5f6f-47fb-e630-801d716a3944"
      },
      "outputs": [
        {
          "output_type": "stream",
          "name": "stdout",
          "text": [
            "torch.Size([5497, 336])\n"
          ]
        }
      ],
      "source": [
        "print(train_labels.shape)"
      ]
    },
    {
      "cell_type": "code",
      "source": [
        "print(train_data_scaled.shape)"
      ],
      "metadata": {
        "id": "DrsyoxkqGnTG",
        "colab": {
          "base_uri": "https://localhost:8080/"
        },
        "outputId": "01b172af-3446-4e01-d443-2775ab23ecd0"
      },
      "execution_count": 135,
      "outputs": [
        {
          "output_type": "stream",
          "name": "stdout",
          "text": [
            "torch.Size([5497, 336, 84])\n"
          ]
        }
      ]
    },
    {
      "cell_type": "markdown",
      "source": [
        "# 2. SET Batch Size and create train, test, and val loader.\n",
        "\n",
        "The train_coeffloader, val_coeffloader, and test_coeffloader are used only for the NeuralCDE models (which require the hermite polynomial coefficient input)."
      ],
      "metadata": {
        "id": "n19era1fxcrA"
      }
    },
    {
      "cell_type": "code",
      "source": [
        "batch_size =64"
      ],
      "metadata": {
        "id": "6PCD2A06xeLE"
      },
      "execution_count": 136,
      "outputs": []
    },
    {
      "cell_type": "markdown",
      "source": [
        "## Dataloader conversion"
      ],
      "metadata": {
        "id": "vWNKTCndNnqn"
      }
    },
    {
      "cell_type": "code",
      "source": [
        "# Dataset\n",
        "train_ds = ListDataset(train_data_scaled, train_labels)\n",
        "val_ds = ListDataset(val_data_scaled, val_labels)\n",
        "test_ds = ListDataset(test_data_scaled, test_labels)\n",
        "\n",
        "# Dataloaders..\n",
        "train_loader = DataLoader(train_ds, batch_size=batch_size,shuffle=True, drop_last=True)\n",
        "val_loader = DataLoader(val_ds, batch_size=batch_size,shuffle=True, drop_last=True)\n",
        "test_loader = DataLoader(test_ds, batch_size=batch_size,shuffle=True, drop_last=True)"
      ],
      "metadata": {
        "id": "aU5k5_KsNotV"
      },
      "execution_count": 137,
      "outputs": []
    },
    {
      "cell_type": "code",
      "source": [
        "# Dataset\n",
        "train_coeffds = ListDataset(train_coeffs_scaled, train_labels)\n",
        "val_coeffds = ListDataset(val_coeffs_scaled, val_labels)\n",
        "test_coeffds = ListDataset(test_coeffs_scaled, test_labels)\n",
        "\n",
        "# Dataloaders..\n",
        "train_coeffloader = DataLoader(train_coeffds, batch_size=batch_size,shuffle=True, drop_last=True)\n",
        "val_coeffloader = DataLoader(val_coeffds, batch_size=batch_size,shuffle=True, drop_last=True)\n",
        "test_coeffloader = DataLoader(test_coeffds, batch_size=batch_size,shuffle=True, drop_last=True)"
      ],
      "metadata": {
        "id": "O4jWgkV-HYz1"
      },
      "execution_count": 138,
      "outputs": []
    },
    {
      "cell_type": "markdown",
      "source": [
        "# Network architectures"
      ],
      "metadata": {
        "id": "Wiq83ZBW0qo1"
      }
    },
    {
      "cell_type": "markdown",
      "source": [
        "## Continuous networks"
      ],
      "metadata": {
        "id": "NADIP9RL0tP7"
      }
    },
    {
      "cell_type": "markdown",
      "source": [
        "### Neural ODE"
      ],
      "metadata": {
        "id": "EWsZIJrW1Bbl"
      }
    },
    {
      "cell_type": "markdown",
      "source": [
        "#### Functions"
      ],
      "metadata": {
        "id": "TEke-g2M5PU3"
      }
    },
    {
      "cell_type": "code",
      "source": [
        "import torch\n",
        "import torch.nn as nn\n",
        "from torch.nn.modules.container import T\n",
        "from torchdiffeq import odeint\n",
        "import time"
      ],
      "metadata": {
        "id": "dQ7isgNy0sle"
      },
      "execution_count": 53,
      "outputs": []
    },
    {
      "cell_type": "markdown",
      "source": [
        "#### Network within ODE"
      ],
      "metadata": {
        "id": "-HVL2AQp5TI2"
      }
    },
    {
      "cell_type": "code",
      "source": [
        "class OneLayerLinear(nn.Module):\n",
        "  \"\"\"\n",
        "  Network architecture for simple 2 layer neural network inside ODENet.\n",
        "  \"\"\"\n",
        "  def __init__(self, input_dim, hidden_dim, activation_layer='tanh'):\n",
        "      super(OneLayerLinear, self).__init__()\n",
        "      self.input_dim = input_dim\n",
        "      self.hidden_dim = hidden_dim\n",
        "      self.activation_layer=activation_layer\n",
        "      self.fc1 = nn.Linear(input_dim, hidden_dim)\n",
        "      self.fc2 = nn.Linear(hidden_dim, input_dim)\n",
        "      if self.activation_layer=='ELU':\n",
        "        self.act = nn.ELU(inplace=True)\n",
        "      else:\n",
        "        self.act = nn.Tanh()\n",
        "\n",
        "  def forward(self,t,x):\n",
        "      self.nfe +=1\n",
        "      out = self.fc1(x)\n",
        "      out= self.act(out)\n",
        "      out = self.fc2(out)\n",
        "      return out"
      ],
      "metadata": {
        "id": "x7YcIOHs69EK"
      },
      "execution_count": 55,
      "outputs": []
    },
    {
      "cell_type": "code",
      "source": [
        "class TwoLayerLinear(nn.Module):\n",
        "  \"\"\"\n",
        "  Network architecture for simple 2 layer neural network inside ODENet.\n",
        "  \"\"\"\n",
        "  def __init__(self, input_dim, hidden_dim, hidden_dim2, activation_layer='tanh'):\n",
        "      super(TwoLayerLinear, self).__init__()\n",
        "      self.input_dim = input_dim\n",
        "      self.hidden_dim = hidden_dim\n",
        "      self.hidden_dim2 = hidden_dim2\n",
        "      self.activation_layer=activation_layer\n",
        "      self.fc1 = nn.Linear(input_dim, hidden_dim)\n",
        "      self.fc2 = nn.Linear(hidden_dim, hidden_dim2)\n",
        "      self.fc3 = nn.Linear(hidden_dim2,input_dim)\n",
        "      if self.activation_layer=='ELU':\n",
        "        self.act = nn.ELU(inplace=True)\n",
        "      else:\n",
        "        self.act = nn.Tanh()\n",
        "\n",
        "  def forward(self,t,x):\n",
        "      self.nfe +=1\n",
        "      out = self.fc1(x)\n",
        "      out= self.act(out)\n",
        "      out = self.fc2(out)\n",
        "      out = self.act(out)\n",
        "      out = self.fc3(out)\n",
        "      return out"
      ],
      "metadata": {
        "id": "U0405_7r5Bd6"
      },
      "execution_count": 56,
      "outputs": []
    },
    {
      "cell_type": "code",
      "source": [
        "class ODENet(nn.Module):\n",
        "    \"\"\"\n",
        "    Neural ODE. This code is taken from the MNIST_ODE example in torchdiff.\n",
        "    https://github.com/rtqichen/torchdiffeq/.\n",
        "\n",
        "    Uses ODE solver (dopri5 by default) to yield model output.\n",
        "    Backpropagation is done with the adjoint method as described in\n",
        "    https://arxiv.org/abs/1806.07366.\n",
        "\n",
        "    Parameters\n",
        "    ----------\n",
        "    odefunc : nn.Module\n",
        "        network architecture\n",
        "    rtol : float\n",
        "        relative tolerance of ODE solver\n",
        "    atol : float\n",
        "        absolute tolerance of ODE solver\n",
        "    \"\"\"\n",
        "    def __init__(self, odefunc, rtol=1e-3, atol=1e-3):\n",
        "        super(ODENet, self).__init__()\n",
        "        self.odefunc = odefunc\n",
        "        self.integration_time = torch.tensor([0, 1]).float()\n",
        "        self.rtol = rtol\n",
        "        self.atol = atol\n",
        "\n",
        "    def forward(self, x):\n",
        "        self.integration_time = self.integration_time.type_as(x)\n",
        "        out = odeint(self.odefunc, x, self.integration_time, rtol=self.rtol, atol=self.atol,method='euler')\n",
        "        return out[1]\n"
      ],
      "metadata": {
        "id": "7nxDK2je5IZK"
      },
      "execution_count": 57,
      "outputs": []
    },
    {
      "cell_type": "code",
      "source": [
        "class SimpleODENet(nn.Module):\n",
        "  \"\"\"Wrapper function for Neural ODE function\"\"\"\n",
        "    def __init__(self, input_dim, odenet,activation_layer='tanh'):\n",
        "        super(SimpleODENet, self).__init__()\n",
        "        self.input_dim = input_dim\n",
        "        self.odenet = odenet\n",
        "        self.activation_layer=activation_layer\n",
        "        if self.activation_layer=='ELU':\n",
        "          self.act = nn.ELU(inplace=True)\n",
        "        else:\n",
        "          self.act = nn.Tanh()\n",
        "        self.fc1 = nn.Linear(input_dim,2)\n",
        "\n",
        "\n",
        "    def forward(self,x):\n",
        "        output = self.odenet(x)\n",
        "        output = self.fc1(output)\n",
        "        output = self.act(output)\n",
        "        return output\n",
        "\n",
        "    def predict(self,x):\n",
        "      \"\"\"Function used to produce outputs for SHAP explainer.\n",
        "      For the neural ODE, all timesteps may be predicted at once.\n",
        "      Input: 2D numpy array that needs to be reshaped into 3D input matching\n",
        "      the input\n",
        "      Return: Predictions in the form of a numpy array\"\"\"\n",
        "      print('x shape inside predict', x.shape)\n",
        "      x_torch_reshape = torch.reshape(x, (-1,336,self.input_dim))\n",
        "      model.eval()\n",
        "      with torch.no_grad():\n",
        "        Y_pred = model(x_torch_reshape)\n",
        "      prob_function = torch.nn.Softmax(dim=1)\n",
        "      Y_pred_unrolled = torch.reshape(Y_pred, shape=(-1,2))\n",
        "      logits = prob_function(Y_pred_unrolled)\n",
        "      preds = torch.argmax(logits, axis=1)\n",
        "      return preds.cpu().numpy()"
      ],
      "metadata": {
        "id": "Jy7MuLXX5L0U"
      },
      "execution_count": 58,
      "outputs": []
    },
    {
      "cell_type": "markdown",
      "source": [
        "### CDE Net"
      ],
      "metadata": {
        "id": "hfm7otsnWixa"
      }
    },
    {
      "cell_type": "code",
      "source": [
        "import torch\n",
        "import math\n",
        "import torchcde\n",
        "\n",
        "class CDEFunc(torch.nn.Module):\n",
        "  \"\"\"Adapted from the time_classification_example.py in torchcde\n",
        "  https://github.com/patrick-kidger/torchcde\"\"\"\n",
        "    def __init__(self, input_channels, hidden_channels, hidden2):\n",
        "        ######################\n",
        "        # input_channels is the number of input channels in the data X. (Determined by the data.)\n",
        "        # hidden_channels is the number of channels for z_t. (Determined by you!)\n",
        "        ######################\n",
        "        super(CDEFunc, self).__init__()\n",
        "        self.input_channels = input_channels\n",
        "        self.hidden_channels = hidden_channels\n",
        "\n",
        "        self.linear1 = torch.nn.Linear(hidden_channels, hidden2)\n",
        "        self.linear2 = torch.nn.Linear(hidden2, input_channels * hidden_channels)\n",
        "\n",
        "    ######################\n",
        "    # For most purposes the t argument can probably be ignored; unless you want your CDE to behave differently at\n",
        "    # different times, which would be unusual. But it's there if you need it!\n",
        "    ######################\n",
        "    def forward(self, t, z):\n",
        "        # z has shape (batch, hidden_channels)\n",
        "        z = self.linear1(z)\n",
        "        z = z.tanh()\n",
        "        z = self.linear2(z)\n",
        "        ######################\n",
        "        # Easy-to-forget gotcha: Best results tend to be obtained by adding a final tanh nonlinearity.\n",
        "        ######################\n",
        "        z = z.tanh()\n",
        "        ######################\n",
        "        # Ignoring the batch dimension, the shape of the output tensor must be a matrix,\n",
        "        # because we need it to represent a linear map from R^input_channels to R^hidden_channels.\n",
        "        ######################\n",
        "        z = z.view(z.size(0), self.hidden_channels, self.input_channels)\n",
        "        return z"
      ],
      "metadata": {
        "id": "xmHDGTYTWm8d"
      },
      "execution_count": 59,
      "outputs": []
    },
    {
      "cell_type": "code",
      "source": [
        "######################\n",
        "# Next, we need to package CDEFunc up into a model that computes the integral.\n",
        "######################\n",
        "class NeuralCDE(torch.nn.Module):\n",
        "    \"\"\"Adapted from the time_classification_example.py in torchcde\n",
        "    https://github.com/patrick-kidger/torchcde\"\"\"\n",
        "    def __init__(self, input_channels, hidden_channels, output_channels, hidden2, interpolation=\"cubic\"):\n",
        "        super(NeuralCDE, self).__init__()\n",
        "\n",
        "        self.func = CDEFunc(input_channels, hidden_channels, hidden2)\n",
        "        self.initial = torch.nn.Linear(input_channels, hidden_channels)\n",
        "        self.readout = torch.nn.Linear(hidden_channels, output_channels)\n",
        "        self.interpolation = interpolation\n",
        "\n",
        "    def forward(self, coeffs):\n",
        "        coeffs = coeffs.to(device)\n",
        "        if self.interpolation == 'cubic':\n",
        "            X = torchcde.CubicSpline(coeffs)\n",
        "        elif self.interpolation == 'linear':\n",
        "            X = torchcde.LinearInterpolation(coeffs)\n",
        "        else:\n",
        "            raise ValueError(\"Only 'linear' and 'cubic' interpolation methods are implemented.\")\n",
        "\n",
        "        ######################\n",
        "        # Easy to forget gotcha: Initial hidden state should be a function of the first observation.\n",
        "        ######################\n",
        "\n",
        "        X0 = X.evaluate(X.interval[0])\n",
        "        z0 = self.initial(X0)\n",
        "        tinitial = X.interval[0]\n",
        "        tstop = X.interval[1]\n",
        "        tsteps = int(X.interval[1]-X.interval[0]+1)\n",
        "        time_int = torch.linspace(tinitial, tstop, steps=tsteps).to(device)\n",
        "        ######################\n",
        "        # Actually solve the CDE.\n",
        "        ######################\n",
        "        z_T = torchcde.cdeint(X=X,\n",
        "                              z0=z0,\n",
        "                              func=self.func,\n",
        "                              t=time_int,\n",
        "                              adjoint=False,\n",
        "                              method='euler',\n",
        "                              options=dict(step_size=1))\n",
        "        ######################\n",
        "        # All values are extracted from cdeint\n",
        "        # and then apply a linear map.\n",
        "        ######################\n",
        "        pred_y = self.readout(z_T\n",
        "        return pred_y\n",
        "\n",
        "    def predict(self, coeffs):\n",
        "        batch_coeffs = torch.tensor(coeffs, dtype=torch.float32).unsqueeze(1)\n",
        "        model.eval()\n",
        "        with torch.no_grad():\n",
        "          pred_y = model(batch_coeffs)[:,-1,:].squeeze(1)\n",
        "        prob_function = torch.nn.Softmax(dim=1)\n",
        "        Y_pred_unrolled = torch.reshape(pred_y, shape=(-1,2))\n",
        "        logits = prob_function(Y_pred_unrolled)\n",
        "        preds = torch.argmax(logits,axis=1)\n",
        "        return preds.detach().numpy() #.numpy()"
      ],
      "metadata": {
        "id": "60NDPkMwWrJp"
      },
      "execution_count": 60,
      "outputs": []
    },
    {
      "cell_type": "code",
      "source": [
        "for xs, ys in train_coeffloader:\n",
        "  xs=xs\n",
        "xs_example = xs[:,0:1,:]\n",
        "print(xs_example.shape)"
      ],
      "metadata": {
        "colab": {
          "base_uri": "https://localhost:8080/"
        },
        "id": "MNrqzYdkLI_q",
        "outputId": "6d232acb-14de-4f85-c722-c304ddc5fefd"
      },
      "execution_count": 61,
      "outputs": [
        {
          "output_type": "stream",
          "name": "stdout",
          "text": [
            "torch.Size([64, 1, 336])\n"
          ]
        }
      ]
    },
    {
      "cell_type": "markdown",
      "source": [
        "## Discrete time networks"
      ],
      "metadata": {
        "id": "a4mEhJMF0x99"
      }
    },
    {
      "cell_type": "markdown",
      "source": [
        "### Regular neural network to test training/upate functions"
      ],
      "metadata": {
        "id": "hGdfVAuy03hx"
      }
    },
    {
      "cell_type": "code",
      "source": [
        "class NeuralNetwork(nn.Module):\n",
        "    def __init__(self,hidden_dim):\n",
        "        super(NeuralNetwork, self).__init__()\n",
        "        self.fc1 = nn.Linear(num_features, hidden_dim)\n",
        "        self.fc2 = nn.Linear(hidden_dim, 2)\n",
        "\n",
        "    def forward(self, x):\n",
        "        x = torch.relu(self.fc1(x))\n",
        "        x = self.fc2(x)\n",
        "        return x\n",
        "\n",
        "    def predict(self, X_test):\n",
        "      # x is a numpy and return is numpy for SHAP explainer\n",
        "      x_torch = torch.tensor(X_test, dtype=torch.float32).to(device)\n",
        "      model.eval()\n",
        "      with torch.no_grad():\n",
        "        Y_pred = model(x_torch)# .squeeze(1)\n",
        "        val, indices = torch.max(Y_pred, 1)\n",
        "      indices_off_gpu = indices.detach()\n",
        "      return indices_off_gpu.cpu().numpy()"
      ],
      "metadata": {
        "id": "nJTtfRgF0zcg"
      },
      "execution_count": 62,
      "outputs": []
    },
    {
      "cell_type": "markdown",
      "source": [
        "### RNN"
      ],
      "metadata": {
        "id": "Cv4LwCHr05Re"
      }
    },
    {
      "cell_type": "code",
      "source": [
        "class RNNModel(nn.Module):\n",
        "    def __init__(self, input_dim, hidden_dim, layer_dim, output_dim, dropout_prob):\n",
        "        \"\"\"Inputs:\n",
        "            input_dim (int): The number of nodes in the input layer\n",
        "            hidden_dim (int): The number of nodes in each layer\n",
        "            layer_dim (int): The number of layers in the network\n",
        "            output_dim (int): The number of nodes in the output layer\n",
        "            dropout_prob (float): The probability of nodes being dropped out\n",
        "\n",
        "        \"\"\"\n",
        "        super(RNNModel, self).__init__()\n",
        "        # Defining the number of layers and the nodes in each layer\n",
        "        self.hidden_dim = hidden_dim\n",
        "        self.layer_dim = layer_dim\n",
        "        # RNN layers\n",
        "        self.rnn = nn.RNN(\n",
        "            input_dim, hidden_dim, layer_dim, nonlinearity='tanh',batch_first=True, dropout=dropout_prob\n",
        "        )\n",
        "        # Fully connected layer\n",
        "        self.fc = nn.Linear(hidden_dim, output_dim)\n",
        "\n",
        "    def forward(self, x):\n",
        "        \"\"\"The forward method takes input tensor x and does forward propagation\n",
        "\n",
        "        Args:\n",
        "            x (torch.Tensor): The input tensor of the shape (batch size, sequence length, input_dim)\n",
        "\n",
        "        Returns:\n",
        "            torch.Tensor: The output tensor of the shape (batch size, output_dim)\n",
        "\n",
        "        \"\"\"\n",
        "        # Initializing hidden state for first input with zeros\n",
        "        h0 = torch.zeros(self.layer_dim, x.size(0), self.hidden_dim,device=x.device).requires_grad_()\n",
        "        # Forward propagation by passing in the input and hidden state into the model\n",
        "        out, h0 = self.rnn(x, h0.detach()) #.detach()\n",
        "        # outputs in the shape of (batch_size, seq_length, hidden_size)\n",
        "        # Convert the final state to our desired output shape\n",
        "        #(batch_size, seq_length, output_dim)\n",
        "        out = self.fc(out)\n",
        "        return out\n",
        "\n",
        "    def predict(self, X_test):\n",
        "      # x is a numpy and return is numpy for SHAP explainer\n",
        "      x_torch = torch.tensor(X_test, dtype=torch.float32).to(device).unsqueeze(1)\n",
        "      model.eval()\n",
        "      with torch.no_grad():\n",
        "        Y_pred = model(x_torch).squeeze(1)\n",
        "        val, indices = torch.max(Y_pred,1)\n",
        "      indices_off_gpu = indices.detach()\n",
        "      return indices_off_gpu.cpu().numpy()"
      ],
      "metadata": {
        "id": "uuNs4Bbf06l0"
      },
      "execution_count": 63,
      "outputs": []
    },
    {
      "cell_type": "markdown",
      "source": [
        "### LSTM"
      ],
      "metadata": {
        "id": "OamOGk_T069t"
      }
    },
    {
      "cell_type": "code",
      "source": [
        "class LSTMModel(nn.Module):\n",
        "    def __init__(self, input_dim, hidden_dim, layer_dim, output_dim, dropout_prob):\n",
        "        \"\"\"Inputs:\n",
        "            input_dim (int): The number of nodes in the input layer\n",
        "            hidden_dim (int): The number of nodes in each layer\n",
        "            layer_dim (int): The number of layers in the network\n",
        "            output_dim (int): The number of nodes in the output layer\n",
        "            dropout_prob (float): The probability of nodes being dropped out\n",
        "\n",
        "        \"\"\"\n",
        "        super(LSTMModel, self).__init__()\n",
        "        self.layer_dim = layer_dim\n",
        "        self.hidden_dim = hidden_dim\n",
        "        # Defining the number of layers and the nodes in each layer\n",
        "        # LSTM layers\n",
        "        self.lstm = torch.nn.LSTM(\n",
        "            input_size=input_dim, hidden_size=hidden_dim, num_layers=layer_dim, batch_first=True, dropout=dropout_prob\n",
        "        )\n",
        "\n",
        "        # Fully connected layer\n",
        "        self.fc = torch.nn.Linear(hidden_dim, output_dim)\n",
        "\n",
        "    def forward(self, x):\n",
        "        \"\"\"The forward method takes input tensor x and does forward propagation\n",
        "\n",
        "        Args:\n",
        "            x (torch.Tensor): The input tensor of the shape (batch size, sequence length, input_dim)\n",
        "\n",
        "        Returns:\n",
        "            torch.Tensor: The output tensor of the shape (batch size, output_dim)\n",
        "\n",
        "        \"\"\"\n",
        "        # Initializing hidden state for first input with zeros\n",
        "        h0 = torch.zeros(self.layer_dim, x.size(0), self.hidden_dim,device=x.device).requires_grad_()\n",
        "\n",
        "        # Initializing cell state for first input with zeros\n",
        "        c0 = torch.zeros(self.layer_dim, x.size(0), self.hidden_dim,device=x.device).requires_grad_()\n",
        "\n",
        "        out, (hn, cn) = self.lstm(x, (h0.detach(), c0.detach()))\n",
        "        # Outputs in the shape of (batch_size, seq_length, hidden_size)\n",
        "        # Convert the final state to our desired output shape (batch_size, seqlen, output_dim)\n",
        "        out = self.fc(out)\n",
        "\n",
        "        return out\n",
        "\n",
        "    def predict(self, X_test):\n",
        "      # x is a numpy and return is numpy for SHAP explainer\n",
        "      x_torch = torch.tensor(X_test, dtype=torch.float32).to(device).unsqueeze(1)\n",
        "      model.eval()\n",
        "      with torch.no_grad():\n",
        "        Y_pred = model(x_torch).squeeze(1)\n",
        "        val, indices = torch.max(Y_pred,1)\n",
        "      indices_off_gpu = indices.detach()\n",
        "      return indices_off_gpu.cpu().numpy()"
      ],
      "metadata": {
        "id": "cF2v6T-Z0_jO"
      },
      "execution_count": 64,
      "outputs": []
    },
    {
      "cell_type": "markdown",
      "source": [
        "# 3. Set hyperparameters and define models for training\n",
        "\n",
        "Run the following block defining the learning rate, num_epochs, and criterion.\n",
        "\n",
        "Then run one of the sub-code blocks corresponding to model of interest (RNN, LSTM, NeuralODE, or CDE models)."
      ],
      "metadata": {
        "id": "jAb0Xl701rXS"
      }
    },
    {
      "cell_type": "code",
      "source": [
        "learning_rate = 1e-3\n",
        "num_epochs= 50\n",
        "criterion = nn.CrossEntropyLoss()"
      ],
      "metadata": {
        "id": "FwECoqmYQvur"
      },
      "execution_count": 66,
      "outputs": []
    },
    {
      "cell_type": "markdown",
      "source": [
        "#### RNN model\n",
        "\n",
        "Set dropout probability = 0 for 1 layer RNN model or 0.5 for 2 layer RNNs."
      ],
      "metadata": {
        "id": "AKHbsyGa9k3N"
      }
    },
    {
      "cell_type": "code",
      "source": [
        "model = RNNModel(input_dim=43, hidden_dim=16, layer_dim=1, output_dim=2,dropout_prob=0.01)\n",
        "optimizer = torch.optim.Adam(model.parameters(), lr=learning_rate)"
      ],
      "metadata": {
        "id": "6E3Wdetc8VXG",
        "colab": {
          "base_uri": "https://localhost:8080/"
        },
        "outputId": "467d8f9d-09fb-4d4c-ffc2-be4117a9fb63"
      },
      "execution_count": null,
      "outputs": [
        {
          "output_type": "stream",
          "name": "stderr",
          "text": [
            "/usr/local/lib/python3.10/dist-packages/torch/nn/modules/rnn.py:82: UserWarning: dropout option adds dropout after all but last recurrent layer, so non-zero dropout expects num_layers greater than 1, but got dropout=0.01 and num_layers=1\n",
            "  warnings.warn(\"dropout option adds dropout after all but last \"\n"
          ]
        }
      ]
    },
    {
      "cell_type": "markdown",
      "source": [
        "#### LSTM Model\n",
        "\n",
        "Set dropout probability = 0 for 1 layer LSTM models or 0.5 for 2 layers."
      ],
      "metadata": {
        "id": "t_VHGHlNWqIz"
      }
    },
    {
      "cell_type": "code",
      "source": [
        "model = LSTMModel(input_dim=43, hidden_dim=16, layer_dim=1, output_dim=2,dropout_prob=0.01)\n",
        "optimizer = torch.optim.Adam(model.parameters(), lr=learning_rate) #,betas=(0.9,0.1)"
      ],
      "metadata": {
        "id": "hdtSfA1iWrpY"
      },
      "execution_count": null,
      "outputs": []
    },
    {
      "cell_type": "markdown",
      "source": [
        "#### Neural ODE\n",
        "\n",
        "Run the ODENet with either a TwoLayerLinear or a OneLayerLinear network approximating the derivative dX/dt."
      ],
      "metadata": {
        "id": "_mC-IzVv9nrI"
      }
    },
    {
      "cell_type": "code",
      "source": [
        "model = SimpleODENet(43, ODENet(TwoLayerLinear(43,16,16,'tanh'), rtol=1e-3, atol=1e-3),activation_layer='tanh')\n",
        "optimizer = optim.Adam(model.parameters(),lr=learning_rate)"
      ],
      "metadata": {
        "id": "w7FZtwo29ow0",
        "colab": {
          "base_uri": "https://localhost:8080/",
          "height": 245
        },
        "outputId": "b329cf9e-cdc3-416c-a390-55ae37638cbf"
      },
      "execution_count": null,
      "outputs": [
        {
          "output_type": "error",
          "ename": "NameError",
          "evalue": "ignored",
          "traceback": [
            "\u001b[0;31m---------------------------------------------------------------------------\u001b[0m",
            "\u001b[0;31mNameError\u001b[0m                                 Traceback (most recent call last)",
            "\u001b[0;32m<ipython-input-54-a4782ea69bbb>\u001b[0m in \u001b[0;36m<cell line: 1>\u001b[0;34m()\u001b[0m\n\u001b[0;32m----> 1\u001b[0;31m \u001b[0mmodel\u001b[0m \u001b[0;34m=\u001b[0m \u001b[0mSimpleODENet\u001b[0m\u001b[0;34m(\u001b[0m\u001b[0;36m43\u001b[0m\u001b[0;34m,\u001b[0m \u001b[0mODENet\u001b[0m\u001b[0;34m(\u001b[0m\u001b[0mTwoLayerLinear\u001b[0m\u001b[0;34m(\u001b[0m\u001b[0;36m43\u001b[0m\u001b[0;34m,\u001b[0m\u001b[0;36m16\u001b[0m\u001b[0;34m,\u001b[0m\u001b[0;36m16\u001b[0m\u001b[0;34m,\u001b[0m\u001b[0;34m'tanh'\u001b[0m\u001b[0;34m)\u001b[0m\u001b[0;34m,\u001b[0m \u001b[0mrtol\u001b[0m\u001b[0;34m=\u001b[0m\u001b[0;36m1e-3\u001b[0m\u001b[0;34m,\u001b[0m \u001b[0matol\u001b[0m\u001b[0;34m=\u001b[0m\u001b[0;36m1e-3\u001b[0m\u001b[0;34m)\u001b[0m\u001b[0;34m,\u001b[0m\u001b[0mactivation_layer\u001b[0m\u001b[0;34m=\u001b[0m\u001b[0;34m'tanh'\u001b[0m\u001b[0;34m)\u001b[0m\u001b[0;34m\u001b[0m\u001b[0;34m\u001b[0m\u001b[0m\n\u001b[0m\u001b[1;32m      2\u001b[0m \u001b[0moptimizer\u001b[0m \u001b[0;34m=\u001b[0m \u001b[0moptim\u001b[0m\u001b[0;34m.\u001b[0m\u001b[0mAdam\u001b[0m\u001b[0;34m(\u001b[0m\u001b[0mmodel\u001b[0m\u001b[0;34m.\u001b[0m\u001b[0mparameters\u001b[0m\u001b[0;34m(\u001b[0m\u001b[0;34m)\u001b[0m\u001b[0;34m,\u001b[0m\u001b[0mlr\u001b[0m\u001b[0;34m=\u001b[0m\u001b[0mlearning_rate\u001b[0m\u001b[0;34m)\u001b[0m\u001b[0;34m\u001b[0m\u001b[0;34m\u001b[0m\u001b[0m\n",
            "\u001b[0;31mNameError\u001b[0m: name 'SimpleODENet' is not defined"
          ]
        }
      ]
    },
    {
      "cell_type": "markdown",
      "source": [
        "#### CDE Net\n",
        "\n",
        "For training on the imputed data, set input_channels=43 (number of features).\n",
        "\n",
        "For training on the missing dataset, set input_channels = 84 (number of features + masks for features containing missing values)."
      ],
      "metadata": {
        "id": "YE5lsRTKWYKo"
      }
    },
    {
      "cell_type": "code",
      "source": [
        "model = NeuralCDE(input_channels=84, hidden_channels=8, output_channels=2, hidden2=4)\n",
        "optimizer = torch.optim.Adam(model.parameters(),lr=learning_rate)"
      ],
      "metadata": {
        "id": "TcQg9e1NWZ9o"
      },
      "execution_count": 67,
      "outputs": []
    },
    {
      "cell_type": "markdown",
      "source": [
        "# Training functions (same for all models)"
      ],
      "metadata": {
        "id": "xI0LzyK-1Ih2"
      }
    },
    {
      "cell_type": "code",
      "source": [
        "def update(model, loss_fn, optimizer, x,y):\n",
        "  model.train()\n",
        "  optimizer.zero_grad()\n",
        "  outputs = model(x.float()).to(device)\n",
        "  num_samples, num_ts,num_classes = outputs.shape\n",
        "  outputs_reshaped = torch.reshape(outputs, shape=(-1, num_classes))\n",
        "  ytrue_reshaped = torch.reshape(y, shape=(-1,))\n",
        "  #Compute loss\n",
        "  loss = loss_fn(outputs_reshaped, ytrue_reshaped)\n",
        "  loss.backward(retain_graph=True)\n",
        "  optimizer.step()\n",
        "  return loss.item()"
      ],
      "metadata": {
        "id": "bofGovIq-G7I"
      },
      "execution_count": 69,
      "outputs": []
    },
    {
      "cell_type": "code",
      "source": [
        "def train(model, criterion, optimizer, train_loader, val_loader, batch_size, num_epochs):\n",
        "  train_losses,val_losses = [],[]\n",
        "  train_acc, val_acc = [],[]\n",
        "  model.train()\n",
        "\n",
        "  for epoch in range(num_epochs):\n",
        "      print(f'Training epoch number {epoch}')\n",
        "      batch_losses,batch_train_acc = [],[]\n",
        "      for x_batch, y_batch in train_loader:\n",
        "        x_batch = x_batch.to(device)\n",
        "        y_batch = y_batch.to(device)\n",
        "\n",
        "        # Apply model to dataset\n",
        "        yhat_train = model(x_batch)\n",
        "        prob_function = torch.nn.Softmax(dim=1)\n",
        "        prob = prob_function(yhat_train.squeeze(1))\n",
        "        num_samples, num_ts, num_classes = yhat_train.shape\n",
        "        yhat_train_unrolled = torch.reshape(yhat_train, shape=(-1, num_classes))\n",
        "        _ , indices = torch.max(yhat_train_unrolled, 1)\n",
        "\n",
        "        ytrue_unrolled = torch.reshape(y_batch, shape=(-1,))\n",
        "        acc = float(torch.sum(indices==ytrue_unrolled)/len(ytrue_unrolled))\n",
        "        batch_train_acc.append(acc)\n",
        "\n",
        "        #Calculate loss\n",
        "        loss = update(model.to(device), criterion, optimizer, x_batch, y_batch)\n",
        "        batch_losses.append(loss)\n",
        "\n",
        "      training_loss = np.mean(batch_losses)\n",
        "      train_losses.append(training_loss)\n",
        "      training_accuracy = np.mean(batch_train_acc)\n",
        "      train_acc.append(training_accuracy)\n",
        "\n",
        "      with torch.no_grad():\n",
        "        batch_val_losses, batch_val_acc = [],[]\n",
        "        for x_val, y_val in val_loader:\n",
        "          x_val = x_val.to(device)\n",
        "          y_val = y_val.to(device)\n",
        "          model.eval()\n",
        "          yhat = model(x_val.float())\n",
        "          num_samples, num_ts, num_classes = yhat.shape\n",
        "          yhat_unrolled = torch.reshape(yhat, shape=(-1, num_classes))\n",
        "          yval_unrolled = torch.reshape(y_val, shape=(-1,))\n",
        "\n",
        "          # Get val accuracy\n",
        "          prob_function = torch.nn.Softmax(dim=1)\n",
        "          prob = prob_function(yhat.squeeze(1))\n",
        "          num_samples, num_ts, num_classes = yhat.shape\n",
        "          yhat_val_unrolled = torch.reshape(yhat, shape=(-1, num_classes))\n",
        "          val, indices = torch.max(yhat_val_unrolled, 1)\n",
        "\n",
        "          vacc = float(torch.sum(indices==yval_unrolled)/len(yval_unrolled))\n",
        "          batch_val_acc.append(vacc)\n",
        "\n",
        "          #Compute loss\n",
        "          val_loss = criterion(yhat_unrolled, yval_unrolled).item()\n",
        "          batch_val_losses.append(val_loss)\n",
        "\n",
        "        validation_loss = np.mean(batch_val_losses)\n",
        "        val_losses.append(validation_loss)\n",
        "\n",
        "        validation_accuracy = np.mean(batch_val_acc)\n",
        "        val_acc.append(validation_accuracy)\n",
        "\n",
        "\n",
        "      if (epoch + 1) % 5 == 0:\n",
        "          print(f'Epoch [{epoch + 1}/{num_epochs}], Train Loss: {training_loss:.4f}\\t Validation loss: {validation_loss:.4f}')\n",
        "          print(f'Epoch [{epoch + 1}/{num_epochs}], Train accuracy: {training_accuracy:.4f}\\t Validation accuracy: {validation_accuracy:.4f}')\n",
        "  return train_losses, val_losses, train_acc, val_acc"
      ],
      "metadata": {
        "id": "QnmG1SXU9_fs"
      },
      "execution_count": 70,
      "outputs": []
    },
    {
      "cell_type": "markdown",
      "source": [
        "## For neuralCDE"
      ],
      "metadata": {
        "id": "kau0bVDPVyoh"
      }
    },
    {
      "cell_type": "code",
      "source": [
        "def update_neuralCDE(model, loss_fn, optimizer, xb, yb):\n",
        "    \"\"\"\n",
        "    Calculate loss and update weights if training.\n",
        "    \"\"\"\n",
        "    optimizer.zero_grad()\n",
        "    outputs = model(xb.float())\n",
        "    outputs_unrolled  = torch.reshape(outputs, shape=(-1,2))\n",
        "    yb_unrolled = torch.reshape(yb, (-1,)).long()\n",
        "    loss = loss_fn(outputs_unrolled, yb_unrolled)\n",
        "    loss.backward(retain_graph=True)\n",
        "    optimizer.step()\n",
        "    return loss.item(), len(xb)"
      ],
      "metadata": {
        "id": "5IVbPvHN9im9"
      },
      "execution_count": 71,
      "outputs": []
    },
    {
      "cell_type": "code",
      "source": [
        "def train_neuralCDE(model, loss_fn, optimizer, train_loader, val_loader, batch_size, num_epochs):\n",
        "  train_losses, val_losses, train_acc, val_acc = [],[],[],[]\n",
        "  for epoch in range(num_epochs):\n",
        "    print(f\"Training... epoch {epoch + 1}\")\n",
        "    batch_losses, batch_train_acc = [],[]\n",
        "    model.train() #Set model to training mode\n",
        "    batch_count=0\n",
        "    for xb,yb in train_loader:\n",
        "      coeffs=xb.to(device)\n",
        "      coeffs = torchcde.hermite_cubic_coefficients_with_backward_differences(coeffs).to(device)\n",
        "      # Calculate accuracy\n",
        "      yb_unrolled = torch.reshape(yb, (-1,))\n",
        "      model_output = model(coeffs.float())\n",
        "      model_output_unrolled  = torch.reshape(model_output, shape=(-1,2))\n",
        "      prob_function = torch.nn.Softmax(dim=1)\n",
        "      logits = prob_function(model_output_unrolled)\n",
        "      preds = torch.argmax(logits, axis=1)\n",
        "\n",
        "      acc = float(torch.sum(preds == yb_unrolled)/len(yb_unrolled))\n",
        "      batch_train_acc.append(acc)\n",
        "\n",
        "      # Calculate loss\n",
        "      loss, len_xb = update_neuralCDE(model.to(device), loss_fn, optimizer, coeffs, yb.to(device))\n",
        "      batch_losses.append(loss)\n",
        "\n",
        "    training_loss = np.mean(batch_losses)\n",
        "    train_losses.append(training_loss)\n",
        "    training_accuracy = np.mean(batch_train_acc)\n",
        "    train_acc.append(training_accuracy)\n",
        "\n",
        "    batch_val_losses, batch_val_acc = [],[]\n",
        "    for xv, yv in val_loader:\n",
        "      model.eval()\n",
        "      yv_unrolled = torch.reshape(yv, (-1,))\n",
        "      v_coeffs = torchcde.hermite_cubic_coefficients_with_backward_differences(xv).to(device)\n",
        "      model_output = model(v_coeffs.float())\n",
        "      model_output_unrolled  = torch.reshape(model_output, shape=(-1,2))\n",
        "      prob_function = torch.nn.Softmax(dim=1)\n",
        "      logits = prob_function(model_output_unrolled)\n",
        "      preds = torch.argmax(logits, axis=1)\n",
        "\n",
        "      # Get val accuracy\n",
        "      v_acc = float(torch.sum(preds == yv_unrolled)/len(yv_unrolled))\n",
        "      batch_val_acc.append(v_acc)\n",
        "\n",
        "      # Compute loss\n",
        "      yv_unrolled = torch.reshape(yv, (-1,)).long()\n",
        "      val_loss = loss_fn(model_output_unrolled, yv_unrolled).item()\n",
        "      batch_val_losses.append(val_loss)\n",
        "\n",
        "    validation_loss = np.mean(batch_val_losses)\n",
        "    val_losses.append(validation_loss)\n",
        "    validation_accuracy = np.mean(batch_val_acc)\n",
        "    val_acc.append(validation_accuracy)\n",
        "\n",
        "    if (epoch+1) % 1 ==0:\n",
        "      print(f'Epoch [{epoch + 1}/{num_epochs}], Train Loss: {training_loss:.4f}\\t Validation loss: {validation_loss:.4f}')\n",
        "      print(f'Epoch [{epoch + 1}/{num_epochs}], Train accuracy: {training_accuracy:.4f}\\t Validation accuracy: {validation_accuracy:.4f}')\n",
        "  return train_losses, val_losses, train_acc, val_acc"
      ],
      "metadata": {
        "id": "zjLibK7vV66A"
      },
      "execution_count": 72,
      "outputs": []
    },
    {
      "cell_type": "markdown",
      "source": [],
      "metadata": {
        "id": "xfKfEXq9Vw2y"
      }
    },
    {
      "cell_type": "markdown",
      "source": [
        "## For discrete time neural networks"
      ],
      "metadata": {
        "id": "ipCbxbY31L4g"
      }
    },
    {
      "cell_type": "markdown",
      "source": [
        "# 4. Train model.\n",
        "\n",
        "Run the appropriate sub-block of code below corresponding the RNN/LSTM/NeuralODE (which are all trained using the train_loader and val_loader) or the NeuralCDE model (which is trained with the train_coeffloader and val_coeffloader, which contain the hermite polynomial coefficients for the training and validation scaled data).\n",
        "\n",
        "Note that the training models are identical for all models so the only difference between these two code blocks in the change in type of train_loader or val_loader."
      ],
      "metadata": {
        "id": "wbTw3MKz1vx3"
      }
    },
    {
      "cell_type": "markdown",
      "source": [
        "#### RNN/LSTM/Neural ODE model"
      ],
      "metadata": {
        "id": "2yvaxKusGNAN"
      }
    },
    {
      "cell_type": "code",
      "source": [
        "train_losses, val_losses, train_acc, val_acc = train(model.to(device),\n",
        "                                                     criterion,\n",
        "                                                     optimizer,\n",
        "                                                     train_loader,\n",
        "                                                     val_loader,\n",
        "                                                     batch_size,\n",
        "                                                     num_epochs)"
      ],
      "metadata": {
        "id": "gT1IC8X29xKH",
        "colab": {
          "base_uri": "https://localhost:8080/"
        },
        "outputId": "f3122cd5-cad5-4dc2-d961-a4093e406a67"
      },
      "execution_count": null,
      "outputs": [
        {
          "output_type": "stream",
          "name": "stdout",
          "text": [
            "Training epoch number 0\n",
            "Training epoch number 1\n",
            "Training epoch number 2\n",
            "Training epoch number 3\n",
            "Training epoch number 4\n",
            "Epoch [5/50], Train Loss: 0.5052\t Validation loss: 0.5279\n",
            "Epoch [5/50], Train accuracy: 0.7579\t Validation accuracy: 0.7338\n",
            "Training epoch number 5\n",
            "Training epoch number 6\n",
            "Training epoch number 7\n",
            "Training epoch number 8\n",
            "Training epoch number 9\n",
            "Epoch [10/50], Train Loss: 0.4961\t Validation loss: 0.5277\n",
            "Epoch [10/50], Train accuracy: 0.7609\t Validation accuracy: 0.7399\n",
            "Training epoch number 10\n",
            "Training epoch number 11\n",
            "Training epoch number 12\n",
            "Training epoch number 13\n",
            "Training epoch number 14\n",
            "Epoch [15/50], Train Loss: 0.4990\t Validation loss: 0.5107\n",
            "Epoch [15/50], Train accuracy: 0.7617\t Validation accuracy: 0.7423\n",
            "Training epoch number 15\n",
            "Training epoch number 16\n",
            "Training epoch number 17\n",
            "Training epoch number 18\n",
            "Training epoch number 19\n",
            "Epoch [20/50], Train Loss: 0.4961\t Validation loss: 0.5168\n",
            "Epoch [20/50], Train accuracy: 0.7553\t Validation accuracy: 0.7426\n",
            "Training epoch number 20\n",
            "Training epoch number 21\n",
            "Training epoch number 22\n",
            "Training epoch number 23\n",
            "Training epoch number 24\n",
            "Epoch [25/50], Train Loss: 0.4870\t Validation loss: 0.4967\n",
            "Epoch [25/50], Train accuracy: 0.7611\t Validation accuracy: 0.7542\n",
            "Training epoch number 25\n",
            "Training epoch number 26\n",
            "Training epoch number 27\n",
            "Training epoch number 28\n",
            "Training epoch number 29\n",
            "Epoch [30/50], Train Loss: 0.4253\t Validation loss: 0.4620\n",
            "Epoch [30/50], Train accuracy: 0.8152\t Validation accuracy: 0.7717\n",
            "Training epoch number 30\n",
            "Training epoch number 31\n",
            "Training epoch number 32\n",
            "Training epoch number 33\n",
            "Training epoch number 34\n",
            "Epoch [35/50], Train Loss: 0.3932\t Validation loss: 0.3956\n",
            "Epoch [35/50], Train accuracy: 0.8394\t Validation accuracy: 0.8377\n",
            "Training epoch number 35\n",
            "Training epoch number 36\n",
            "Training epoch number 37\n",
            "Training epoch number 38\n",
            "Training epoch number 39\n",
            "Epoch [40/50], Train Loss: 0.3933\t Validation loss: 0.3978\n",
            "Epoch [40/50], Train accuracy: 0.8425\t Validation accuracy: 0.8311\n",
            "Training epoch number 40\n",
            "Training epoch number 41\n",
            "Training epoch number 42\n",
            "Training epoch number 43\n",
            "Training epoch number 44\n",
            "Epoch [45/50], Train Loss: 0.3803\t Validation loss: 0.3886\n",
            "Epoch [45/50], Train accuracy: 0.8478\t Validation accuracy: 0.8394\n",
            "Training epoch number 45\n",
            "Training epoch number 46\n",
            "Training epoch number 47\n",
            "Training epoch number 48\n",
            "Training epoch number 49\n",
            "Epoch [50/50], Train Loss: 0.3743\t Validation loss: 0.3916\n",
            "Epoch [50/50], Train accuracy: 0.8514\t Validation accuracy: 0.8412\n"
          ]
        }
      ]
    },
    {
      "cell_type": "markdown",
      "source": [
        "#### CDENet"
      ],
      "metadata": {
        "id": "fABOYPSNWRGg"
      }
    },
    {
      "cell_type": "code",
      "source": [
        "train_losses, val_losses, train_acc, val_acc = train(model.to(device),\n",
        "                                                     criterion,\n",
        "                                                     optimizer,\n",
        "                                                     train_coeffloader,\n",
        "                                                     val_coeffloader,\n",
        "                                                     batch_size,\n",
        "                                                     num_epochs)"
      ],
      "metadata": {
        "colab": {
          "base_uri": "https://localhost:8080/"
        },
        "id": "bG9BMQFQNZ_L",
        "outputId": "6369049b-bd1a-4c62-d060-2566257e0af7"
      },
      "execution_count": 73,
      "outputs": [
        {
          "output_type": "stream",
          "name": "stdout",
          "text": [
            "Training epoch number 0\n",
            "Training epoch number 1\n",
            "Training epoch number 2\n",
            "Training epoch number 3\n",
            "Training epoch number 4\n",
            "Epoch [5/30], Train Loss: 0.4907\t Validation loss: 0.5017\n",
            "Epoch [5/30], Train accuracy: 0.7691\t Validation accuracy: 0.7560\n",
            "Training epoch number 5\n",
            "Training epoch number 6\n",
            "Training epoch number 7\n",
            "Training epoch number 8\n",
            "Training epoch number 9\n",
            "Epoch [10/30], Train Loss: 0.4026\t Validation loss: 0.4157\n",
            "Epoch [10/30], Train accuracy: 0.8218\t Validation accuracy: 0.8068\n",
            "Training epoch number 10\n",
            "Training epoch number 11\n",
            "Training epoch number 12\n",
            "Training epoch number 13\n",
            "Training epoch number 14\n",
            "Epoch [15/30], Train Loss: 0.3741\t Validation loss: 0.3967\n",
            "Epoch [15/30], Train accuracy: 0.8383\t Validation accuracy: 0.8243\n",
            "Training epoch number 15\n",
            "Training epoch number 16\n",
            "Training epoch number 17\n",
            "Training epoch number 18\n",
            "Training epoch number 19\n",
            "Epoch [20/30], Train Loss: 0.3544\t Validation loss: 0.3905\n",
            "Epoch [20/30], Train accuracy: 0.8500\t Validation accuracy: 0.8330\n",
            "Training epoch number 20\n",
            "Training epoch number 21\n",
            "Training epoch number 22\n",
            "Training epoch number 23\n",
            "Training epoch number 24\n",
            "Epoch [25/30], Train Loss: 0.3435\t Validation loss: 0.3767\n",
            "Epoch [25/30], Train accuracy: 0.8569\t Validation accuracy: 0.8380\n",
            "Training epoch number 25\n",
            "Training epoch number 26\n",
            "Training epoch number 27\n",
            "Training epoch number 28\n",
            "Training epoch number 29\n",
            "Epoch [30/30], Train Loss: 0.3313\t Validation loss: 0.3723\n",
            "Epoch [30/30], Train accuracy: 0.8655\t Validation accuracy: 0.8412\n"
          ]
        }
      ]
    },
    {
      "cell_type": "markdown",
      "source": [
        "# Visualize training/validation loss and accuracy curves"
      ],
      "metadata": {
        "id": "fY0_TYFeAdpo"
      }
    },
    {
      "cell_type": "code",
      "source": [
        "print(\"Model:\",model)\n",
        "\n",
        "print(\"lr:\", learning_rate, \"batch size\", batch_size)\n",
        "print('Final train loss:', train_losses[-1:])\n",
        "print('Final val loss:', val_losses[-1:])\n",
        "\n",
        "print('Final train acc:', train_acc[-1:])\n",
        "print('Final val acc:', val_acc[-1:])\n"
      ],
      "metadata": {
        "colab": {
          "base_uri": "https://localhost:8080/"
        },
        "id": "MKpk58In8lfD",
        "outputId": "f557344a-5721-41d7-9fba-4509b75257fe"
      },
      "execution_count": null,
      "outputs": [
        {
          "output_type": "stream",
          "name": "stdout",
          "text": [
            "model NeuralCDE(\n",
            "  (func): CDEFunc(\n",
            "    (linear1): Linear(in_features=4, out_features=2, bias=True)\n",
            "    (linear2): Linear(in_features=2, out_features=172, bias=True)\n",
            "  )\n",
            "  (initial): Linear(in_features=43, out_features=4, bias=True)\n",
            "  (readout): Linear(in_features=4, out_features=2, bias=True)\n",
            ")\n",
            "lr; 0.01 batch size 64\n",
            "final train loss [0.4470824732499964]\n",
            "final val loss [0.5246718153357506]\n",
            "final train acc [0.7934015000567717]\n",
            "final val acc [0.7564958892762661]\n",
            "final train prec [0.7934015000567717]\n",
            "final val acc [0.7564958892762661]\n"
          ]
        }
      ]
    },
    {
      "cell_type": "markdown",
      "source": [
        "Plot the training and validation loss curves"
      ],
      "metadata": {
        "id": "BoccqO56UWq7"
      }
    },
    {
      "cell_type": "code",
      "source": [
        "plt.plot(train_losses,'-.',label='Training loss')\n",
        "plt.plot(val_losses,'-.',label='Validation loss')\n",
        "plt.xlabel('Epochs')\n",
        "plt.ylabel('Loss')\n",
        "plt.legend()\n",
        "plt.title('')"
      ],
      "metadata": {
        "colab": {
          "base_uri": "https://localhost:8080/",
          "height": 466
        },
        "id": "VNWC2Ur48h7l",
        "outputId": "9455d9da-6e49-40a6-e1a6-4214880c4d5e"
      },
      "execution_count": null,
      "outputs": [
        {
          "output_type": "execute_result",
          "data": {
            "text/plain": [
              "Text(0.5, 1.0, '')"
            ]
          },
          "metadata": {},
          "execution_count": 75
        },
        {
          "output_type": "display_data",
          "data": {
            "text/plain": [
              "<Figure size 640x480 with 1 Axes>"
            ],
            "image/png": "[encoded data removed]"
          },
          "metadata": {}
        }
      ]
    },
    {
      "cell_type": "markdown",
      "source": [
        "Plot the training validation accuracy curves during training"
      ],
      "metadata": {
        "id": "_bmAFjUCUZXh"
      }
    },
    {
      "cell_type": "code",
      "source": [
        "plt.plot(train_acc,'-.',label='Train accuracy',color='darkgoldenrod')\n",
        "plt.plot(val_acc,'-',label='Val accuracy',color='orange')\n",
        "plt.xlabel('Epochs')\n",
        "plt.ylabel('Accuracy')\n",
        "plt.legend(loc='best',fontsize=11)\n"
      ],
      "metadata": {
        "colab": {
          "base_uri": "https://localhost:8080/",
          "height": 467
        },
        "id": "nTdqdXKS8iaT",
        "outputId": "feb42f62-691e-4ade-b8ef-42206cf5c995"
      },
      "execution_count": null,
      "outputs": [
        {
          "output_type": "execute_result",
          "data": {
            "text/plain": [
              "<matplotlib.legend.Legend at 0x7a35aca51d20>"
            ]
          },
          "metadata": {},
          "execution_count": 64
        },
        {
          "output_type": "display_data",
          "data": {
            "text/plain": [
              "<Figure size 640x480 with 1 Axes>"
            ],
            "image/png": "[encoded data removed]"
          },
          "metadata": {}
        }
      ]
    },
    {
      "cell_type": "markdown",
      "source": [
        "## Save training/ validation accuracy/loss (for plotting later)\n",
        "\n",
        "Uncomment out these cells and change the name of the files to save the accuracy and loss curves"
      ],
      "metadata": {
        "id": "pOIpMCyy1zRS"
      }
    },
    {
      "cell_type": "code",
      "source": [
        "# torch.save(train_acc,'results/trainacc_filledCDE42_lr12_GPUex1.pt')\n",
        "# torch.save(val_acc,'results/valacc_filledCDE42_lr12_GPUex1.pt')\n",
        "# torch.save(train_losses,'results/trainloss_filledCDE42_lr12_GPUex1.pt')\n",
        "# torch.save(val_losses,'results/valloss_filledCDE42_lr12_GPUex1.pt')"
      ],
      "metadata": {
        "id": "Nc4V8Thfw_cV"
      },
      "execution_count": null,
      "outputs": []
    },
    {
      "cell_type": "markdown",
      "source": [
        "# 5. Timing/ memory of model during training only"
      ],
      "metadata": {
        "id": "sj5FCBi-3MOw"
      }
    },
    {
      "cell_type": "code",
      "source": [
        "# From Homework 4\n",
        "import tracemalloc\n",
        "\n",
        "def tracemalloc_start():\n",
        "    tracemalloc.start()\n",
        "\n",
        "def report():\n",
        "    current, peak = tracemalloc.get_traced_memory()\n",
        "    print(f\"Current memory usage is {current / 1024 ** 2} MB; Peak was {peak / 1024 ** 2} MB\")\n",
        "\n",
        "def reset():\n",
        "    tracemalloc.reset_peak()"
      ],
      "metadata": {
        "id": "KLC7zZNVK1At"
      },
      "execution_count": null,
      "outputs": []
    },
    {
      "cell_type": "code",
      "source": [
        "# Zero original memory trace to make sure that measurement is accurate.\n",
        "tracemalloc.clear_traces()\n",
        "print(\"Start memory trace:\")\n",
        "report()\n",
        "tracemalloc.start()\n",
        "initial_time = time.time()"
      ],
      "metadata": {
        "colab": {
          "base_uri": "https://localhost:8080/"
        },
        "id": "3ER26MMq3OWs",
        "outputId": "2d499605-64e1-4cbc-d487-f6c0b9f2bcb2"
      },
      "execution_count": null,
      "outputs": [
        {
          "output_type": "stream",
          "name": "stdout",
          "text": [
            "Start memory trace:\n",
            "Current memory usage is 0.0 MB; Peak was 0.0 MB\n"
          ]
        }
      ]
    },
    {
      "cell_type": "markdown",
      "source": [
        "For the NeuralCDE model, change the train_loader to the train_coeffloader.\n",
        "All other models use the train_loader.\n",
        "\n",
        "Only the time for the model to train is measured (the validation accuracy/losses are removed since they would increase the measured time)"
      ],
      "metadata": {
        "id": "zmPcjCD_Utcz"
      }
    },
    {
      "cell_type": "code",
      "source": [
        "batch_losses, batch_train_acc = [],[]\n",
        "model.train() #Sets model to training mode\n",
        "batch_count=0\n",
        "for xb,yb in train_loader: #coeffloader for CDE and loader for all other models\n",
        "  x_batch = xb.to(device)\n",
        "  y_batch = yb.to(device)\n",
        "  #Compute loss\n",
        "  loss = update(model.to(device), criterion, optimizer, x_batch, y_batch)\n",
        "curr_time=time.time()\n",
        "elapsed_time=round((curr_time-initial_time)/60,5)"
      ],
      "metadata": {
        "id": "yiKdtBdO3VJW"
      },
      "execution_count": null,
      "outputs": []
    },
    {
      "cell_type": "code",
      "source": [
        "report()\n",
        "print(elapsed_time)"
      ],
      "metadata": {
        "id": "qfCvrr8h3fN6",
        "colab": {
          "base_uri": "https://localhost:8080/"
        },
        "outputId": "7ce65545-381c-4313-b160-f6ba11a29768"
      },
      "execution_count": null,
      "outputs": [
        {
          "output_type": "stream",
          "name": "stdout",
          "text": [
            "Current memory usage is 0.1391916275024414 MB; Peak was 0.36115264892578125 MB\n",
            "0.51472\n"
          ]
        }
      ]
    },
    {
      "cell_type": "code",
      "source": [
        "tracemalloc.clear_traces()"
      ],
      "metadata": {
        "id": "INQM-gRm3RrT"
      },
      "execution_count": null,
      "outputs": []
    },
    {
      "cell_type": "markdown",
      "source": [
        "# 6. Evaluation"
      ],
      "metadata": {
        "id": "YInjzFDV153A"
      }
    },
    {
      "cell_type": "markdown",
      "source": [
        "### Run these code blocks to import necessary classification functions"
      ],
      "metadata": {
        "id": "hDdVu84l9Idx"
      }
    },
    {
      "cell_type": "code",
      "source": [
        "def evaluate(model, X_test, Y_test, output_labels):\n",
        "    \"\"\"\n",
        "    Inputs:\n",
        "        model: A Pytorch Module\n",
        "        X_test: A batch of inputs of shape (P, T, F= # features)\n",
        "        Y_test: A batch of ground truth labels of shape (P,T) (integer-valued)\n",
        "    Outputs:\n",
        "        acc: A floating point number of the classification accuracy averaged over this batch\n",
        "    \"\"\"\n",
        "    X_test = X_test.to(device)\n",
        "    print(\"Xtest shape\", X_test.shape)\n",
        "    Y_test = Y_test.to(device)\n",
        "    ytrue_unrolled = yval_unrolled = torch.reshape(Y_test, shape=(-1,))\n",
        "    print(\"ytrue_unrolled shape\", ytrue_unrolled.shape) #reshape to (P*T,)\n",
        "    model.eval()\n",
        "    with torch.no_grad():\n",
        "      Y_pred = model(X_test)\n",
        "      num_samples, num_ts, num_classes = Y_pred.shape\n",
        "      yhat_unrolled = torch.reshape(Y_pred, shape=(-1, num_classes)) #reshape to (P*T, F)\n",
        "      val, indices = torch.max(yhat_unrolled, 1)\n",
        "      indices_off_gpu = indices.detach()\n",
        "      indices = indices_off_gpu.cpu()\n",
        "\n",
        "      y_unrolled_off = ytrue_unrolled.detach()\n",
        "      y_unrolled_off = y_unrolled_off.cpu()\n",
        "      acc = float(torch.sum(indices==y_unrolled_off)/len(ytrue_unrolled))\n",
        "      print('Accuracy', acc)\n",
        "      predicted_counts = [sum(indices.numpy() == i) for i in range(len(output_labels))]\n",
        "      print(predicted_counts)\n",
        "      true_counts = [sum(ytrue_unrolled.cpu().numpy() == i) for i in range(len(output_labels))]\n",
        "      print(true_counts)\n",
        "      return acc, predicted_counts, true_counts, indices,ytrue_unrolled"
      ],
      "metadata": {
        "id": "AriS3lE59J6C"
      },
      "execution_count": null,
      "outputs": []
    },
    {
      "cell_type": "code",
      "source": [
        "def get_classification_metrics(y_test_labels, y_predicted_from_model):\n",
        "  \"\"\"Calculate the true positive counts,\n",
        "  true negative counts, false positive counts, and false negative counts\n",
        "  from the model predictions\n",
        "\n",
        "  Input: list of actual true labels, list of model predictions\n",
        "  Output: Counts of true positive, true negative, false positive,\n",
        "  and false negatives\"\"\"\n",
        "  true_positive,true_negative, false_positive, false_negative = 0,0,0,0\n",
        "  for idx in range(len(y_test_labels)):\n",
        "    if y_test_labels[idx] == y_predicted_from_model[idx]:\n",
        "      if y_predicted_from_model[idx]==1:\n",
        "        true_positive+=1\n",
        "      elif y_predicted_from_model[idx]==0:\n",
        "        true_negative+=1\n",
        "    elif y_test_labels[idx] != y_predicted_from_model[idx]:\n",
        "      if y_predicted_from_model[idx]==1:\n",
        "        false_positive+=1\n",
        "      elif y_predicted_from_model[idx]==0:\n",
        "        false_negative+=1\n",
        "  return true_positive, true_negative, false_positive, false_negative"
      ],
      "metadata": {
        "id": "FmFMKiT0-8q5"
      },
      "execution_count": null,
      "outputs": []
    },
    {
      "cell_type": "code",
      "source": [
        "def precision(tp,fp):\n",
        "  \"\"\"Calculates precision from number of true positives and false positives\n",
        "  from model predictions\"\"\"\n",
        "  precision_val = tp/(tp+fp)\n",
        "  return precision_val\n",
        "\n",
        "def recall(tp,fn):\n",
        "    \"\"\"Calculates precision from number of true positives and false negatives\n",
        "  from model predictions\"\"\"\n",
        "  recall_val = tp/(tp+fn)\n",
        "  return recall_val"
      ],
      "metadata": {
        "id": "zaGNi-wv--Bv"
      },
      "execution_count": null,
      "outputs": []
    },
    {
      "cell_type": "code",
      "source": [
        "from sklearn.metrics import roc_curve, auc, precision_recall_curve, average_precision_score"
      ],
      "metadata": {
        "id": "52fJCiRu-_uI"
      },
      "execution_count": null,
      "outputs": []
    },
    {
      "cell_type": "code",
      "source": [
        "def plot_true_predicted_labels(species_names, true_counts, predicted_counts,title):\n",
        "  \"\"\"\"Plot true and predicted counts for classification labels\n",
        "  (does not take into account the order of the predictions--the timestep where\n",
        "  certain labels were expected to arise)\"\"\"\n",
        "  fig, ax = plt.subplots()\n",
        "  width = 0.35\n",
        "  x = range(len(species_names))\n",
        "\n",
        "  rects1 = ax.bar(x, true_counts, width, label='True Labels')\n",
        "  rects2 = ax.bar([i + width for i in x], predicted_counts, width, label='Predicted Labels')\n",
        "\n",
        "  ax.set_xlabel('Class')\n",
        "  ax.set_ylabel('Counts')\n",
        "  ax.set_title(title)\n",
        "  ax.set_xticks([i + width/2 for i in x])\n",
        "  ax.set_xticklabels(species_names)\n",
        "  ax.legend()\n",
        "\n",
        "  plt.show()"
      ],
      "metadata": {
        "id": "WoM2TAGf0DJY"
      },
      "execution_count": null,
      "outputs": []
    },
    {
      "cell_type": "markdown",
      "source": [
        "## 6A. Classification metrics"
      ],
      "metadata": {
        "id": "N9UlrbT9170g"
      }
    },
    {
      "cell_type": "code",
      "source": [
        "class_labels = ['Non-septic: 0', 'Septic: 1']"
      ],
      "metadata": {
        "id": "GhToPVpx-z_v"
      },
      "execution_count": null,
      "outputs": []
    },
    {
      "cell_type": "code",
      "source": [
        "print(model)"
      ],
      "metadata": {
        "colab": {
          "base_uri": "https://localhost:8080/"
        },
        "id": "QlzQBkikIBaC",
        "outputId": "d369c396-7ce7-441a-a422-ef88305abd92"
      },
      "execution_count": null,
      "outputs": [
        {
          "output_type": "stream",
          "name": "stdout",
          "text": [
            "NeuralCDE(\n",
            "  (func): CDEFunc(\n",
            "    (linear1): Linear(in_features=4, out_features=2, bias=True)\n",
            "    (linear2): Linear(in_features=2, out_features=172, bias=True)\n",
            "  )\n",
            "  (initial): Linear(in_features=43, out_features=4, bias=True)\n",
            "  (readout): Linear(in_features=4, out_features=2, bias=True)\n",
            ")\n"
          ]
        }
      ]
    },
    {
      "cell_type": "code",
      "source": [
        "#For neuralCDE (using test_coeffs_scaled)\n",
        "acc, pred_count, true_count, ypredicted,ytrue = evaluate(model, test_coeffs_scaled, test_labels,class_labels)"
      ],
      "metadata": {
        "colab": {
          "base_uri": "https://localhost:8080/"
        },
        "id": "akx-Wy3aTKko",
        "outputId": "b6e48fb4-c2b0-4e5f-a562-eac1d9bfbb3d"
      },
      "execution_count": null,
      "outputs": [
        {
          "output_type": "stream",
          "name": "stdout",
          "text": [
            "Xtest shape torch.Size([755, 335, 172])\n",
            "ytrue_unrolled shape torch.Size([253680])\n",
            "Accuracy 0.7862740755081177\n",
            "[184652, 69028]\n",
            "[168648, 85032]\n"
          ]
        }
      ]
    },
    {
      "cell_type": "code",
      "source": [
        "# For all models other than NeuralCDE (using test_data_scaled)\n",
        "#acc, pred_count, true_count, ypredicted,ytrue = evaluate(model, test_data_scaled, test_labels,species_names)"
      ],
      "metadata": {
        "id": "32_4c3eO9bQC"
      },
      "execution_count": null,
      "outputs": []
    },
    {
      "cell_type": "code",
      "source": [
        "true_positive, true_negative, false_positive, false_negative = get_classification_metrics(ytrue, ypredicted)"
      ],
      "metadata": {
        "id": "uY8XiW3J_82b"
      },
      "execution_count": null,
      "outputs": []
    },
    {
      "cell_type": "code",
      "source": [
        "print('Final test accuracy:', acc)"
      ],
      "metadata": {
        "colab": {
          "base_uri": "https://localhost:8080/"
        },
        "id": "WB6TnnRs-y69",
        "outputId": "8b6e0155-4795-43ec-93e6-0a112aee2f51"
      },
      "execution_count": null,
      "outputs": [
        {
          "output_type": "stream",
          "name": "stdout",
          "text": [
            "Final test accuracy: 0.7862740755081177\n"
          ]
        }
      ]
    },
    {
      "cell_type": "code",
      "source": [
        "print('Precision:', precision(true_positive, false_positive))\n",
        "\n",
        "print('Recall:', recall(true_positive, false_negative))"
      ],
      "metadata": {
        "colab": {
          "base_uri": "https://localhost:8080/"
        },
        "id": "SUJ4toev-3-4",
        "outputId": "8d3a110f-9b02-477b-90c8-a4af4c89b6cb"
      },
      "execution_count": null,
      "outputs": [
        {
          "output_type": "stream",
          "name": "stdout",
          "text": [
            "Precision: 0.7231992814510054\n",
            "Recall: 0.5870848621695361\n"
          ]
        }
      ]
    },
    {
      "cell_type": "code",
      "source": [
        "precision, recall, thresholds = precision_recall_curve(ytrue.cpu(), ypredicted.cpu())\n",
        "plt.fill_between(recall, precision)\n",
        "plt.ylabel(\"Precision\")\n",
        "plt.xlabel(\"Recall\")\n",
        "plt.title(\"Train Precision-Recall curve\");"
      ],
      "metadata": {
        "colab": {
          "base_uri": "https://localhost:8080/",
          "height": 472
        },
        "id": "1tV5BQn9-52v",
        "outputId": "fe01e96b-a7a4-46ca-ea72-e363d761b109"
      },
      "execution_count": null,
      "outputs": [
        {
          "output_type": "display_data",
          "data": {
            "text/plain": [
              "<Figure size 640x480 with 1 Axes>"
            ],
            "image/png": "[encoded data removed]"
          },
          "metadata": {}
        }
      ]
    },
    {
      "cell_type": "code",
      "source": [
        "plot_true_predicted_labels(class_labels, true_count, pred_count,'RNN (Imputed data)')"
      ],
      "metadata": {
        "colab": {
          "base_uri": "https://localhost:8080/",
          "height": 472
        },
        "id": "TYXRltwN_1jU",
        "outputId": "69c70f98-6441-4137-a181-c60db56a3089"
      },
      "execution_count": null,
      "outputs": [
        {
          "output_type": "display_data",
          "data": {
            "text/plain": [
              "<Figure size 640x480 with 1 Axes>"
            ],
            "image/png": "[encoded data removed]"
          },
          "metadata": {}
        }
      ]
    },
    {
      "cell_type": "code",
      "source": [
        "y_test=ytrue\n",
        "y_score=ypredicted\n",
        "# Calculate the ROC curve\n",
        "fpr, tpr, _ = roc_curve(y_test.cpu(), y_score.cpu())\n",
        "roc_auc = auc(fpr, tpr)"
      ],
      "metadata": {
        "colab": {
          "base_uri": "https://localhost:8080/",
          "height": 487
        },
        "id": "ZH1jusy-_qfr",
        "outputId": "da043b5c-5c8f-4dfd-a171-a08ffcee9ab0"
      },
      "execution_count": null,
      "outputs": [
        {
          "output_type": "display_data",
          "data": {
            "text/plain": [
              "<Figure size 1000x500 with 2 Axes>"
            ],
            "image/png": "[encoded data removed]"
          },
          "metadata": {}
        }
      ]
    },
    {
      "cell_type": "code",
      "source": [
        "print('Area under the receiver operating curve metric', roc_auc)"
      ],
      "metadata": {
        "colab": {
          "base_uri": "https://localhost:8080/"
        },
        "id": "Tdjio8CA_t2x",
        "outputId": "0a13e192-8475-45cc-d5b5-7dddbc19c11d"
      },
      "execution_count": null,
      "outputs": [
        {
          "output_type": "stream",
          "name": "stdout",
          "text": [
            "ROCAUC metric 0.7368948574402541\n"
          ]
        }
      ]
    },
    {
      "cell_type": "code",
      "source": [
        "# Calculate the Precision-Recall curve\n",
        "precision, recall, _ = precision_recall_curve(y_test.cpu(), y_score.cpu())\n",
        "pr_auc = average_precision_score(y_test.cpu(), y_score.cpu())\n",
        "\n",
        "# Plot the ROC curve\n",
        "plt.figure(figsize=(10,5))\n",
        "plt.subplot(1,2,1)\n",
        "plt.plot(fpr, tpr, color='darkorange', lw=2, label='ROC curve (AUC = %0.2f)' % roc_auc)\n",
        "plt.plot([0, 1], [0, 1], color='navy', lw=2, linestyle='--')\n",
        "plt.xlim([0.0, 1.0])\n",
        "plt.ylim([0.0, 1.05])\n",
        "plt.xlabel('False Positive Rate')\n",
        "plt.ylabel('True Positive Rate')\n",
        "plt.title('ROC Curve')\n",
        "plt.legend(loc=\"lower right\")\n",
        "\n",
        "# Plot the Precision-Recall curve\n",
        "plt.subplot(1,2,2)\n",
        "plt.plot(recall, precision, color='darkorange', lw=2, label='PR curve (AUC = %0.2f)' % pr_auc)\n",
        "plt.xlim([0.0, 1.0])\n",
        "plt.ylim([0.0, 1.05])\n",
        "plt.xlabel('Recall')\n",
        "plt.ylabel('Precision')\n",
        "plt.title('Precision-Recall Curve')\n",
        "plt.legend(loc=\"lower right\")\n",
        "plt.show()"
      ],
      "metadata": {
        "id": "b9uQj1hphS_E"
      },
      "execution_count": null,
      "outputs": []
    },
    {
      "cell_type": "markdown",
      "source": [
        "## 6B. Shapley explainability"
      ],
      "metadata": {
        "id": "fDYGHVzh1-XE"
      }
    },
    {
      "cell_type": "code",
      "source": [
        "import pandas as pd\n",
        "import shap\n",
        "print(shap.__version__)"
      ],
      "metadata": {
        "colab": {
          "base_uri": "https://localhost:8080/"
        },
        "id": "8ciQ5hBL4dAp",
        "outputId": "56a8cdc4-17b0-492e-8f3a-eb9db32c7685"
      },
      "execution_count": 74,
      "outputs": [
        {
          "output_type": "stream",
          "name": "stdout",
          "text": [
            "0.44.0\n"
          ]
        }
      ]
    },
    {
      "cell_type": "code",
      "source": [
        "train_coeffs_scaled.shape"
      ],
      "metadata": {
        "colab": {
          "base_uri": "https://localhost:8080/"
        },
        "id": "QJPhVkF_KmYJ",
        "outputId": "cc648297-3521-46c0-c593-3dc10185b957"
      },
      "execution_count": 75,
      "outputs": [
        {
          "output_type": "execute_result",
          "data": {
            "text/plain": [
              "torch.Size([5497, 335, 336])"
            ]
          },
          "metadata": {},
          "execution_count": 75
        }
      ]
    },
    {
      "cell_type": "markdown",
      "source": [
        "Generate random test and training poitns (subset for all models except for the NeuralODE model, which trains quickly on the entire training and test set)"
      ],
      "metadata": {
        "id": "3T-EzdK3RLRU"
      }
    },
    {
      "cell_type": "code",
      "source": [
        "random_train_indices = torch.randint(low=0, high=5490, size=(150,))\n",
        "random_test_indices = torch.randint(low=0, high=750, size=(150,))"
      ],
      "metadata": {
        "id": "EVq64V36j7JG"
      },
      "execution_count": 87,
      "outputs": []
    },
    {
      "cell_type": "markdown",
      "source": [
        "For Neural CDE use train_coeffs_scaled and test_coeffs_scaled as input.\n",
        "\n",
        "For all other models use train_data_scaled and test_data scaled.\n",
        "\n",
        "Note that the last time step is selected in order to compare the explainability values for the final sepsis prediction, but other time indices could be used (from 0 to 336 in second index of the train_data_scaled matrix)."
      ],
      "metadata": {
        "id": "2BSS03C6RHR0"
      }
    },
    {
      "cell_type": "code",
      "source": [
        "subset_X_train = train_coeffs_scaled[random_train_indices]\n",
        "print(subset_X_train.shape)\n",
        "last_step_X_train = subset_X_train[:,-1:,:]\n",
        "print(last_step_X_train.shape)\n",
        "subset_X_train_reshaped = torch.reshape(last_step_X_train, shape=(-1,336))\n",
        "last_step_X_test = test_coeffs_scaled[:,-1:,:][random_test_indices].squeeze(1)\n",
        "print(last_step_X_test.shape)\n",
        "last_step_X_test_pd = pd.DataFrame(last_step_X_test)\n",
        "last_step_X_train.squeeze(1).shape\n",
        "\n"
      ],
      "metadata": {
        "colab": {
          "base_uri": "https://localhost:8080/"
        },
        "id": "4BxkSpBX4dcb",
        "outputId": "200df89e-3291-4890-9d8f-84e02671a4d8"
      },
      "execution_count": 88,
      "outputs": [
        {
          "output_type": "stream",
          "name": "stdout",
          "text": [
            "torch.Size([150, 335, 336])\n",
            "torch.Size([150, 1, 336])\n",
            "torch.Size([150, 336])\n"
          ]
        },
        {
          "output_type": "execute_result",
          "data": {
            "text/plain": [
              "torch.Size([150, 336])"
            ]
          },
          "metadata": {},
          "execution_count": 88
        }
      ]
    },
    {
      "cell_type": "code",
      "source": [
        "print(subset_X_train_reshaped.shape)"
      ],
      "metadata": {
        "colab": {
          "base_uri": "https://localhost:8080/"
        },
        "id": "I86WLqC4Kdv6",
        "outputId": "b55628cf-7bdd-4a00-ea20-6117c038a4e4"
      },
      "execution_count": 89,
      "outputs": [
        {
          "output_type": "stream",
          "name": "stdout",
          "text": [
            "torch.Size([150, 336])\n"
          ]
        }
      ]
    },
    {
      "cell_type": "code",
      "source": [
        "# Train SHAP explainer on training data\n",
        "explainer = shap.KernelExplainer(model.predict, np.array(subset_X_train_reshaped))"
      ],
      "metadata": {
        "colab": {
          "base_uri": "https://localhost:8080/"
        },
        "id": "OJhYD9n1N_M0",
        "outputId": "7db8c432-8415-4c4c-edf8-69b920222e3f"
      },
      "execution_count": 90,
      "outputs": [
        {
          "output_type": "stream",
          "name": "stderr",
          "text": [
            "WARNING:shap:Using 150 background data samples could cause slower run times. Consider using shap.sample(data, K) or shap.kmeans(data, K) to summarize the background as K samples.\n"
          ]
        }
      ]
    },
    {
      "cell_type": "code",
      "source": [
        "# Train SHAP explainer on test data\n",
        "shap_values = explainer.shap_values(np.array(last_step_X_test_pd))\n"
      ],
      "metadata": {
        "id": "d79vaTmN55RJ",
        "colab": {
          "base_uri": "https://localhost:8080/",
          "height": 49,
          "referenced_widgets": [
            "633dc50669ed460084083b41fa05ebc8",
            "354b6f12c8f445f5913949fc905fc460",
            "4a0705afa1fc4a80b07d6ddab7cf5df8",
            "c871bbdecaa24836936f262a2de80628",
            "97ac36f987d940b4ba65881ba5ace62d",
            "aee3a95f78e14ab09224101826bd22fc",
            "3185969c346d4370830c2834e95a6c2c",
            "33b4e124bc09475b8a417ebfb1bb861d",
            "a7d722bac5164ad993326393f9c2882a",
            "5690eb0e4e1b4adaa3180b33bd374b6d",
            "fa48097a13f54000aba6374875ac4e5e"
          ]
        },
        "outputId": "eb8a899d-f63c-4c8f-bb6f-3eaffab8e4ef"
      },
      "execution_count": 91,
      "outputs": [
        {
          "output_type": "display_data",
          "data": {
            "text/plain": [
              "  0%|          | 0/150 [00:00<?, ?it/s]"
            ],
            "application/vnd.jupyter.widget-view+json": {
              "version_major": 2,
              "version_minor": 0,
              "model_id": "633dc50669ed460084083b41fa05ebc8"
            }
          },
          "metadata": {}
        }
      ]
    },
    {
      "cell_type": "code",
      "source": [
        "shap.summary_plot(shap_values, plot_type=\"bar\")"
      ],
      "metadata": {
        "colab": {
          "base_uri": "https://localhost:8080/",
          "height": 957
        },
        "id": "5ystcEbBNYk4",
        "outputId": "2a59a0a9-e58a-4277-bf0a-3688da4fff46"
      },
      "execution_count": 92,
      "outputs": [
        {
          "output_type": "display_data",
          "data": {
            "text/plain": [
              "<Figure size 800x950 with 1 Axes>"
            ],
            "image/png": "[encoded data removed]"
          },
          "metadata": {}
        }
      ]
    },
    {
      "cell_type": "code",
      "source": [
        "# For RNN, LSTM, and Neural ODE Models display feature labels\n",
        "shap.summary_plot(shap_values, last_step_X_test,feature_names=input_feature_labels,max_display=30)\n"
      ],
      "metadata": {
        "id": "6kiwVSf6NUx8"
      },
      "execution_count": null,
      "outputs": []
    },
    {
      "cell_type": "markdown",
      "source": [
        "For the Neural CDE model, the input feature labels will not work directly as in input to feature_names because there are 4*#features for the hermite coefficients.\n",
        "\n",
        "Luckily the first F coefficients correspond to the same feature labels (the next F coefficients correspond to the derivative of features with respect to time). Therefore, it is possible to manually print the input_feature_labels corresponding to the indices in the plot.\n",
        "\n",
        "For example, if Feature 7 is important in the SHAP summary plot, display the actual label for that feature by printing input_feature_label[7].\n",
        "\n",
        "This works under the assumption that the higher order terms in the hermite coefficients"
      ],
      "metadata": {
        "id": "NNN9iS_aNrkG"
      }
    },
    {
      "cell_type": "code",
      "source": [
        "# For the NeuralCDE model\n",
        "shap.summary_plot(shap_values, last_step_X_test)"
      ],
      "metadata": {
        "colab": {
          "base_uri": "https://localhost:8080/",
          "height": 957
        },
        "id": "XKup5XpytpSA",
        "outputId": "85a34a7f-1adc-46df-ddde-4ceac55d05a2"
      },
      "execution_count": 93,
      "outputs": [
        {
          "output_type": "display_data",
          "data": {
            "text/plain": [
              "<Figure size 800x950 with 2 Axes>"
            ],
            "image/png": "[encoded data removed]"
          },
          "metadata": {}
        }
      ]
    }
  ],
  "metadata": {
    "colab": {
      "collapsed_sections": [
        "5-9Bq37-HJaI",
        "iqdYbwWsJr_C",
        "hhl8k_MEvz4u",
        "42JhrlJAv18o",
        "zgceItJ0LVt0",
        "vWNKTCndNnqn",
        "Wiq83ZBW0qo1",
        "-HVL2AQp5TI2",
        "hfm7otsnWixa",
        "hGdfVAuy03hx",
        "OamOGk_T069t",
        "jAb0Xl701rXS",
        "AKHbsyGa9k3N",
        "t_VHGHlNWqIz",
        "YE5lsRTKWYKo",
        "xI0LzyK-1Ih2",
        "kau0bVDPVyoh",
        "2yvaxKusGNAN",
        "fABOYPSNWRGg",
        "fY0_TYFeAdpo",
        "sj5FCBi-3MOw",
        "hDdVu84l9Idx",
        "fDYGHVzh1-XE"
      ],
      "provenance": [],
      "machine_shape": "hm"
    },
    "kernelspec": {
      "display_name": "Python 3",
      "name": "python3"
    },
    "language_info": {
      "name": "python"
    },
    "widgets": {
      "application/vnd.jupyter.widget-state+json": {
        "633dc50669ed460084083b41fa05ebc8": {
          "model_module": "@jupyter-widgets/controls",
          "model_name": "HBoxModel",
          "model_module_version": "1.5.0",
          "state": {
            "_dom_classes": [],
            "_model_module": "@jupyter-widgets/controls",
            "_model_module_version": "1.5.0",
            "_model_name": "HBoxModel",
            "_view_count": null,
            "_view_module": "@jupyter-widgets/controls",
            "_view_module_version": "1.5.0",
            "_view_name": "HBoxView",
            "box_style": "",
            "children": [
              "IPY_MODEL_354b6f12c8f445f5913949fc905fc460",
              "IPY_MODEL_4a0705afa1fc4a80b07d6ddab7cf5df8",
              "IPY_MODEL_c871bbdecaa24836936f262a2de80628"
            ],
            "layout": "IPY_MODEL_97ac36f987d940b4ba65881ba5ace62d"
          }
        },
        "354b6f12c8f445f5913949fc905fc460": {
          "model_module": "@jupyter-widgets/controls",
          "model_name": "HTMLModel",
          "model_module_version": "1.5.0",
          "state": {
            "_dom_classes": [],
            "_model_module": "@jupyter-widgets/controls",
            "_model_module_version": "1.5.0",
            "_model_name": "HTMLModel",
            "_view_count": null,
            "_view_module": "@jupyter-widgets/controls",
            "_view_module_version": "1.5.0",
            "_view_name": "HTMLView",
            "description": "",
            "description_tooltip": null,
            "layout": "IPY_MODEL_aee3a95f78e14ab09224101826bd22fc",
            "placeholder": "​",
            "style": "IPY_MODEL_3185969c346d4370830c2834e95a6c2c",
            "value": "100%"
          }
        },
        "4a0705afa1fc4a80b07d6ddab7cf5df8": {
          "model_module": "@jupyter-widgets/controls",
          "model_name": "FloatProgressModel",
          "model_module_version": "1.5.0",
          "state": {
            "_dom_classes": [],
            "_model_module": "@jupyter-widgets/controls",
            "_model_module_version": "1.5.0",
            "_model_name": "FloatProgressModel",
            "_view_count": null,
            "_view_module": "@jupyter-widgets/controls",
            "_view_module_version": "1.5.0",
            "_view_name": "ProgressView",
            "bar_style": "success",
            "description": "",
            "description_tooltip": null,
            "layout": "IPY_MODEL_33b4e124bc09475b8a417ebfb1bb861d",
            "max": 150,
            "min": 0,
            "orientation": "horizontal",
            "style": "IPY_MODEL_a7d722bac5164ad993326393f9c2882a",
            "value": 150
          }
        },
        "c871bbdecaa24836936f262a2de80628": {
          "model_module": "@jupyter-widgets/controls",
          "model_name": "HTMLModel",
          "model_module_version": "1.5.0",
          "state": {
            "_dom_classes": [],
            "_model_module": "@jupyter-widgets/controls",
            "_model_module_version": "1.5.0",
            "_model_name": "HTMLModel",
            "_view_count": null,
            "_view_module": "@jupyter-widgets/controls",
            "_view_module_version": "1.5.0",
            "_view_name": "HTMLView",
            "description": "",
            "description_tooltip": null,
            "layout": "IPY_MODEL_5690eb0e4e1b4adaa3180b33bd374b6d",
            "placeholder": "​",
            "style": "IPY_MODEL_fa48097a13f54000aba6374875ac4e5e",
            "value": " 150/150 [11:44&lt;00:00,  4.63s/it]"
          }
        },
        "97ac36f987d940b4ba65881ba5ace62d": {
          "model_module": "@jupyter-widgets/base",
          "model_name": "LayoutModel",
          "model_module_version": "1.2.0",
          "state": {
            "_model_module": "@jupyter-widgets/base",
            "_model_module_version": "1.2.0",
            "_model_name": "LayoutModel",
            "_view_count": null,
            "_view_module": "@jupyter-widgets/base",
            "_view_module_version": "1.2.0",
            "_view_name": "LayoutView",
            "align_content": null,
            "align_items": null,
            "align_self": null,
            "border": null,
            "bottom": null,
            "display": null,
            "flex": null,
            "flex_flow": null,
            "grid_area": null,
            "grid_auto_columns": null,
            "grid_auto_flow": null,
            "grid_auto_rows": null,
            "grid_column": null,
            "grid_gap": null,
            "grid_row": null,
            "grid_template_areas": null,
            "grid_template_columns": null,
            "grid_template_rows": null,
            "height": null,
            "justify_content": null,
            "justify_items": null,
            "left": null,
            "margin": null,
            "max_height": null,
            "max_width": null,
            "min_height": null,
            "min_width": null,
            "object_fit": null,
            "object_position": null,
            "order": null,
            "overflow": null,
            "overflow_x": null,
            "overflow_y": null,
            "padding": null,
            "right": null,
            "top": null,
            "visibility": null,
            "width": null
          }
        },
        "aee3a95f78e14ab09224101826bd22fc": {
          "model_module": "@jupyter-widgets/base",
          "model_name": "LayoutModel",
          "model_module_version": "1.2.0",
          "state": {
            "_model_module": "@jupyter-widgets/base",
            "_model_module_version": "1.2.0",
            "_model_name": "LayoutModel",
            "_view_count": null,
            "_view_module": "@jupyter-widgets/base",
            "_view_module_version": "1.2.0",
            "_view_name": "LayoutView",
            "align_content": null,
            "align_items": null,
            "align_self": null,
            "border": null,
            "bottom": null,
            "display": null,
            "flex": null,
            "flex_flow": null,
            "grid_area": null,
            "grid_auto_columns": null,
            "grid_auto_flow": null,
            "grid_auto_rows": null,
            "grid_column": null,
            "grid_gap": null,
            "grid_row": null,
            "grid_template_areas": null,
            "grid_template_columns": null,
            "grid_template_rows": null,
            "height": null,
            "justify_content": null,
            "justify_items": null,
            "left": null,
            "margin": null,
            "max_height": null,
            "max_width": null,
            "min_height": null,
            "min_width": null,
            "object_fit": null,
            "object_position": null,
            "order": null,
            "overflow": null,
            "overflow_x": null,
            "overflow_y": null,
            "padding": null,
            "right": null,
            "top": null,
            "visibility": null,
            "width": null
          }
        },
        "3185969c346d4370830c2834e95a6c2c": {
          "model_module": "@jupyter-widgets/controls",
          "model_name": "DescriptionStyleModel",
          "model_module_version": "1.5.0",
          "state": {
            "_model_module": "@jupyter-widgets/controls",
            "_model_module_version": "1.5.0",
            "_model_name": "DescriptionStyleModel",
            "_view_count": null,
            "_view_module": "@jupyter-widgets/base",
            "_view_module_version": "1.2.0",
            "_view_name": "StyleView",
            "description_width": ""
          }
        },
        "33b4e124bc09475b8a417ebfb1bb861d": {
          "model_module": "@jupyter-widgets/base",
          "model_name": "LayoutModel",
          "model_module_version": "1.2.0",
          "state": {
            "_model_module": "@jupyter-widgets/base",
            "_model_module_version": "1.2.0",
            "_model_name": "LayoutModel",
            "_view_count": null,
            "_view_module": "@jupyter-widgets/base",
            "_view_module_version": "1.2.0",
            "_view_name": "LayoutView",
            "align_content": null,
            "align_items": null,
            "align_self": null,
            "border": null,
            "bottom": null,
            "display": null,
            "flex": null,
            "flex_flow": null,
            "grid_area": null,
            "grid_auto_columns": null,
            "grid_auto_flow": null,
            "grid_auto_rows": null,
            "grid_column": null,
            "grid_gap": null,
            "grid_row": null,
            "grid_template_areas": null,
            "grid_template_columns": null,
            "grid_template_rows": null,
            "height": null,
            "justify_content": null,
            "justify_items": null,
            "left": null,
            "margin": null,
            "max_height": null,
            "max_width": null,
            "min_height": null,
            "min_width": null,
            "object_fit": null,
            "object_position": null,
            "order": null,
            "overflow": null,
            "overflow_x": null,
            "overflow_y": null,
            "padding": null,
            "right": null,
            "top": null,
            "visibility": null,
            "width": null
          }
        },
        "a7d722bac5164ad993326393f9c2882a": {
          "model_module": "@jupyter-widgets/controls",
          "model_name": "ProgressStyleModel",
          "model_module_version": "1.5.0",
          "state": {
            "_model_module": "@jupyter-widgets/controls",
            "_model_module_version": "1.5.0",
            "_model_name": "ProgressStyleModel",
            "_view_count": null,
            "_view_module": "@jupyter-widgets/base",
            "_view_module_version": "1.2.0",
            "_view_name": "StyleView",
            "bar_color": null,
            "description_width": ""
          }
        },
        "5690eb0e4e1b4adaa3180b33bd374b6d": {
          "model_module": "@jupyter-widgets/base",
          "model_name": "LayoutModel",
          "model_module_version": "1.2.0",
          "state": {
            "_model_module": "@jupyter-widgets/base",
            "_model_module_version": "1.2.0",
            "_model_name": "LayoutModel",
            "_view_count": null,
            "_view_module": "@jupyter-widgets/base",
            "_view_module_version": "1.2.0",
            "_view_name": "LayoutView",
            "align_content": null,
            "align_items": null,
            "align_self": null,
            "border": null,
            "bottom": null,
            "display": null,
            "flex": null,
            "flex_flow": null,
            "grid_area": null,
            "grid_auto_columns": null,
            "grid_auto_flow": null,
            "grid_auto_rows": null,
            "grid_column": null,
            "grid_gap": null,
            "grid_row": null,
            "grid_template_areas": null,
            "grid_template_columns": null,
            "grid_template_rows": null,
            "height": null,
            "justify_content": null,
            "justify_items": null,
            "left": null,
            "margin": null,
            "max_height": null,
            "max_width": null,
            "min_height": null,
            "min_width": null,
            "object_fit": null,
            "object_position": null,
            "order": null,
            "overflow": null,
            "overflow_x": null,
            "overflow_y": null,
            "padding": null,
            "right": null,
            "top": null,
            "visibility": null,
            "width": null
          }
        },
        "fa48097a13f54000aba6374875ac4e5e": {
          "model_module": "@jupyter-widgets/controls",
          "model_name": "DescriptionStyleModel",
          "model_module_version": "1.5.0",
          "state": {
            "_model_module": "@jupyter-widgets/controls",
            "_model_module_version": "1.5.0",
            "_model_name": "DescriptionStyleModel",
            "_view_count": null,
            "_view_module": "@jupyter-widgets/base",
            "_view_module_version": "1.2.0",
            "_view_name": "StyleView",
            "description_width": ""
          }
        }
      }
    }
  },
  "nbformat": 4,
  "nbformat_minor": 0
}